{
 "cells": [
  {
   "cell_type": "code",
   "execution_count": 1,
   "metadata": {
    "_uuid": "ae0fc0ec5d33da09e00b4333ef557981f0ebae2d"
   },
   "outputs": [],
   "source": [
    "import warnings\n",
    "import os\n",
    "import numpy as np\n",
    "warnings.filterwarnings('ignore')\n",
    "from sklearn.ensemble import ExtraTreesClassifier,VotingClassifier,RandomForestClassifier\n",
    "from sklearn.model_selection import cross_val_score\n",
    "import librosa\n",
    "import pandas as pd"
   ]
  },
  {
   "cell_type": "markdown",
   "metadata": {},
   "source": [
    "# Load Data"
   ]
  },
  {
   "cell_type": "code",
   "execution_count": 11,
   "metadata": {},
   "outputs": [],
   "source": [
    "SAMPLE_RATE = 8000 # 8kHZ\n",
    "DATA_PATH=\"./mypml/digit-prediction-2019/\""
   ]
  },
  {
   "cell_type": "code",
   "execution_count": 12,
   "metadata": {
    "_uuid": "2d048752ed18011cee41fb07ec530f727e9cb881"
   },
   "outputs": [],
   "source": [
    "X_train = np.load(f'{DATA_PATH}x_train.npy') \n",
    "X_test = np.load(f'{DATA_PATH}x_test.npy')\n",
    "y_train = np.load(f'{DATA_PATH}y_train.npy')"
   ]
  },
  {
   "cell_type": "code",
   "execution_count": 13,
   "metadata": {},
   "outputs": [
    {
     "name": "stdout",
     "output_type": "stream",
     "text": [
      "Train: (1000, 10000)\n",
      "Test: (498, 10000)\n",
      "Full: (1498, 10000)\n"
     ]
    }
   ],
   "source": [
    "X = np.concatenate((X_train,X_test))\n",
    "print(f'Train: {X_train.shape}\\nTest: {X_test.shape}\\nFull: {X.shape}')\n",
    "train_size = X_train.shape[0]\n",
    "del X_train,X_test"
   ]
  },
  {
   "cell_type": "code",
   "execution_count": 14,
   "metadata": {},
   "outputs": [
    {
     "data": {
      "text/plain": [
       "1498"
      ]
     },
     "execution_count": 14,
     "metadata": {},
     "output_type": "execute_result"
    }
   ],
   "source": [
    "gmms = [librosa.feature.mfcc(b, sr = SAMPLE_RATE, n_mfcc=20) for b in X]\n",
    "res =[pd.Series(np.hstack((np.mean(gmm, axis=1), np.std(gmm, axis=1)))) for gmm in gmms]\n",
    "len(res)"
   ]
  },
  {
   "cell_type": "markdown",
   "metadata": {},
   "source": [
    "# Model selection"
   ]
  },
  {
   "cell_type": "code",
   "execution_count": null,
   "metadata": {},
   "outputs": [],
   "source": [
    "d_train,d_test=res[:train_size],res[train_size:]"
   ]
  },
  {
   "cell_type": "code",
   "execution_count": null,
   "metadata": {},
   "outputs": [],
   "source": [
    "classifier = VotingClassifier(estimators=\n",
    "                                  [('etc',ExtraTreesClassifier(\n",
    "                                      criterion = 'entropy',\n",
    "                                      n_estimators = 1000,\n",
    "                                      max_features = 'auto',\n",
    "                                      max_depth = 14,\n",
    "                                      min_samples_leaf = 1,\n",
    "                                      min_samples_split = 3,)),\n",
    "                                    ('rfc',RandomForestClassifier(\n",
    "                                        criterion='gini',\n",
    "                                        n_estimators=1000,\n",
    "                                        max_features='log2',\n",
    "                                    max_depth=None))],voting=\"soft\")"
   ]
  },
  {
   "cell_type": "code",
   "execution_count": null,
   "metadata": {},
   "outputs": [],
   "source": [
    "cross_val_score(classifier,d_train,y_train,cv=10).mean()"
   ]
  },
  {
   "cell_type": "markdown",
   "metadata": {},
   "source": [
    "# Submit"
   ]
  },
  {
   "cell_type": "code",
   "execution_count": null,
   "metadata": {},
   "outputs": [],
   "source": [
    "classifier.fit(d_train,y_train)\n",
    "preds = classifier.predict(d_test)"
   ]
  },
  {
   "cell_type": "code",
   "execution_count": null,
   "metadata": {
    "_uuid": "444eaa29b91575595260825fabd514c4e38592a5"
   },
   "outputs": [],
   "source": [
    "with open('prediction.csv', 'w') as out:\n",
    "    print('Id,Label', file=out)\n",
    "    for pair in enumerate(preds, 1):\n",
    "        print('%i,%i' % pair, file=out)"
   ]
  }
 ],
 "metadata": {
  "kernelspec": {
   "display_name": "Python 3",
   "language": "python",
   "name": "python3"
  },
  "language_info": {
   "codemirror_mode": {
    "name": "ipython",
    "version": 3
   },
   "file_extension": ".py",
   "mimetype": "text/x-python",
   "name": "python",
   "nbconvert_exporter": "python",
   "pygments_lexer": "ipython3",
   "version": "3.7.2"
  }
 },
 "nbformat": 4,
 "nbformat_minor": 1
}
