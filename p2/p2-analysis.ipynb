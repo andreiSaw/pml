{
 "cells": [
  {
   "cell_type": "markdown",
   "metadata": {},
   "source": [
    "## P2"
   ]
  },
  {
   "cell_type": "code",
   "execution_count": 1,
   "metadata": {
    "collapsed": true
   },
   "outputs": [],
   "source": [
    "import warnings\n",
    "import os\n",
    "import numpy as np\n",
    "import matplotlib.pyplot as plt\n",
    "import pandas as pd\n",
    "from sklearn.utils import shuffle\n",
    "import seaborn as sns\n",
    "import scipy.stats as stats\n",
    "\n",
    "%matplotlib inline\n",
    "\n",
    "warnings.filterwarnings('ignore')"
   ]
  },
  {
   "cell_type": "code",
   "execution_count": 2,
   "metadata": {
    "collapsed": true
   },
   "outputs": [],
   "source": [
    "DATA_PATH=\"../../data/pml/\""
   ]
  },
  {
   "cell_type": "markdown",
   "metadata": {},
   "source": [
    "# Load Data"
   ]
  },
  {
   "cell_type": "code",
   "execution_count": 3,
   "metadata": {
    "collapsed": true
   },
   "outputs": [],
   "source": [
    "X, y = shuffle(np.load(DATA_PATH+'x_train.npy'), np.load(DATA_PATH+'y_train.npy'))\n",
    "data_test = np.load(DATA_PATH+'x_test.npy')"
   ]
  },
  {
   "cell_type": "code",
   "execution_count": 4,
   "metadata": {
    "collapsed": true
   },
   "outputs": [],
   "source": [
    "columns=X.dtype.names"
   ]
  },
  {
   "cell_type": "code",
   "execution_count": 5,
   "metadata": {
    "collapsed": true
   },
   "outputs": [],
   "source": [
    "df_train=pd.DataFrame(X, columns=columns)\n",
    "df_test=pd.DataFrame(data_test, columns=columns)"
   ]
  },
  {
   "cell_type": "code",
   "execution_count": 6,
   "metadata": {},
   "outputs": [
    {
     "data": {
      "text/html": [
       "<div>\n",
       "<style>\n",
       "    .dataframe thead tr:only-child th {\n",
       "        text-align: right;\n",
       "    }\n",
       "\n",
       "    .dataframe thead th {\n",
       "        text-align: left;\n",
       "    }\n",
       "\n",
       "    .dataframe tbody tr th {\n",
       "        vertical-align: top;\n",
       "    }\n",
       "</style>\n",
       "<table border=\"1\" class=\"dataframe\">\n",
       "  <thead>\n",
       "    <tr style=\"text-align: right;\">\n",
       "      <th></th>\n",
       "      <th>date</th>\n",
       "      <th>bedrooms</th>\n",
       "      <th>bathrooms</th>\n",
       "      <th>sqft_living</th>\n",
       "      <th>sqft_lot</th>\n",
       "      <th>floors</th>\n",
       "      <th>waterfront</th>\n",
       "      <th>condition</th>\n",
       "      <th>grade</th>\n",
       "      <th>sqft_above</th>\n",
       "      <th>sqft_basement</th>\n",
       "      <th>yr_built</th>\n",
       "      <th>yr_renovated</th>\n",
       "      <th>zipcode</th>\n",
       "      <th>lat</th>\n",
       "      <th>long</th>\n",
       "    </tr>\n",
       "  </thead>\n",
       "  <tbody>\n",
       "    <tr>\n",
       "      <th>12608</th>\n",
       "      <td>2014-07-09</td>\n",
       "      <td>3.0</td>\n",
       "      <td>2.00</td>\n",
       "      <td>2783</td>\n",
       "      <td>11177</td>\n",
       "      <td>2.0</td>\n",
       "      <td>False</td>\n",
       "      <td>3</td>\n",
       "      <td>8</td>\n",
       "      <td>2783</td>\n",
       "      <td>0</td>\n",
       "      <td>1910</td>\n",
       "      <td>1999</td>\n",
       "      <td>98126</td>\n",
       "      <td>47.537998</td>\n",
       "      <td>-122.379997</td>\n",
       "    </tr>\n",
       "    <tr>\n",
       "      <th>7632</th>\n",
       "      <td>2014-10-10</td>\n",
       "      <td>3.0</td>\n",
       "      <td>2.75</td>\n",
       "      <td>2480</td>\n",
       "      <td>3240</td>\n",
       "      <td>1.5</td>\n",
       "      <td>False</td>\n",
       "      <td>3</td>\n",
       "      <td>9</td>\n",
       "      <td>1890</td>\n",
       "      <td>590</td>\n",
       "      <td>1929</td>\n",
       "      <td>0</td>\n",
       "      <td>98112</td>\n",
       "      <td>47.639900</td>\n",
       "      <td>-122.310997</td>\n",
       "    </tr>\n",
       "    <tr>\n",
       "      <th>1345</th>\n",
       "      <td>2014-09-19</td>\n",
       "      <td>4.0</td>\n",
       "      <td>1.50</td>\n",
       "      <td>1890</td>\n",
       "      <td>6052</td>\n",
       "      <td>1.0</td>\n",
       "      <td>False</td>\n",
       "      <td>4</td>\n",
       "      <td>7</td>\n",
       "      <td>1890</td>\n",
       "      <td>0</td>\n",
       "      <td>1955</td>\n",
       "      <td>0</td>\n",
       "      <td>98125</td>\n",
       "      <td>47.705502</td>\n",
       "      <td>-122.300003</td>\n",
       "    </tr>\n",
       "    <tr>\n",
       "      <th>7434</th>\n",
       "      <td>2014-06-25</td>\n",
       "      <td>3.0</td>\n",
       "      <td>1.50</td>\n",
       "      <td>1250</td>\n",
       "      <td>7700</td>\n",
       "      <td>1.0</td>\n",
       "      <td>False</td>\n",
       "      <td>5</td>\n",
       "      <td>7</td>\n",
       "      <td>1250</td>\n",
       "      <td>0</td>\n",
       "      <td>1968</td>\n",
       "      <td>0</td>\n",
       "      <td>98056</td>\n",
       "      <td>47.538300</td>\n",
       "      <td>-122.178001</td>\n",
       "    </tr>\n",
       "    <tr>\n",
       "      <th>11442</th>\n",
       "      <td>2014-07-09</td>\n",
       "      <td>3.0</td>\n",
       "      <td>1.00</td>\n",
       "      <td>1200</td>\n",
       "      <td>7800</td>\n",
       "      <td>1.0</td>\n",
       "      <td>False</td>\n",
       "      <td>4</td>\n",
       "      <td>7</td>\n",
       "      <td>1200</td>\n",
       "      <td>0</td>\n",
       "      <td>1954</td>\n",
       "      <td>0</td>\n",
       "      <td>98126</td>\n",
       "      <td>47.519600</td>\n",
       "      <td>-122.371002</td>\n",
       "    </tr>\n",
       "  </tbody>\n",
       "</table>\n",
       "</div>"
      ],
      "text/plain": [
       "             date  bedrooms  bathrooms  sqft_living  sqft_lot  floors  \\\n",
       "12608  2014-07-09       3.0       2.00         2783     11177     2.0   \n",
       "7632   2014-10-10       3.0       2.75         2480      3240     1.5   \n",
       "1345   2014-09-19       4.0       1.50         1890      6052     1.0   \n",
       "7434   2014-06-25       3.0       1.50         1250      7700     1.0   \n",
       "11442  2014-07-09       3.0       1.00         1200      7800     1.0   \n",
       "\n",
       "       waterfront  condition  grade  sqft_above  sqft_basement  yr_built  \\\n",
       "12608       False          3      8        2783              0      1910   \n",
       "7632        False          3      9        1890            590      1929   \n",
       "1345        False          4      7        1890              0      1955   \n",
       "7434        False          5      7        1250              0      1968   \n",
       "11442       False          4      7        1200              0      1954   \n",
       "\n",
       "       yr_renovated  zipcode        lat        long  \n",
       "12608          1999    98126  47.537998 -122.379997  \n",
       "7632              0    98112  47.639900 -122.310997  \n",
       "1345              0    98125  47.705502 -122.300003  \n",
       "7434              0    98056  47.538300 -122.178001  \n",
       "11442             0    98126  47.519600 -122.371002  "
      ]
     },
     "execution_count": 6,
     "metadata": {},
     "output_type": "execute_result"
    }
   ],
   "source": [
    "df_train.sample(5)"
   ]
  },
  {
   "cell_type": "code",
   "execution_count": 7,
   "metadata": {},
   "outputs": [
    {
     "data": {
      "text/html": [
       "<div>\n",
       "<style>\n",
       "    .dataframe thead tr:only-child th {\n",
       "        text-align: right;\n",
       "    }\n",
       "\n",
       "    .dataframe thead th {\n",
       "        text-align: left;\n",
       "    }\n",
       "\n",
       "    .dataframe tbody tr th {\n",
       "        vertical-align: top;\n",
       "    }\n",
       "</style>\n",
       "<table border=\"1\" class=\"dataframe\">\n",
       "  <thead>\n",
       "    <tr style=\"text-align: right;\">\n",
       "      <th></th>\n",
       "      <th>date</th>\n",
       "      <th>bedrooms</th>\n",
       "      <th>bathrooms</th>\n",
       "      <th>sqft_living</th>\n",
       "      <th>sqft_lot</th>\n",
       "      <th>floors</th>\n",
       "      <th>waterfront</th>\n",
       "      <th>condition</th>\n",
       "      <th>grade</th>\n",
       "      <th>sqft_above</th>\n",
       "      <th>sqft_basement</th>\n",
       "      <th>yr_built</th>\n",
       "      <th>yr_renovated</th>\n",
       "      <th>zipcode</th>\n",
       "      <th>lat</th>\n",
       "      <th>long</th>\n",
       "    </tr>\n",
       "  </thead>\n",
       "  <tbody>\n",
       "    <tr>\n",
       "      <th>4903</th>\n",
       "      <td>2014-12-11</td>\n",
       "      <td>3.0</td>\n",
       "      <td>1.50</td>\n",
       "      <td>1840</td>\n",
       "      <td>10125</td>\n",
       "      <td>1.0</td>\n",
       "      <td>False</td>\n",
       "      <td>4</td>\n",
       "      <td>8</td>\n",
       "      <td>1220</td>\n",
       "      <td>620</td>\n",
       "      <td>1959</td>\n",
       "      <td>0</td>\n",
       "      <td>98040</td>\n",
       "      <td>47.560699</td>\n",
       "      <td>-122.217003</td>\n",
       "    </tr>\n",
       "    <tr>\n",
       "      <th>5896</th>\n",
       "      <td>2014-10-31</td>\n",
       "      <td>4.0</td>\n",
       "      <td>3.25</td>\n",
       "      <td>2885</td>\n",
       "      <td>33671</td>\n",
       "      <td>2.0</td>\n",
       "      <td>False</td>\n",
       "      <td>4</td>\n",
       "      <td>8</td>\n",
       "      <td>2885</td>\n",
       "      <td>0</td>\n",
       "      <td>1984</td>\n",
       "      <td>0</td>\n",
       "      <td>98027</td>\n",
       "      <td>47.517399</td>\n",
       "      <td>-122.045998</td>\n",
       "    </tr>\n",
       "    <tr>\n",
       "      <th>2214</th>\n",
       "      <td>2014-06-09</td>\n",
       "      <td>3.0</td>\n",
       "      <td>1.75</td>\n",
       "      <td>2050</td>\n",
       "      <td>3520</td>\n",
       "      <td>1.0</td>\n",
       "      <td>False</td>\n",
       "      <td>4</td>\n",
       "      <td>7</td>\n",
       "      <td>1070</td>\n",
       "      <td>980</td>\n",
       "      <td>1977</td>\n",
       "      <td>0</td>\n",
       "      <td>98136</td>\n",
       "      <td>47.553600</td>\n",
       "      <td>-122.399002</td>\n",
       "    </tr>\n",
       "    <tr>\n",
       "      <th>4454</th>\n",
       "      <td>2014-07-24</td>\n",
       "      <td>3.0</td>\n",
       "      <td>3.00</td>\n",
       "      <td>3730</td>\n",
       "      <td>35900</td>\n",
       "      <td>1.0</td>\n",
       "      <td>False</td>\n",
       "      <td>3</td>\n",
       "      <td>9</td>\n",
       "      <td>2960</td>\n",
       "      <td>770</td>\n",
       "      <td>1979</td>\n",
       "      <td>0</td>\n",
       "      <td>98008</td>\n",
       "      <td>47.581402</td>\n",
       "      <td>-122.122002</td>\n",
       "    </tr>\n",
       "    <tr>\n",
       "      <th>2860</th>\n",
       "      <td>2014-08-26</td>\n",
       "      <td>3.0</td>\n",
       "      <td>2.00</td>\n",
       "      <td>1820</td>\n",
       "      <td>17600</td>\n",
       "      <td>1.0</td>\n",
       "      <td>False</td>\n",
       "      <td>5</td>\n",
       "      <td>7</td>\n",
       "      <td>1820</td>\n",
       "      <td>0</td>\n",
       "      <td>1972</td>\n",
       "      <td>0</td>\n",
       "      <td>98059</td>\n",
       "      <td>47.470299</td>\n",
       "      <td>-122.112000</td>\n",
       "    </tr>\n",
       "  </tbody>\n",
       "</table>\n",
       "</div>"
      ],
      "text/plain": [
       "            date  bedrooms  bathrooms  sqft_living  sqft_lot  floors  \\\n",
       "4903  2014-12-11       3.0       1.50         1840     10125     1.0   \n",
       "5896  2014-10-31       4.0       3.25         2885     33671     2.0   \n",
       "2214  2014-06-09       3.0       1.75         2050      3520     1.0   \n",
       "4454  2014-07-24       3.0       3.00         3730     35900     1.0   \n",
       "2860  2014-08-26       3.0       2.00         1820     17600     1.0   \n",
       "\n",
       "      waterfront  condition  grade  sqft_above  sqft_basement  yr_built  \\\n",
       "4903       False          4      8        1220            620      1959   \n",
       "5896       False          4      8        2885              0      1984   \n",
       "2214       False          4      7        1070            980      1977   \n",
       "4454       False          3      9        2960            770      1979   \n",
       "2860       False          5      7        1820              0      1972   \n",
       "\n",
       "      yr_renovated  zipcode        lat        long  \n",
       "4903             0    98040  47.560699 -122.217003  \n",
       "5896             0    98027  47.517399 -122.045998  \n",
       "2214             0    98136  47.553600 -122.399002  \n",
       "4454             0    98008  47.581402 -122.122002  \n",
       "2860             0    98059  47.470299 -122.112000  "
      ]
     },
     "execution_count": 7,
     "metadata": {},
     "output_type": "execute_result"
    }
   ],
   "source": [
    "df_test.sample(5)"
   ]
  },
  {
   "cell_type": "markdown",
   "metadata": {},
   "source": [
    "## Decrease skewness of Price"
   ]
  },
  {
   "cell_type": "code",
   "execution_count": 8,
   "metadata": {},
   "outputs": [],
   "source": [
    "df_train['Price']=y"
   ]
  },
  {
   "cell_type": "code",
   "execution_count": 9,
   "metadata": {},
   "outputs": [
    {
     "data": {
      "text/plain": [
       "count    1.500000e+04\n",
       "mean     5.405347e+05\n",
       "std      3.670720e+05\n",
       "min      7.500000e+04\n",
       "25%      3.210000e+05\n",
       "50%      4.500000e+05\n",
       "75%      6.450000e+05\n",
       "max      7.700000e+06\n",
       "Name: Price, dtype: float64"
      ]
     },
     "execution_count": 9,
     "metadata": {},
     "output_type": "execute_result"
    }
   ],
   "source": [
    "df_train.Price.describe()"
   ]
  },
  {
   "cell_type": "code",
   "execution_count": 10,
   "metadata": {
    "scrolled": true
   },
   "outputs": [
    {
     "data": {
      "image/png": "[encoded data removed]",
      "text/plain": [
       "<matplotlib.figure.Figure at 0x7f416b11ab38>"
      ]
     },
     "metadata": {},
     "output_type": "display_data"
    }
   ],
   "source": [
    "width, height = 3, 1\n",
    "plt.figure(figsize=(8, 4))\n",
    "\n",
    "plt.subplot(height, width, 1)\n",
    "plt.hist(y, color='blue')\n",
    "name='skew = %s'%df_train.Price.skew()\n",
    "plt.title(name)\n",
    "\n",
    "target = np.log(df_train.Price)\n",
    "plt.subplot(height, width, 2)\n",
    "name='log skew = %s'%target.skew()\n",
    "plt.hist(target)\n",
    "plt.title(name)\n",
    "\n",
    "plt.show()\n",
    "# A value closer to 0 means that we have improved the skewness of the data."
   ]
  },
  {
   "cell_type": "code",
   "execution_count": 11,
   "metadata": {
    "collapsed": true
   },
   "outputs": [],
   "source": [
    "df_train.Price=target"
   ]
  },
  {
   "cell_type": "markdown",
   "metadata": {},
   "source": [
    "# Analysis of Features"
   ]
  },
  {
   "cell_type": "markdown",
   "metadata": {},
   "source": [
    "## Feature analysis (skipped)"
   ]
  },
  {
   "cell_type": "code",
   "execution_count": 12,
   "metadata": {},
   "outputs": [
    {
     "data": {
      "text/plain": [
       "<matplotlib.figure.Figure at 0x7f416b8d4668>"
      ]
     },
     "metadata": {},
     "output_type": "display_data"
    },
    {
     "data": {
      "image/png": "[encoded data removed]",
      "text/plain": [
       "<matplotlib.figure.Figure at 0x7f416b8c0ef0>"
      ]
     },
     "metadata": {},
     "output_type": "display_data"
    }
   ],
   "source": [
    "plt.figure()\n",
    "otl = sns.lmplot('sqft_living', 'Price',data=df_train, fit_reg=False);"
   ]
  },
  {
   "cell_type": "code",
   "execution_count": 13,
   "metadata": {},
   "outputs": [
    {
     "data": {
      "text/html": [
       "<div>\n",
       "<style>\n",
       "    .dataframe thead tr:only-child th {\n",
       "        text-align: right;\n",
       "    }\n",
       "\n",
       "    .dataframe thead th {\n",
       "        text-align: left;\n",
       "    }\n",
       "\n",
       "    .dataframe tbody tr th {\n",
       "        vertical-align: top;\n",
       "    }\n",
       "</style>\n",
       "<table border=\"1\" class=\"dataframe\">\n",
       "  <thead>\n",
       "    <tr style=\"text-align: right;\">\n",
       "      <th></th>\n",
       "      <th>sqft_living</th>\n",
       "      <th>Price</th>\n",
       "    </tr>\n",
       "  </thead>\n",
       "  <tbody>\n",
       "    <tr>\n",
       "      <th>6755</th>\n",
       "      <td>13540</td>\n",
       "      <td>14.639686</td>\n",
       "    </tr>\n",
       "    <tr>\n",
       "      <th>7818</th>\n",
       "      <td>10040</td>\n",
       "      <td>15.770310</td>\n",
       "    </tr>\n",
       "    <tr>\n",
       "      <th>9269</th>\n",
       "      <td>12050</td>\n",
       "      <td>15.856731</td>\n",
       "    </tr>\n",
       "  </tbody>\n",
       "</table>\n",
       "</div>"
      ],
      "text/plain": [
       "      sqft_living      Price\n",
       "6755        13540  14.639686\n",
       "7818        10040  15.770310\n",
       "9269        12050  15.856731"
      ]
     },
     "execution_count": 13,
     "metadata": {},
     "output_type": "execute_result"
    }
   ],
   "source": [
    "df_train[(df_train['Price'] < 3000000) & (df_train['sqft_living'] > 10000)][['sqft_living','Price']]"
   ]
  },
  {
   "cell_type": "code",
   "execution_count": 14,
   "metadata": {},
   "outputs": [
    {
     "data": {
      "text/plain": [
       "(0, 6000000)"
      ]
     },
     "execution_count": 14,
     "metadata": {},
     "output_type": "execute_result"
    },
    {
     "data": {
      "text/plain": [
       "<matplotlib.figure.Figure at 0x7f415d6220f0>"
      ]
     },
     "metadata": {},
     "output_type": "display_data"
    },
    {
     "data": {
      "image/png": "[encoded data removed]",
      "text/plain": [
       "<matplotlib.figure.Figure at 0x7f415d69a630>"
      ]
     },
     "metadata": {},
     "output_type": "display_data"
    }
   ],
   "source": [
    "df_train.drop(df_train[(df_train['sqft_living'] > 9000)].index,inplace=True)\n",
    "plt.figure()\n",
    "otl = sns.lmplot('sqft_living', 'Price',data=df_train, fit_reg=False)\n",
    "plt.xlim(0,9500)\n",
    "plt.ylim(0,6000000)"
   ]
  },
  {
   "cell_type": "code",
   "execution_count": 15,
   "metadata": {},
   "outputs": [
    {
     "name": "stdout",
     "output_type": "stream",
     "text": [
      "(14995, 17)\n"
     ]
    }
   ],
   "source": [
    "y_df=df_train.Price\n",
    "print(df_train.shape)"
   ]
  },
  {
   "cell_type": "code",
   "execution_count": 16,
   "metadata": {},
   "outputs": [
    {
     "data": {
      "image/png": "[encoded data removed]",
      "text/plain": [
       "<matplotlib.figure.Figure at 0x7f415d5c0940>"
      ]
     },
     "metadata": {},
     "output_type": "display_data"
    },
    {
     "data": {
      "image/png": "[encoded data removed]",
      "text/plain": [
       "<matplotlib.figure.Figure at 0x7f415d5c0cf8>"
      ]
     },
     "metadata": {},
     "output_type": "display_data"
    }
   ],
   "source": [
    "sns.distplot(df_train['Price'])\n",
    "plt.title('Price Distribution')\n",
    "plt.ylabel('Frequency')\n",
    "\n",
    "plt.figure()\n",
    "qq = stats.probplot(df_train['Price'], plot=plt)\n",
    "plt.show()"
   ]
  },
  {
   "cell_type": "code",
   "execution_count": 17,
   "metadata": {},
   "outputs": [
    {
     "data": {
      "image/png": "[encoded data removed]",
      "text/plain": [
       "<matplotlib.figure.Figure at 0x7f415d3e4748>"
      ]
     },
     "metadata": {},
     "output_type": "display_data"
    },
    {
     "data": {
      "image/png": "[encoded data removed]",
      "text/plain": [
       "<matplotlib.figure.Figure at 0x7f415d2e7e48>"
      ]
     },
     "metadata": {},
     "output_type": "display_data"
    }
   ],
   "source": [
    "sns.distplot(target)\n",
    "plt.title('Price Distribution')\n",
    "plt.ylabel('Frequency')\n",
    "\n",
    "plt.figure()\n",
    "qq = stats.probplot(target, plot=plt)\n",
    "plt.show()"
   ]
  },
  {
   "cell_type": "markdown",
   "metadata": {},
   "source": [
    "df_train=df_train.drop(['date','waterfront'],axis=1)"
   ]
  },
  {
   "cell_type": "markdown",
   "metadata": {},
   "source": [
    "plt.figure(figsize=(15,5))\n",
    "\n",
    "# correlation table\n",
    "corr_train = df_train.corr()\n",
    "\n",
    "# select top 10 highly correlated variables with SalePrice\n",
    "num = 10\n",
    "col = corr_train.nlargest(num, 'Price')['Price'].index\n",
    "coeff = np.corrcoef(df_train[col].values.T)\n",
    "\n",
    "# heatmap\n",
    "heatmp = sns.heatmap(coeff, annot = True, xticklabels = col.values, yticklabels = col.values, linewidth=2,cmap='PiYG', linecolor='blue')"
   ]
  },
  {
   "cell_type": "code",
   "execution_count": 18,
   "metadata": {
    "collapsed": true
   },
   "outputs": [],
   "source": [
    "# In order to avoid repeating unnecessary codes, for our convenience, let's combine the train and test set.\n",
    "df = pd.concat([df_train.drop('Price',axis=1), df_test]).reset_index()\n",
    "\n",
    "df.drop(['index'],axis=1,inplace=True)"
   ]
  },
  {
   "cell_type": "code",
   "execution_count": 19,
   "metadata": {
    "collapsed": true
   },
   "outputs": [],
   "source": [
    "df['R']=np.sqrt(np.power(df.long,2)+np.power(df.lat,2))\n",
    "df.drop(['long','lat'],axis=1,inplace=True)"
   ]
  },
  {
   "cell_type": "code",
   "execution_count": 20,
   "metadata": {},
   "outputs": [
    {
     "data": {
      "text/html": [
       "<div>\n",
       "<style>\n",
       "    .dataframe thead tr:only-child th {\n",
       "        text-align: right;\n",
       "    }\n",
       "\n",
       "    .dataframe thead th {\n",
       "        text-align: left;\n",
       "    }\n",
       "\n",
       "    .dataframe tbody tr th {\n",
       "        vertical-align: top;\n",
       "    }\n",
       "</style>\n",
       "<table border=\"1\" class=\"dataframe\">\n",
       "  <thead>\n",
       "    <tr style=\"text-align: right;\">\n",
       "      <th></th>\n",
       "      <th>date</th>\n",
       "      <th>bedrooms</th>\n",
       "      <th>bathrooms</th>\n",
       "      <th>sqft_living</th>\n",
       "      <th>sqft_lot</th>\n",
       "      <th>floors</th>\n",
       "      <th>waterfront</th>\n",
       "      <th>condition</th>\n",
       "      <th>grade</th>\n",
       "      <th>sqft_above</th>\n",
       "      <th>sqft_basement</th>\n",
       "      <th>yr_built</th>\n",
       "      <th>yr_renovated</th>\n",
       "      <th>zipcode</th>\n",
       "      <th>R</th>\n",
       "    </tr>\n",
       "  </thead>\n",
       "  <tbody>\n",
       "    <tr>\n",
       "      <th>13740</th>\n",
       "      <td>2014-09-05</td>\n",
       "      <td>4.0</td>\n",
       "      <td>2.50</td>\n",
       "      <td>3420</td>\n",
       "      <td>183387</td>\n",
       "      <td>2.0</td>\n",
       "      <td>False</td>\n",
       "      <td>3</td>\n",
       "      <td>10</td>\n",
       "      <td>3420</td>\n",
       "      <td>0</td>\n",
       "      <td>2000</td>\n",
       "      <td>0</td>\n",
       "      <td>98053</td>\n",
       "      <td>130.943008</td>\n",
       "    </tr>\n",
       "    <tr>\n",
       "      <th>9816</th>\n",
       "      <td>2015-04-29</td>\n",
       "      <td>5.0</td>\n",
       "      <td>3.00</td>\n",
       "      <td>2480</td>\n",
       "      <td>7200</td>\n",
       "      <td>1.0</td>\n",
       "      <td>False</td>\n",
       "      <td>3</td>\n",
       "      <td>7</td>\n",
       "      <td>1560</td>\n",
       "      <td>920</td>\n",
       "      <td>1999</td>\n",
       "      <td>0</td>\n",
       "      <td>98188</td>\n",
       "      <td>131.169556</td>\n",
       "    </tr>\n",
       "    <tr>\n",
       "      <th>2586</th>\n",
       "      <td>2014-08-21</td>\n",
       "      <td>3.0</td>\n",
       "      <td>1.75</td>\n",
       "      <td>1470</td>\n",
       "      <td>27000</td>\n",
       "      <td>1.0</td>\n",
       "      <td>False</td>\n",
       "      <td>3</td>\n",
       "      <td>7</td>\n",
       "      <td>1470</td>\n",
       "      <td>0</td>\n",
       "      <td>1958</td>\n",
       "      <td>0</td>\n",
       "      <td>98198</td>\n",
       "      <td>131.172409</td>\n",
       "    </tr>\n",
       "    <tr>\n",
       "      <th>9512</th>\n",
       "      <td>2015-05-09</td>\n",
       "      <td>4.0</td>\n",
       "      <td>2.00</td>\n",
       "      <td>2380</td>\n",
       "      <td>6122</td>\n",
       "      <td>1.0</td>\n",
       "      <td>False</td>\n",
       "      <td>4</td>\n",
       "      <td>8</td>\n",
       "      <td>1310</td>\n",
       "      <td>1070</td>\n",
       "      <td>1949</td>\n",
       "      <td>0</td>\n",
       "      <td>98199</td>\n",
       "      <td>131.352814</td>\n",
       "    </tr>\n",
       "    <tr>\n",
       "      <th>12867</th>\n",
       "      <td>2014-10-13</td>\n",
       "      <td>4.0</td>\n",
       "      <td>2.25</td>\n",
       "      <td>2480</td>\n",
       "      <td>6000</td>\n",
       "      <td>2.0</td>\n",
       "      <td>False</td>\n",
       "      <td>3</td>\n",
       "      <td>10</td>\n",
       "      <td>2380</td>\n",
       "      <td>100</td>\n",
       "      <td>1929</td>\n",
       "      <td>0</td>\n",
       "      <td>98199</td>\n",
       "      <td>131.349625</td>\n",
       "    </tr>\n",
       "  </tbody>\n",
       "</table>\n",
       "</div>"
      ],
      "text/plain": [
       "             date  bedrooms  bathrooms  sqft_living  sqft_lot  floors  \\\n",
       "13740  2014-09-05       4.0       2.50         3420    183387     2.0   \n",
       "9816   2015-04-29       5.0       3.00         2480      7200     1.0   \n",
       "2586   2014-08-21       3.0       1.75         1470     27000     1.0   \n",
       "9512   2015-05-09       4.0       2.00         2380      6122     1.0   \n",
       "12867  2014-10-13       4.0       2.25         2480      6000     2.0   \n",
       "\n",
       "       waterfront  condition  grade  sqft_above  sqft_basement  yr_built  \\\n",
       "13740       False          3     10        3420              0      2000   \n",
       "9816        False          3      7        1560            920      1999   \n",
       "2586        False          3      7        1470              0      1958   \n",
       "9512        False          4      8        1310           1070      1949   \n",
       "12867       False          3     10        2380            100      1929   \n",
       "\n",
       "       yr_renovated  zipcode           R  \n",
       "13740             0    98053  130.943008  \n",
       "9816              0    98188  131.169556  \n",
       "2586              0    98198  131.172409  \n",
       "9512              0    98199  131.352814  \n",
       "12867             0    98199  131.349625  "
      ]
     },
     "execution_count": 20,
     "metadata": {},
     "output_type": "execute_result"
    }
   ],
   "source": [
    "df.sample(5)"
   ]
  },
  {
   "cell_type": "code",
   "execution_count": 21,
   "metadata": {},
   "outputs": [],
   "source": [
    "from sklearn.preprocessing import LabelEncoder\n",
    "\n",
    "ordinals = ['condition','grade','waterfront']\n",
    "\n",
    "for ordinal in ordinals:\n",
    "    le = LabelEncoder()\n",
    "    le.fit(df[ordinal])\n",
    "    df[ordinal] = le.transform(df[ordinal])"
   ]
  },
  {
   "cell_type": "code",
   "execution_count": 22,
   "metadata": {},
   "outputs": [
    {
     "data": {
      "text/html": [
       "<div>\n",
       "<style>\n",
       "    .dataframe thead tr:only-child th {\n",
       "        text-align: right;\n",
       "    }\n",
       "\n",
       "    .dataframe thead th {\n",
       "        text-align: left;\n",
       "    }\n",
       "\n",
       "    .dataframe tbody tr th {\n",
       "        vertical-align: top;\n",
       "    }\n",
       "</style>\n",
       "<table border=\"1\" class=\"dataframe\">\n",
       "  <thead>\n",
       "    <tr style=\"text-align: right;\">\n",
       "      <th></th>\n",
       "      <th>skewness</th>\n",
       "    </tr>\n",
       "  </thead>\n",
       "  <tbody>\n",
       "    <tr>\n",
       "      <th>sqft_lot</th>\n",
       "      <td>13.089410</td>\n",
       "    </tr>\n",
       "    <tr>\n",
       "      <th>waterfront</th>\n",
       "      <td>11.419649</td>\n",
       "    </tr>\n",
       "    <tr>\n",
       "      <th>yr_renovated</th>\n",
       "      <td>4.554580</td>\n",
       "    </tr>\n",
       "    <tr>\n",
       "      <th>bedrooms</th>\n",
       "      <td>1.975664</td>\n",
       "    </tr>\n",
       "    <tr>\n",
       "      <th>sqft_basement</th>\n",
       "      <td>1.538818</td>\n",
       "    </tr>\n",
       "  </tbody>\n",
       "</table>\n",
       "</div>"
      ],
      "text/plain": [
       "                skewness\n",
       "sqft_lot       13.089410\n",
       "waterfront     11.419649\n",
       "yr_renovated    4.554580\n",
       "bedrooms        1.975664\n",
       "sqft_basement   1.538818"
      ]
     },
     "execution_count": 22,
     "metadata": {},
     "output_type": "execute_result"
    }
   ],
   "source": [
    "# Assign numeric features by excluding non numeric features\n",
    "numeric = df.dtypes[df.dtypes != 'object'].index\n",
    "\n",
    "# Display the skewness of each column and sort the values in descending order \n",
    "skewness = df[numeric].apply(lambda x: x.skew()).sort_values(ascending=False)\n",
    "\n",
    "# Create a dataframe and show 5 most skewed features \n",
    "sk_df = pd.DataFrame(skewness,columns=['skewness'])\n",
    "sk_df['skw'] = abs(sk_df)\n",
    "sk_df.sort_values('skw',ascending=False).drop('skw',axis=1).head()"
   ]
  },
  {
   "cell_type": "code",
   "execution_count": 23,
   "metadata": {
    "collapsed": true
   },
   "outputs": [],
   "source": [
    "skw_feature = skewness[abs(skewness) > 0.5].index\n",
    "\n",
    "# Transform skewed features to normal distribution by taking log(1 + input)\n",
    "df[skw_feature] = np.log1p(df[skw_feature])"
   ]
  },
  {
   "cell_type": "code",
   "execution_count": 24,
   "metadata": {},
   "outputs": [
    {
     "data": {
      "text/html": [
       "<div>\n",
       "<style>\n",
       "    .dataframe thead tr:only-child th {\n",
       "        text-align: right;\n",
       "    }\n",
       "\n",
       "    .dataframe thead th {\n",
       "        text-align: left;\n",
       "    }\n",
       "\n",
       "    .dataframe tbody tr th {\n",
       "        vertical-align: top;\n",
       "    }\n",
       "</style>\n",
       "<table border=\"1\" class=\"dataframe\">\n",
       "  <thead>\n",
       "    <tr style=\"text-align: right;\">\n",
       "      <th></th>\n",
       "      <th>date</th>\n",
       "      <th>bedrooms</th>\n",
       "      <th>bathrooms</th>\n",
       "      <th>sqft_living</th>\n",
       "      <th>sqft_lot</th>\n",
       "      <th>floors</th>\n",
       "      <th>waterfront</th>\n",
       "      <th>condition</th>\n",
       "      <th>grade</th>\n",
       "      <th>sqft_above</th>\n",
       "      <th>sqft_basement</th>\n",
       "      <th>yr_built</th>\n",
       "      <th>yr_renovated</th>\n",
       "      <th>zipcode</th>\n",
       "      <th>R</th>\n",
       "    </tr>\n",
       "  </thead>\n",
       "  <tbody>\n",
       "    <tr>\n",
       "      <th>0</th>\n",
       "      <td>2014-09-15</td>\n",
       "      <td>1.386294</td>\n",
       "      <td>2.50</td>\n",
       "      <td>7.433075</td>\n",
       "      <td>9.763306</td>\n",
       "      <td>1.098612</td>\n",
       "      <td>0.0</td>\n",
       "      <td>1.098612</td>\n",
       "      <td>1.791759</td>\n",
       "      <td>7.433075</td>\n",
       "      <td>0.000000</td>\n",
       "      <td>2003</td>\n",
       "      <td>0.0</td>\n",
       "      <td>98038</td>\n",
       "      <td>4.882061</td>\n",
       "    </tr>\n",
       "    <tr>\n",
       "      <th>1</th>\n",
       "      <td>2014-05-12</td>\n",
       "      <td>1.791759</td>\n",
       "      <td>3.00</td>\n",
       "      <td>8.418698</td>\n",
       "      <td>12.463606</td>\n",
       "      <td>0.916291</td>\n",
       "      <td>0.0</td>\n",
       "      <td>1.386294</td>\n",
       "      <td>2.079442</td>\n",
       "      <td>8.071219</td>\n",
       "      <td>7.193686</td>\n",
       "      <td>2003</td>\n",
       "      <td>0.0</td>\n",
       "      <td>98077</td>\n",
       "      <td>4.883412</td>\n",
       "    </tr>\n",
       "    <tr>\n",
       "      <th>2</th>\n",
       "      <td>2014-10-06</td>\n",
       "      <td>1.386294</td>\n",
       "      <td>2.00</td>\n",
       "      <td>7.252054</td>\n",
       "      <td>8.517393</td>\n",
       "      <td>0.693147</td>\n",
       "      <td>0.0</td>\n",
       "      <td>1.609438</td>\n",
       "      <td>1.791759</td>\n",
       "      <td>6.608001</td>\n",
       "      <td>6.508769</td>\n",
       "      <td>1908</td>\n",
       "      <td>0.0</td>\n",
       "      <td>98107</td>\n",
       "      <td>4.885229</td>\n",
       "    </tr>\n",
       "    <tr>\n",
       "      <th>3</th>\n",
       "      <td>2014-07-21</td>\n",
       "      <td>1.386294</td>\n",
       "      <td>1.50</td>\n",
       "      <td>7.320527</td>\n",
       "      <td>12.748760</td>\n",
       "      <td>0.693147</td>\n",
       "      <td>0.0</td>\n",
       "      <td>1.386294</td>\n",
       "      <td>1.791759</td>\n",
       "      <td>7.320527</td>\n",
       "      <td>0.000000</td>\n",
       "      <td>1964</td>\n",
       "      <td>0.0</td>\n",
       "      <td>98022</td>\n",
       "      <td>4.881626</td>\n",
       "    </tr>\n",
       "    <tr>\n",
       "      <th>4</th>\n",
       "      <td>2015-03-30</td>\n",
       "      <td>1.609438</td>\n",
       "      <td>2.75</td>\n",
       "      <td>7.705713</td>\n",
       "      <td>8.577535</td>\n",
       "      <td>0.693147</td>\n",
       "      <td>0.0</td>\n",
       "      <td>1.609438</td>\n",
       "      <td>1.791759</td>\n",
       "      <td>7.065613</td>\n",
       "      <td>6.957497</td>\n",
       "      <td>1951</td>\n",
       "      <td>0.0</td>\n",
       "      <td>98144</td>\n",
       "      <td>4.884496</td>\n",
       "    </tr>\n",
       "  </tbody>\n",
       "</table>\n",
       "</div>"
      ],
      "text/plain": [
       "         date  bedrooms  bathrooms  sqft_living   sqft_lot    floors  \\\n",
       "0  2014-09-15  1.386294       2.50     7.433075   9.763306  1.098612   \n",
       "1  2014-05-12  1.791759       3.00     8.418698  12.463606  0.916291   \n",
       "2  2014-10-06  1.386294       2.00     7.252054   8.517393  0.693147   \n",
       "3  2014-07-21  1.386294       1.50     7.320527  12.748760  0.693147   \n",
       "4  2015-03-30  1.609438       2.75     7.705713   8.577535  0.693147   \n",
       "\n",
       "   waterfront  condition     grade  sqft_above  sqft_basement  yr_built  \\\n",
       "0         0.0   1.098612  1.791759    7.433075       0.000000      2003   \n",
       "1         0.0   1.386294  2.079442    8.071219       7.193686      2003   \n",
       "2         0.0   1.609438  1.791759    6.608001       6.508769      1908   \n",
       "3         0.0   1.386294  1.791759    7.320527       0.000000      1964   \n",
       "4         0.0   1.609438  1.791759    7.065613       6.957497      1951   \n",
       "\n",
       "   yr_renovated  zipcode         R  \n",
       "0           0.0    98038  4.882061  \n",
       "1           0.0    98077  4.883412  \n",
       "2           0.0    98107  4.885229  \n",
       "3           0.0    98022  4.881626  \n",
       "4           0.0    98144  4.884496  "
      ]
     },
     "execution_count": 24,
     "metadata": {},
     "output_type": "execute_result"
    }
   ],
   "source": [
    "df.head()"
   ]
  },
  {
   "cell_type": "code",
   "execution_count": 25,
   "metadata": {},
   "outputs": [
    {
     "name": "stdout",
     "output_type": "stream",
     "text": [
      "(21608, 386)\n"
     ]
    }
   ],
   "source": [
    "df = pd.get_dummies(df)\n",
    "print(df.shape)"
   ]
  },
  {
   "cell_type": "code",
   "execution_count": 26,
   "metadata": {},
   "outputs": [
    {
     "name": "stdout",
     "output_type": "stream",
     "text": [
      "training shape:(14995, 386), test shape:(6613, 386)\n"
     ]
    }
   ],
   "source": [
    "X_train = df[:df_train.shape[0]]\n",
    "X_test = df[df_train.shape[0]:]\n",
    "print(\"training shape:{}, test shape:{}\".format(X_train.shape,X_test.shape))\n"
   ]
  },
  {
   "cell_type": "markdown",
   "metadata": {},
   "source": [
    "# Preprocessing"
   ]
  },
  {
   "cell_type": "code",
   "execution_count": 37,
   "metadata": {},
   "outputs": [],
   "source": [
    "from sklearn import preprocessing\n",
    "from sklearn.kernel_ridge import KernelRidge\n",
    "from sklearn.model_selection import GridSearchCV,learning_curve, cross_val_score, KFold\n",
    "from sklearn.preprocessing import StandardScaler, RobustScaler\n",
    "from sklearn.svm import SVR\n",
    "from sklearn.ensemble import RandomForestRegressor\n",
    "from sklearn.metrics import accuracy_score, mean_squared_error\n",
    "\n",
    "from sklearn.linear_model import LassoCV,ElasticNetCV,Lasso,ElasticNet\n",
    "\n",
    "from xgboost import XGBRegressor"
   ]
  },
  {
   "cell_type": "code",
   "execution_count": 28,
   "metadata": {
    "collapsed": true
   },
   "outputs": [],
   "source": [
    "scaler = preprocessing.StandardScaler()\n",
    "scaler.fit(X_train)\n",
    "\n",
    "X_train = scaler.transform(X_train)\n",
    "#X_train = RobustScaler().fit_transform(X_train)\n",
    "X_train = pd.DataFrame(X_train, columns = df.columns )\n",
    "\n",
    "X_test = scaler.transform(X_test)\n",
    "X_test = pd.DataFrame(X_test, columns = df.columns)\n",
    "#X_test = RobustScaler().fit_transform(X_test)"
   ]
  },
  {
   "cell_type": "code",
   "execution_count": 29,
   "metadata": {
    "collapsed": true
   },
   "outputs": [],
   "source": [
    "kfold = KFold(n_splits=20, random_state= 0, shuffle = True)"
   ]
  },
  {
   "cell_type": "code",
   "execution_count": 30,
   "metadata": {
    "collapsed": true
   },
   "outputs": [],
   "source": [
    "def rmsle_cv(model):\n",
    "    rmse= np.sqrt(-cross_val_score(model, X_train, y_df, scoring=\"neg_mean_squared_error\", cv = kfold))\n",
    "    return(rmse)"
   ]
  },
  {
   "cell_type": "code",
   "execution_count": 31,
   "metadata": {
    "scrolled": true
   },
   "outputs": [
    {
     "name": "stdout",
     "output_type": "stream",
     "text": [
      "Fitting 20 folds for each of 1 candidates, totalling 20 fits\n"
     ]
    },
    {
     "name": "stderr",
     "output_type": "stream",
     "text": [
      "[Parallel(n_jobs=-1)]: Done  15 out of  20 | elapsed:  2.2min remaining:   43.8s\n",
      "[Parallel(n_jobs=-1)]: Done  20 out of  20 | elapsed:  2.3min finished\n"
     ]
    },
    {
     "name": "stdout",
     "output_type": "stream",
     "text": [
      "KernelRidge(alpha=0.93, coef0=1.5, degree=3, gamma=0.001, kernel='polynomial',\n",
      "      kernel_params=None)\n"
     ]
    }
   ],
   "source": [
    "KR = KernelRidge()\n",
    "\n",
    "KR_param_grid = {\n",
    "    'alpha' : [0.93],\n",
    "    'kernel' : ['polynomial'],\n",
    "    'gamma':[0.001],\n",
    "    'degree': [3],\n",
    "    'coef0': [1.5]\n",
    "}\n",
    "\n",
    "KR_CV = GridSearchCV(KR, param_grid = KR_param_grid, cv = kfold, scoring = \"neg_mean_squared_error\",n_jobs = -1, verbose = 1)\n",
    "KR_CV.fit(X_train, y_df)\n",
    "KR_best = KR_CV.best_estimator_\n",
    "print(KR_best)"
   ]
  },
  {
   "cell_type": "code",
   "execution_count": 32,
   "metadata": {
    "collapsed": true
   },
   "outputs": [],
   "source": [
    "y_submission_1 = np.expm1(KR_best.predict(X_test))"
   ]
  },
  {
   "cell_type": "code",
   "execution_count": 34,
   "metadata": {},
   "outputs": [],
   "source": [
    "import datetime\n",
    "with open(f'prediction{datetime.datetime.now()}.csv', 'w') as out:\n",
    "    print('Id,Price', file=out)\n",
    "    for pair in enumerate(y_submission_1, 1):\n",
    "        print('%i,%d' % pair, file=out)"
   ]
  },
  {
   "cell_type": "code",
   "execution_count": 38,
   "metadata": {},
   "outputs": [
    {
     "name": "stderr",
     "output_type": "stream",
     "text": [
      ".........................................................[Parallel(n_jobs=-1)]: Done   3 out of   3 | elapsed:    0.5s finished\n"
     ]
    },
    {
     "name": "stdout",
     "output_type": "stream",
     "text": [
      "Optimized Alpha: 0.003\n",
      "Final Alpha: 0.0024473684210526317\n"
     ]
    }
   ],
   "source": [
    "lasso = LassoCV(alphas = [0.0001, 0.0003, 0.0005, 0.0008, 0.001, 0.003, 0.007, 0.009, 0.01, 0.03, 0.05, 0.07, 0.09, 0.2, 0.4, 0.6, 0.8, 1, 1.2], random_state = 1, n_jobs = -1, verbose = 1)\n",
    "lasso.fit(X_train, y_df)\n",
    "alpha = lasso.alpha_\n",
    "print(\"Optimized Alpha:\", alpha)\n",
    "\n",
    "lasso = LassoCV(alphas = alpha * np.linspace(0.5,1.5,20), cv = kfold, random_state = 1, n_jobs = -1)\n",
    "lasso.fit(X_train, y_df)\n",
    "alpha = lasso.alpha_\n",
    "print(\"Final Alpha:\", alpha)"
   ]
  },
  {
   "cell_type": "code",
   "execution_count": 39,
   "metadata": {
    "collapsed": true
   },
   "outputs": [],
   "source": [
    "y_submission_2 = np.expm1(lasso.predict(X_test))\n",
    "with open(f'prediction{datetime.datetime.now()}.csv', 'w') as out:\n",
    "    print('Id,Price', file=out)\n",
    "    for pair in enumerate(y_submission_2, 1):\n",
    "        print('%i,%d' % pair, file=out)"
   ]
  },
  {
   "cell_type": "code",
   "execution_count": 40,
   "metadata": {},
   "outputs": [
    {
     "name": "stdout",
     "output_type": "stream",
     "text": [
      "Optimized Alpha: 0.003\n",
      "Optimized l1_ratio: 0.9\n",
      "Final Alpha: 0.002763157894736842\n",
      "Final l1_ratio: 0.882\n"
     ]
    }
   ],
   "source": [
    "elnet = ElasticNetCV(alphas = [0.0001, 0.0003, 0.0005, 0.0008, 0.001, 0.003, 0.007, 0.009, 0.01, 0.03, 0.05, 0.07, 0.09, 0.2, 0.4, 0.6, 0.8, 1, 1.2] \n",
    "                ,l1_ratio = [0.1, 0.3, 0.5, 0.7, 0.9, 1]\n",
    "                ,cv = kfold, random_state = 1, n_jobs = -1)\n",
    "elnet.fit(X_train, y_df)\n",
    "alpha = elnet.alpha_\n",
    "ratio = elnet.l1_ratio_\n",
    "print(\"Optimized Alpha:\", alpha)\n",
    "print(\"Optimized l1_ratio:\", ratio)\n",
    "\n",
    "elnet = ElasticNetCV(alphas = alpha * np.linspace(0.5,1.5,20), l1_ratio = ratio * np.linspace(0.9,1.3,6), \n",
    "                     cv = kfold, random_state = 1, n_jobs = -1)\n",
    "elnet.fit(X_train, y_df)\n",
    "\n",
    "alpha = elnet.alpha_\n",
    "ratio = elnet.l1_ratio_\n",
    "\n",
    "print(\"Final Alpha:\", alpha)\n",
    "print(\"Final l1_ratio:\", ratio)"
   ]
  },
  {
   "cell_type": "code",
   "execution_count": 41,
   "metadata": {
    "collapsed": true
   },
   "outputs": [],
   "source": [
    "y_submission_3 = np.expm1(elnet.predict(X_test))\n",
    "with open(f'prediction{datetime.datetime.now()}.csv', 'w') as out:\n",
    "    print('Id,Price', file=out)\n",
    "    for pair in enumerate(y_submission_3, 1):\n",
    "        print('%i,%d' % pair, file=out)"
   ]
  },
  {
   "cell_type": "code",
   "execution_count": 42,
   "metadata": {},
   "outputs": [
    {
     "name": "stdout",
     "output_type": "stream",
     "text": [
      "Fitting 20 folds for each of 1 candidates, totalling 20 fits\n"
     ]
    },
    {
     "name": "stderr",
     "output_type": "stream",
     "text": [
      "[Parallel(n_jobs=-1)]: Done  15 out of  20 | elapsed:  1.1min remaining:   22.9s\n",
      "[Parallel(n_jobs=-1)]: Done  20 out of  20 | elapsed:  1.2min finished\n"
     ]
    },
    {
     "name": "stdout",
     "output_type": "stream",
     "text": [
      "{'colsample_bytree': 0.7, 'gamma': 0, 'learning_rate': 0.04, 'max_depth': 3, 'min_child_weight': 0.2, 'n_estimators': 870, 'subsample': 0.8}\n"
     ]
    }
   ],
   "source": [
    "XGB = XGBRegressor()\n",
    "\n",
    "xg_param_grid = {\n",
    "              'n_estimators' :[870],\n",
    "              'learning_rate': [0.04],\n",
    "              \n",
    "              'max_depth': [3],\n",
    "              'min_child_weight':[0.2],\n",
    "              \n",
    "              'gamma': [0],\n",
    "                \n",
    "              'subsample':[0.8],\n",
    "              'colsample_bytree':[0.7]\n",
    "    \n",
    "              #'reg_alpha':[0.08,0.09,0.095,0.1,0.15,0.2],\n",
    "              #'reg_lambda':[0,0.001,0.002]\n",
    "              }\n",
    "                \n",
    "gsXGB = GridSearchCV(XGB,param_grid = xg_param_grid, cv=kfold, scoring=\"neg_mean_squared_error\", n_jobs= -1, verbose = 1)\n",
    "gsXGB.fit(X_train,y_df)\n",
    "XGB_best = gsXGB.best_estimator_\n",
    "print(gsXGB.best_params_)"
   ]
  },
  {
   "cell_type": "code",
   "execution_count": 44,
   "metadata": {
    "collapsed": true
   },
   "outputs": [],
   "source": [
    "y_submission_6 = np.exp(gsXGB.predict(X_test))\n",
    "with open(f'prediction{datetime.datetime.now()}.csv', 'w') as out:\n",
    "    print('Id,Price', file=out)\n",
    "    for pair in enumerate(y_submission_6, 1):\n",
    "        print('%i,%d' % pair, file=out)"
   ]
  },
  {
   "cell_type": "markdown",
   "metadata": {},
   "source": [
    "## categorical data"
   ]
  },
  {
   "cell_type": "code",
   "execution_count": null,
   "metadata": {
    "collapsed": true
   },
   "outputs": [],
   "source": [
    "df_train.waterfront = df_train.waterfront.astype('category')\n",
    "\n",
    "def boxplot(x, y, **kwargs):\n",
    "    sns.boxplot(x=x, y=y)\n",
    "    x=plt.xticks(rotation=90)\n",
    "    \n",
    "f = pd.melt(df_train, id_vars=['Price'], value_vars=['waterfront'])\n",
    "g = sns.FacetGrid(f, col=\"variable\",  col_wrap=2, sharex=False, sharey=False, size=5)\n",
    "g = g.map(boxplot, \"value\", \"Price\")"
   ]
  },
  {
   "cell_type": "code",
   "execution_count": null,
   "metadata": {
    "collapsed": true
   },
   "outputs": [],
   "source": [
    "categorical_features = [a for a in quantitative[:-1] + df_train.columns.tolist() if (a not in quantitative[:-1]) or (a not in df_train.columns.tolist())]\n",
    "df_categ = df_train[categorical_features]\n",
    "df_categ.head()"
   ]
  },
  {
   "cell_type": "code",
   "execution_count": null,
   "metadata": {
    "collapsed": true
   },
   "outputs": [],
   "source": [
    "corr = df_train.corr()\n",
    "corr.describe()"
   ]
  },
  {
   "cell_type": "markdown",
   "metadata": {},
   "source": [
    "We also checked the cross-correlations among all the numerical variables. The high correlation coefficients (either ≥ 0.5 or ≤ -0.4) are marked out as follows. This gives us some useful insight to apply PCA (principal component analysis) on those highly correlated pairs/groups of numeric variables, to eliminate multi-colinearity among them, and hopefully may lead to better model prediction performance in the end. This would be one of promising future directions to work on."
   ]
  },
  {
   "cell_type": "code",
   "execution_count": null,
   "metadata": {
    "collapsed": true
   },
   "outputs": [],
   "source": [
    "corr = quantitative2.corr() # We already examined SalePrice correlations\n",
    "plt.figure(figsize=(12, 10))\n",
    "\n",
    "sns.heatmap(corr[(corr >= 0.5) | (corr <= -0.4)], \n",
    "            cmap='viridis', vmax=1.0, vmin=-1.0, linewidths=0.1,\n",
    "            annot=True, annot_kws={\"size\": 8}, square=True);"
   ]
  },
  {
   "cell_type": "code",
   "execution_count": null,
   "metadata": {
    "collapsed": true
   },
   "outputs": [],
   "source": [
    "quantitative2['SalePrice']=y\n",
    "corrmat = quantitative2.corr()\n",
    "top_corr_features = corrmat.index[abs(corrmat[\"SalePrice\"])>0.5]\n",
    "fig = plt.figure(figsize=(10,10))\n",
    "g = sns.heatmap(quantitative2[top_corr_features].corr(),annot=True,cmap=\"RdYlGn\")"
   ]
  },
  {
   "cell_type": "markdown",
   "metadata": {},
   "source": [
    "A common method for encoding cyclical data is to transform the data into two dimensions using a sine and consine transformation.\n",
    "\n",
    "We can do that using the following transformations:\n",
    "\n",
    "$x_{sin} = \\sin(\\frac{2 * \\pi * x}{\\max(x)})$\n",
    "\n",
    "$x_{cos} = \\cos(\\frac{2 * \\pi * x}{\\max(x)})$\n",
    "\n",
    "Let's do this for our hourly data:"
   ]
  },
  {
   "cell_type": "code",
   "execution_count": null,
   "metadata": {
    "collapsed": true
   },
   "outputs": [],
   "source": [
    "def simplify_date(df):\n",
    "    df['year_date'] = pd.DatetimeIndex(df['date']).year\n",
    "    df['month_date'] = pd.DatetimeIndex(df['date']).month\n",
    "    df['day_date']= pd.DatetimeIndex(df['date']).day\n",
    "    return df.drop(\"date\",axis=1)\n",
    "\n",
    "def simplify_month_day(df):\n",
    "    df['mnth_sin'] = np.sin((df.month_date-1)*(2.*np.pi/12))\n",
    "    df['mnth_cos'] = np.cos((df.month_date-1)*(2.*np.pi/12))\n",
    "    return df\n",
    "\n",
    "def simplify_waterfront(df):\n",
    "    df['waterfront'] = df['waterfront'].map({False: 0, True: 1})\n",
    "    df.waterfront=df.waterfront.astype('category')\n",
    "    return df\n",
    "\n",
    "def simplify_yr_renovated(df):\n",
    "    df['yr_renovated'] = np.where(df['yr_renovated'] == 0, df['year_date'], df['yr_renovated'])\n",
    "    return df\n",
    "\n",
    "def simplify_xy(df):\n",
    "    df['R']=np.sqrt(np.power(df.long,2)+np.power(df.lat,2))\n",
    "    return df.drop(['long','lat'],axis=1)\n",
    "\n",
    "def calculate_age(df):\n",
    "    df['age'] = df.year_date - df.yr_built\n",
    "    df['asnew'] = df.year_date - df.yr_renovated\n",
    "    return df.drop(['yr_built','year_date','yr_renovated'],axis=1)\n",
    "\n",
    "def transform_zip(df):\n",
    "    df['zip']=df.zipcode.astype('category')\n",
    "    return df.drop('zipcode',axis=1)\n",
    "\n",
    "def transform(df):\n",
    "    df=simplify_date(df)\n",
    "    df=simplify_month_day(df)\n",
    "    df=df.drop([\"month_date\",\"day_date\"],axis=1)\n",
    "    df=simplify_waterfront(df)\n",
    "    df=simplify_yr_renovated(df)\n",
    "    df=simplify_xy(df)\n",
    "    df=calculate_age(df)\n",
    "    df=transform_zip(df)\n",
    "    return df\n",
    "\n",
    "def scale_features(df_train, df_test):\n",
    "    quantitative1 = df_train.select_dtypes(include = ['float32', 'int32'])\n",
    "    quantitative2 = df_test.select_dtypes(include = ['float32', 'int32'])\n",
    "    df_combined = pd.concat([quantitative1, quantitative2])\n",
    "    for feature in df_combined.columns:\n",
    "        scaler = preprocessing.StandardScaler()\n",
    "        scaler.fit(np.array(df_combined[feature]).reshape(-1, 1))\n",
    "        # Drop column B as it is now encoded\n",
    "        df_train[feature] = scaler.transform(np.array(df_train[feature].reshape(-1, 1)))\n",
    "        df_test[feature] = scaler.transform(np.array(df_test[feature].reshape(-1, 1)))\n",
    "    return df_train, df_test  "
   ]
  },
  {
   "cell_type": "code",
   "execution_count": null,
   "metadata": {
    "collapsed": true
   },
   "outputs": [],
   "source": [
    "df_train=transform(df_train)\n",
    "df_test=transform(df_test)\n",
    "\n",
    "df_train, df_test=scale_features(df_train, df_test)\n",
    "\n",
    "df_train, df_test = pd.get_dummies(df_train),pd.get_dummies(df_test)"
   ]
  },
  {
   "cell_type": "code",
   "execution_count": null,
   "metadata": {},
   "outputs": [],
   "source": [
    "df_train.sample(10)"
   ]
  },
  {
   "cell_type": "markdown",
   "metadata": {},
   "source": [
    "## Encode zipcode"
   ]
  },
  {
   "cell_type": "code",
   "execution_count": null,
   "metadata": {
    "collapsed": true
   },
   "outputs": [],
   "source": [
    "len(np.unique(df_train.zipcode)),len(np.unique(df_test.zipcode))"
   ]
  },
  {
   "cell_type": "code",
   "execution_count": null,
   "metadata": {
    "collapsed": true
   },
   "outputs": [],
   "source": [
    "df_train['Price']=y"
   ]
  },
  {
   "cell_type": "code",
   "execution_count": null,
   "metadata": {
    "collapsed": true
   },
   "outputs": [],
   "source": [
    "def calculate_zip_plot(df):\n",
    "    y_plot=df.groupby('zipcode')['Price'].mean()\n",
    "    y_plot=y_plot.sort_values()\n",
    "    zip_labels=y_plot.index.astype('str')\n",
    "    y_pos=np.arange(len(zip_labels))\n",
    "    x=y_plot.values\n",
    "    plt.figure(figsize=(15,10))\n",
    "\n",
    "    plt.barh(y_pos, x, color='green')\n",
    "    plt.yticks(y_pos,zip_labels)\n",
    "    \n",
    "    y_plot=y_plot.reset_index()\n",
    "    \n",
    "    plt.show()\n",
    "    \n",
    "    return y_plot\n",
    "y_plot=calculate_zip_plot(df_train)"
   ]
  },
  {
   "cell_type": "markdown",
   "metadata": {},
   "source": [
    "Divide into 3 categories"
   ]
  },
  {
   "cell_type": "code",
   "execution_count": null,
   "metadata": {
    "collapsed": true
   },
   "outputs": [],
   "source": [
    "def get_zipcodes(y_plot):\n",
    "    n=len(y_plot.index)\n",
    "    y_pos=y_plot.zipcode\n",
    "    d1=n//3\n",
    "    \n",
    "    dic={}\n",
    "    for ix in range(d1):\n",
    "        r=y_pos[ix]\n",
    "        dic[r]=3\n",
    "    for ix in range(d1,2*d1):\n",
    "        r=y_pos[ix]\n",
    "        dic[r]=2\n",
    "    for ix in range(2*d1,n):\n",
    "        r=y_pos[ix]        \n",
    "        dic[r]=1\n",
    "    return dic"
   ]
  },
  {
   "cell_type": "code",
   "execution_count": null,
   "metadata": {
    "collapsed": true
   },
   "outputs": [],
   "source": [
    "dic=get_zipcodes(y_plot)\n",
    "# dic"
   ]
  },
  {
   "cell_type": "code",
   "execution_count": null,
   "metadata": {
    "collapsed": true
   },
   "outputs": [],
   "source": [
    "def transform_zipcode(df,dic):\n",
    "    for ix,r in df.iterrows():\n",
    "        df['zip']=df.zipcode.apply(lambda x: dic[x])\n",
    "    return df.drop('zipcode',axis=1)"
   ]
  },
  {
   "cell_type": "code",
   "execution_count": null,
   "metadata": {
    "collapsed": true
   },
   "outputs": [],
   "source": [
    "df_train=transform_zipcode(df_train,dic)\n",
    "df_train.sample(10)"
   ]
  },
  {
   "cell_type": "code",
   "execution_count": null,
   "metadata": {
    "collapsed": true,
    "scrolled": true
   },
   "outputs": [],
   "source": [
    "df_test=transform_zipcode(df_test,dic)\n",
    "df_test.sample(10)"
   ]
  },
  {
   "cell_type": "markdown",
   "metadata": {},
   "source": [
    "def grade_plot(df):\n",
    "    y_plot=df.groupby('condition')['Price'].mean()\n",
    "    y_plot=y_plot.sort_values()\n",
    "    zip_labels=y_plot.index.astype('str')\n",
    "    y_pos=np.arange(len(zip_labels))\n",
    "    x=y_plot.values\n",
    "    plt.figure(figsize=(15,10))\n",
    "\n",
    "    plt.barh(y_pos, x, color='green')\n",
    "    plt.yticks(y_pos,zip_labels)\n",
    "    \n",
    "    plt.show()\n",
    "grade_plot(df_train)"
   ]
  },
  {
   "cell_type": "code",
   "execution_count": null,
   "metadata": {
    "collapsed": true
   },
   "outputs": [],
   "source": [
    "df_train=df_train.drop('Price',axis=1)"
   ]
  },
  {
   "cell_type": "markdown",
   "metadata": {},
   "source": [
    "## Min-max scaling"
   ]
  },
  {
   "cell_type": "code",
   "execution_count": null,
   "metadata": {},
   "outputs": [],
   "source": [
    "null_columns=df_train.columns[df_train.isnull().any()]\n",
    "df_train[null_columns].isnull().sum()"
   ]
  },
  {
   "cell_type": "markdown",
   "metadata": {},
   "source": [
    "## PCA"
   ]
  },
  {
   "cell_type": "code",
   "execution_count": null,
   "metadata": {
    "collapsed": true
   },
   "outputs": [],
   "source": [
    "from sklearn.decomposition import PCA"
   ]
  },
  {
   "cell_type": "code",
   "execution_count": null,
   "metadata": {},
   "outputs": [],
   "source": [
    "len(df_train.columns)"
   ]
  },
  {
   "cell_type": "code",
   "execution_count": null,
   "metadata": {
    "collapsed": true
   },
   "outputs": [],
   "source": [
    "pca_range=range(1,len(df_train.columns))\n",
    "scores =[]\n",
    "for i in pca_range:\n",
    "    clf=RandomForestRegressor()\n",
    "    pca_hp = PCA(i)\n",
    "    x_fit = pca_hp.fit_transform(df_train)\n",
    "    scores.append(cross_val_score(clf, x_fit, target, cv=5, scoring=mape_scorer).mean())"
   ]
  },
  {
   "cell_type": "code",
   "execution_count": null,
   "metadata": {},
   "outputs": [],
   "source": [
    "plt.barh(pca_range,scores)\n",
    "plt.yticks(pca_range,pca_range)"
   ]
  },
  {
   "cell_type": "markdown",
   "metadata": {
    "collapsed": true
   },
   "source": [
    "# Declare Loss MAPE function"
   ]
  },
  {
   "cell_type": "code",
   "execution_count": null,
   "metadata": {
    "collapsed": true,
    "scrolled": true
   },
   "outputs": [],
   "source": [
    "from sklearn.metrics import mean_absolute_error,make_scorer\n",
    "from sklearn.model_selection import cross_val_score\n",
    "\n",
    "def mean_absolute_percentage_error(y_true, y_pred): \n",
    "    return np.mean(np.abs((y_true - y_pred) / y_true)) * 100\n",
    "\n",
    "mape_scorer=make_scorer(mean_absolute_percentage_error)"
   ]
  },
  {
   "cell_type": "markdown",
   "metadata": {},
   "source": [
    "# Find best model"
   ]
  },
  {
   "cell_type": "code",
   "execution_count": null,
   "metadata": {
    "collapsed": true
   },
   "outputs": [],
   "source": [
    "best_model=None\n",
    "best_loss=2.0"
   ]
  },
  {
   "cell_type": "code",
   "execution_count": null,
   "metadata": {
    "collapsed": true
   },
   "outputs": [],
   "source": [
    "from sklearn.linear_model import SGDRegressor, Lasso, LinearRegression, Ridge, ElasticNet, HuberRegressor\n",
    "from sklearn.ensemble import RandomForestRegressor # do not use\n",
    "\n",
    "models=[\n",
    "#     RandomForestRegressor(),\n",
    "        HuberRegressor(),\n",
    "        ElasticNet(),\n",
    "        LinearRegression(),\n",
    "        Lasso(alpha=0.1, copy_X=True, fit_intercept=True, max_iter=1000,\n",
    "   normalize=False, positive=False, precompute=False, random_state=None,\n",
    "   selection='cyclic', tol=0.0001, warm_start=False),\n",
    "        Lasso(),\n",
    "        SGDRegressor(),\n",
    "        Ridge(alpha=1.0),\n",
    "       ]"
   ]
  },
  {
   "cell_type": "code",
   "execution_count": null,
   "metadata": {
    "collapsed": true
   },
   "outputs": [],
   "source": [
    "def cv_score(model,x_train,y_train):\n",
    "    global best_model,best_loss\n",
    "    clf =model\n",
    "    score=cross_val_score(clf, x_train, y_train, cv=5, scoring=mape_scorer).mean()\n",
    "    if score < best_loss:\n",
    "        best_model = clf\n",
    "        best_loss = score\n",
    "    return score"
   ]
  },
  {
   "cell_type": "code",
   "execution_count": null,
   "metadata": {
    "collapsed": true
   },
   "outputs": [],
   "source": [
    "for model in models:\n",
    "    cv_score(model)\n",
    "print(f'best: {best_loss}\\t{best_model}\\n')"
   ]
  },
  {
   "cell_type": "markdown",
   "metadata": {},
   "source": [
    "# Predict & Submit"
   ]
  },
  {
   "cell_type": "code",
   "execution_count": null,
   "metadata": {
    "collapsed": true
   },
   "outputs": [],
   "source": [
    "df_train,df_test=df_train.drop('date',axis=1),df_test.drop('date',axis=1)"
   ]
  },
  {
   "cell_type": "code",
   "execution_count": null,
   "metadata": {
    "collapsed": true
   },
   "outputs": [],
   "source": [
    "len(df_train.columns)==len(df_test.columns)"
   ]
  },
  {
   "cell_type": "code",
   "execution_count": null,
   "metadata": {},
   "outputs": [],
   "source": [
    "clf=Ridge()\n",
    "pca_hp = PCA(50)\n",
    "pca_hp.fit(np.concatenate((df_train,df_test)))\n",
    "x_train = pca_hp.transform(df_train)\n",
    "x_test = pca_hp.transform(df_test)\n",
    "cross_val_score(clf, x_fit, target, cv=5, scoring=mape_scorer).mean()"
   ]
  },
  {
   "cell_type": "code",
   "execution_count": null,
   "metadata": {
    "collapsed": true
   },
   "outputs": [],
   "source": [
    "clf.fit(df_train,target)\n",
    "preds=clf.predict(df_test)"
   ]
  },
  {
   "cell_type": "code",
   "execution_count": null,
   "metadata": {},
   "outputs": [],
   "source": [
    "sum(n < 0 for n in preds)"
   ]
  },
  {
   "cell_type": "code",
   "execution_count": null,
   "metadata": {
    "collapsed": true
   },
   "outputs": [],
   "source": [
    "preds[preds < 0]=preds.mean()"
   ]
  },
  {
   "cell_type": "code",
   "execution_count": null,
   "metadata": {
    "collapsed": true
   },
   "outputs": [],
   "source": [
    "preds=np.exp(preds)"
   ]
  },
  {
   "cell_type": "code",
   "execution_count": null,
   "metadata": {
    "collapsed": true
   },
   "outputs": [],
   "source": [
    "import datetime\n",
    "with open(f'prediction{datetime.datetime.now()}.csv', 'w') as out:\n",
    "    print('Id,Price', file=out)\n",
    "    for pair in enumerate(preds, 1):\n",
    "        print('%i,%d' % pair, file=out)"
   ]
  },
  {
   "cell_type": "code",
   "execution_count": null,
   "metadata": {
    "collapsed": true
   },
   "outputs": [],
   "source": [
    "preds[:10]"
   ]
  },
  {
   "cell_type": "markdown",
   "metadata": {
    "collapsed": true
   },
   "source": [
    "![\"Logo Title Text 1\"](https://cdn-images-1.medium.com/max/1000/0*KH3dnbGNcmyV_ODL.png \"Logo Title Text 1\")"
   ]
  },
  {
   "cell_type": "code",
   "execution_count": null,
   "metadata": {
    "collapsed": true
   },
   "outputs": [],
   "source": []
  }
 ],
 "metadata": {
  "kernelspec": {
   "display_name": "Python 3",
   "language": "python",
   "name": "python3"
  },
  "language_info": {
   "codemirror_mode": {
    "name": "ipython",
    "version": 3
   },
   "file_extension": ".py",
   "mimetype": "text/x-python",
   "name": "python",
   "nbconvert_exporter": "python",
   "pygments_lexer": "ipython3",
   "version": "3.6.4"
  }
 },
 "nbformat": 4,
 "nbformat_minor": 2
}
