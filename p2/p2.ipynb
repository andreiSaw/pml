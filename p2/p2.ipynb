{
 "cells": [
  {
   "cell_type": "markdown",
   "metadata": {},
   "source": [
    "## P2"
   ]
  },
  {
   "cell_type": "code",
   "execution_count": 1,
   "metadata": {
    "collapsed": true
   },
   "outputs": [],
   "source": [
    "import warnings\n",
    "import os\n",
    "import numpy as np\n",
    "import matplotlib.pyplot as plt\n",
    "import pandas as pd\n",
    "from sklearn.utils import shuffle\n",
    "import seaborn as sns\n",
    "\n",
    "%matplotlib inline\n",
    "\n",
    "warnings.filterwarnings('ignore')"
   ]
  },
  {
   "cell_type": "code",
   "execution_count": 2,
   "metadata": {
    "collapsed": true
   },
   "outputs": [],
   "source": [
    "DATA_PATH=\"../../data/pml/\""
   ]
  },
  {
   "cell_type": "markdown",
   "metadata": {},
   "source": [
    "# Load Data"
   ]
  },
  {
   "cell_type": "code",
   "execution_count": 3,
   "metadata": {
    "collapsed": true
   },
   "outputs": [],
   "source": [
    "X, y = shuffle(np.load(DATA_PATH+'x_train.npy'), np.load(DATA_PATH+'y_train.npy'))\n",
    "data_test = np.load(DATA_PATH+'x_test.npy')"
   ]
  },
  {
   "cell_type": "code",
   "execution_count": 4,
   "metadata": {
    "collapsed": true
   },
   "outputs": [],
   "source": [
    "columns=X.dtype.names"
   ]
  },
  {
   "cell_type": "code",
   "execution_count": 5,
   "metadata": {
    "collapsed": true
   },
   "outputs": [],
   "source": [
    "df_train=pd.DataFrame(X, columns=columns)\n",
    "df_test=pd.DataFrame(data_test, columns=columns)"
   ]
  },
  {
   "cell_type": "code",
   "execution_count": null,
   "metadata": {},
   "outputs": [],
   "source": []
  },
  {
   "cell_type": "code",
   "execution_count": 6,
   "metadata": {},
   "outputs": [
    {
     "data": {
      "text/html": [
       "<div>\n",
       "<style>\n",
       "    .dataframe thead tr:only-child th {\n",
       "        text-align: right;\n",
       "    }\n",
       "\n",
       "    .dataframe thead th {\n",
       "        text-align: left;\n",
       "    }\n",
       "\n",
       "    .dataframe tbody tr th {\n",
       "        vertical-align: top;\n",
       "    }\n",
       "</style>\n",
       "<table border=\"1\" class=\"dataframe\">\n",
       "  <thead>\n",
       "    <tr style=\"text-align: right;\">\n",
       "      <th></th>\n",
       "      <th>date</th>\n",
       "      <th>bedrooms</th>\n",
       "      <th>bathrooms</th>\n",
       "      <th>sqft_living</th>\n",
       "      <th>sqft_lot</th>\n",
       "      <th>floors</th>\n",
       "      <th>waterfront</th>\n",
       "      <th>condition</th>\n",
       "      <th>grade</th>\n",
       "      <th>sqft_above</th>\n",
       "      <th>sqft_basement</th>\n",
       "      <th>yr_built</th>\n",
       "      <th>yr_renovated</th>\n",
       "      <th>zipcode</th>\n",
       "      <th>lat</th>\n",
       "      <th>long</th>\n",
       "    </tr>\n",
       "  </thead>\n",
       "  <tbody>\n",
       "    <tr>\n",
       "      <th>1005</th>\n",
       "      <td>2014-05-29</td>\n",
       "      <td>2.0</td>\n",
       "      <td>1.00</td>\n",
       "      <td>950</td>\n",
       "      <td>7560</td>\n",
       "      <td>1.0</td>\n",
       "      <td>False</td>\n",
       "      <td>3</td>\n",
       "      <td>6</td>\n",
       "      <td>950</td>\n",
       "      <td>0</td>\n",
       "      <td>1958</td>\n",
       "      <td>0</td>\n",
       "      <td>98058</td>\n",
       "      <td>47.449902</td>\n",
       "      <td>-122.176003</td>\n",
       "    </tr>\n",
       "    <tr>\n",
       "      <th>1323</th>\n",
       "      <td>2014-09-11</td>\n",
       "      <td>3.0</td>\n",
       "      <td>3.00</td>\n",
       "      <td>2490</td>\n",
       "      <td>3600</td>\n",
       "      <td>2.0</td>\n",
       "      <td>False</td>\n",
       "      <td>4</td>\n",
       "      <td>8</td>\n",
       "      <td>1790</td>\n",
       "      <td>700</td>\n",
       "      <td>1911</td>\n",
       "      <td>0</td>\n",
       "      <td>98119</td>\n",
       "      <td>47.631302</td>\n",
       "      <td>-122.369003</td>\n",
       "    </tr>\n",
       "    <tr>\n",
       "      <th>5801</th>\n",
       "      <td>2015-04-17</td>\n",
       "      <td>2.0</td>\n",
       "      <td>1.00</td>\n",
       "      <td>1210</td>\n",
       "      <td>10000</td>\n",
       "      <td>1.0</td>\n",
       "      <td>False</td>\n",
       "      <td>3</td>\n",
       "      <td>7</td>\n",
       "      <td>1210</td>\n",
       "      <td>0</td>\n",
       "      <td>1953</td>\n",
       "      <td>0</td>\n",
       "      <td>98148</td>\n",
       "      <td>47.440201</td>\n",
       "      <td>-122.333000</td>\n",
       "    </tr>\n",
       "    <tr>\n",
       "      <th>5041</th>\n",
       "      <td>2014-05-08</td>\n",
       "      <td>3.0</td>\n",
       "      <td>1.75</td>\n",
       "      <td>950</td>\n",
       "      <td>6000</td>\n",
       "      <td>1.0</td>\n",
       "      <td>False</td>\n",
       "      <td>3</td>\n",
       "      <td>6</td>\n",
       "      <td>790</td>\n",
       "      <td>160</td>\n",
       "      <td>1939</td>\n",
       "      <td>0</td>\n",
       "      <td>98108</td>\n",
       "      <td>47.527100</td>\n",
       "      <td>-122.316002</td>\n",
       "    </tr>\n",
       "    <tr>\n",
       "      <th>1287</th>\n",
       "      <td>2015-02-13</td>\n",
       "      <td>3.0</td>\n",
       "      <td>1.75</td>\n",
       "      <td>1320</td>\n",
       "      <td>7725</td>\n",
       "      <td>1.0</td>\n",
       "      <td>False</td>\n",
       "      <td>3</td>\n",
       "      <td>8</td>\n",
       "      <td>1320</td>\n",
       "      <td>0</td>\n",
       "      <td>1978</td>\n",
       "      <td>0</td>\n",
       "      <td>98058</td>\n",
       "      <td>47.442501</td>\n",
       "      <td>-122.133003</td>\n",
       "    </tr>\n",
       "  </tbody>\n",
       "</table>\n",
       "</div>"
      ],
      "text/plain": [
       "            date  bedrooms  bathrooms  sqft_living  sqft_lot  floors  \\\n",
       "1005  2014-05-29       2.0       1.00          950      7560     1.0   \n",
       "1323  2014-09-11       3.0       3.00         2490      3600     2.0   \n",
       "5801  2015-04-17       2.0       1.00         1210     10000     1.0   \n",
       "5041  2014-05-08       3.0       1.75          950      6000     1.0   \n",
       "1287  2015-02-13       3.0       1.75         1320      7725     1.0   \n",
       "\n",
       "      waterfront  condition  grade  sqft_above  sqft_basement  yr_built  \\\n",
       "1005       False          3      6         950              0      1958   \n",
       "1323       False          4      8        1790            700      1911   \n",
       "5801       False          3      7        1210              0      1953   \n",
       "5041       False          3      6         790            160      1939   \n",
       "1287       False          3      8        1320              0      1978   \n",
       "\n",
       "      yr_renovated  zipcode        lat        long  \n",
       "1005             0    98058  47.449902 -122.176003  \n",
       "1323             0    98119  47.631302 -122.369003  \n",
       "5801             0    98148  47.440201 -122.333000  \n",
       "5041             0    98108  47.527100 -122.316002  \n",
       "1287             0    98058  47.442501 -122.133003  "
      ]
     },
     "execution_count": 6,
     "metadata": {},
     "output_type": "execute_result"
    }
   ],
   "source": [
    "df_test.sample(5)"
   ]
  },
  {
   "cell_type": "markdown",
   "metadata": {},
   "source": [
    "## Decrease skewness of Price"
   ]
  },
  {
   "cell_type": "code",
   "execution_count": 7,
   "metadata": {},
   "outputs": [],
   "source": [
    "df_train['Price']=y"
   ]
  },
  {
   "cell_type": "code",
   "execution_count": 8,
   "metadata": {},
   "outputs": [
    {
     "data": {
      "text/plain": [
       "count    1.500000e+04\n",
       "mean     5.405347e+05\n",
       "std      3.670720e+05\n",
       "min      7.500000e+04\n",
       "25%      3.210000e+05\n",
       "50%      4.500000e+05\n",
       "75%      6.450000e+05\n",
       "max      7.700000e+06\n",
       "Name: Price, dtype: float64"
      ]
     },
     "execution_count": 8,
     "metadata": {},
     "output_type": "execute_result"
    }
   ],
   "source": [
    "df_train.Price.describe()"
   ]
  },
  {
   "cell_type": "code",
   "execution_count": 9,
   "metadata": {
    "scrolled": true
   },
   "outputs": [
    {
     "data": {
      "image/png": "[encoded data removed]",
      "text/plain": [
       "<matplotlib.figure.Figure at 0x7fa71228f9b0>"
      ]
     },
     "metadata": {},
     "output_type": "display_data"
    }
   ],
   "source": [
    "width, height = 2, 1\n",
    "plt.figure(figsize=(8, 4))\n",
    "\n",
    "plt.subplot(height, width, 1)\n",
    "plt.hist(y, color='blue')\n",
    "name='skew = %s'%df_train.Price.skew()\n",
    "plt.title(name)\n",
    "\n",
    "df_train['target'] = np.log1p(df_train.Price)\n",
    "plt.subplot(height, width, 2)\n",
    "name='logskew = %s'%df_train.target.skew()\n",
    "plt.hist(df_train.target)\n",
    "plt.title(name)\n",
    "\n",
    "plt.show()\n",
    "# A value closer to 0 means that we have improved the skewness of the data."
   ]
  },
  {
   "cell_type": "code",
   "execution_count": null,
   "metadata": {
    "collapsed": true
   },
   "outputs": [],
   "source": []
  },
  {
   "cell_type": "markdown",
   "metadata": {},
   "source": [
    "# drop outliers\n",
    "df_train.drop(df_train[(df_train['sqft_living'] > 9000)].index,inplace=True)\n",
    "plt.figure()\n",
    "otl = sns.lmplot('sqft_living', 'Price',data=df_train, fit_reg=False)\n",
    "plt.xlim(0,9500)\n",
    "plt.ylim(0,6000000)"
   ]
  },
  {
   "cell_type": "markdown",
   "metadata": {},
   "source": [
    "## Encode zipcode"
   ]
  },
  {
   "cell_type": "markdown",
   "metadata": {},
   "source": [
    "len(np.unique(df_train.zipcode)),len(np.unique(df_test.zipcode))"
   ]
  },
  {
   "cell_type": "code",
   "execution_count": 10,
   "metadata": {},
   "outputs": [
    {
     "data": {
      "image/png": "[encoded data removed]",
      "text/plain": [
       "<matplotlib.figure.Figure at 0x7fa712237f28>"
      ]
     },
     "metadata": {},
     "output_type": "display_data"
    }
   ],
   "source": [
    "def calculate_zip_plot(df):\n",
    "    y_plot=df.groupby('zipcode')['Price'].mean()\n",
    "    y_plot=y_plot.sort_values()\n",
    "    zip_labels=y_plot.index.astype('str')\n",
    "    y_pos=np.arange(len(zip_labels))\n",
    "    x=y_plot.values\n",
    "    plt.figure(figsize=(15,10))\n",
    "\n",
    "    plt.barh(y_pos, x, color='green')\n",
    "    plt.yticks(y_pos,zip_labels)\n",
    "    \n",
    "    y_plot=y_plot.reset_index()\n",
    "    \n",
    "    plt.show()\n",
    "    \n",
    "    return y_plot\n",
    "\n",
    "y_plot=calculate_zip_plot(df_train)"
   ]
  },
  {
   "cell_type": "code",
   "execution_count": 11,
   "metadata": {},
   "outputs": [],
   "source": [
    "# Divide into 5 categories\n",
    "def get_zipcodes(y_plot):\n",
    "    n=len(y_plot.index)\n",
    "    y_pos=y_plot.zipcode\n",
    "    d1=n//5\n",
    "    \n",
    "    dic={}\n",
    "    for ix in range(d1):\n",
    "        r=y_pos[ix]\n",
    "        dic[r]=5\n",
    "    for ix in range(d1,2*d1):\n",
    "        r=y_pos[ix]\n",
    "        dic[r]=4\n",
    "    for ix in range(2*d1,3*d1):\n",
    "        r=y_pos[ix]        \n",
    "        dic[r]=3\n",
    "    for ix in range(3*d1,4*d1):\n",
    "        r=y_pos[ix]        \n",
    "        dic[r]=2\n",
    "    for ix in range(4*d1,n):\n",
    "        r=y_pos[ix]        \n",
    "        dic[r]=1\n",
    "    return dic\n",
    "\n",
    "dic=get_zipcodes(y_plot)"
   ]
  },
  {
   "cell_type": "code",
   "execution_count": null,
   "metadata": {},
   "outputs": [],
   "source": []
  },
  {
   "cell_type": "code",
   "execution_count": 12,
   "metadata": {
    "collapsed": true
   },
   "outputs": [],
   "source": [
    "# In order to avoid repeating unnecessary codes, for our convenience, let's combine the train and test set.\n",
    "df = pd.concat([df_train.drop(['Price','target'],axis=1), df_test]).reset_index()\n",
    "\n",
    "df.drop(['index'],axis=1,inplace=True)"
   ]
  },
  {
   "cell_type": "markdown",
   "metadata": {},
   "source": [
    "# Analysis of Features"
   ]
  },
  {
   "cell_type": "markdown",
   "metadata": {},
   "source": [
    "## Feature analysis (skipped)"
   ]
  },
  {
   "cell_type": "code",
   "execution_count": null,
   "metadata": {},
   "outputs": [],
   "source": []
  },
  {
   "cell_type": "markdown",
   "metadata": {},
   "source": [
    "## categorical data"
   ]
  },
  {
   "cell_type": "markdown",
   "metadata": {},
   "source": [
    "# Preprocessing"
   ]
  },
  {
   "cell_type": "code",
   "execution_count": 13,
   "metadata": {
    "collapsed": true
   },
   "outputs": [],
   "source": [
    "from sklearn import preprocessing"
   ]
  },
  {
   "cell_type": "code",
   "execution_count": null,
   "metadata": {},
   "outputs": [],
   "source": []
  },
  {
   "cell_type": "markdown",
   "metadata": {},
   "source": [
    "A common method for encoding cyclical data is to transform the data into two dimensions using a sine and consine transformation.\n",
    "\n",
    "We can do that using the following transformations:\n",
    "\n",
    "$x_{sin} = \\sin(\\frac{2 * \\pi * x}{\\max(x)})$\n",
    "\n",
    "$x_{cos} = \\cos(\\frac{2 * \\pi * x}{\\max(x)})$\n",
    "\n",
    "Let's do this for our hourly data:"
   ]
  },
  {
   "cell_type": "code",
   "execution_count": 14,
   "metadata": {
    "collapsed": true
   },
   "outputs": [],
   "source": [
    "def simplify_date(df):\n",
    "    df['year_date'] = pd.DatetimeIndex(df['date']).year\n",
    "    df['month_date'] = pd.DatetimeIndex(df['date']).month\n",
    "    df['day_date']= pd.DatetimeIndex(df['date']).day\n",
    "    return df.drop(\"date\",axis=1)\n",
    "\n",
    "def simplify_month_day(df):\n",
    "    df['mnth_sin'] = np.sin((df.month_date-1)*(2.*np.pi/12))\n",
    "    df['mnth_cos'] = np.cos((df.month_date-1)*(2.*np.pi/12))\n",
    "    return df\n",
    "\n",
    "def simplify_xy(df):\n",
    "    df['R']=np.sqrt(np.power(df.long,2)+np.power(df.lat,2))\n",
    "    return df.drop(['long','lat'],axis=1)\n",
    "\n",
    "def calculate_age(df):\n",
    "    #age\n",
    "    df.yr_built = df.year_date - df.yr_built\n",
    "    #asnew\n",
    "    df.yr_renovated = df.year_date - df.yr_renovated\n",
    "    df.yr_renovated[(df.yr_renovated<0)]=df.year_date[(df.yr_renovated<0)]\n",
    "    df.drop('year_date',axis=1,inplace=True)\n",
    "    return df\n",
    "\n",
    "def transform_zipcode(df,dic):\n",
    "    df.zipcode=df.zipcode.map(dic)\n",
    "    return df\n",
    "\n",
    "def transform(df):\n",
    "    df=simplify_date(df)\n",
    "    df=simplify_month_day(df)\n",
    "    df=df.drop([\"month_date\",\"day_date\"],axis=1)\n",
    "    df=simplify_xy(df)\n",
    "    df=calculate_age(df)\n",
    "    df=transform_zipcode(df,dic)\n",
    "    return df"
   ]
  },
  {
   "cell_type": "code",
   "execution_count": 15,
   "metadata": {},
   "outputs": [
    {
     "data": {
      "text/html": [
       "<div>\n",
       "<style>\n",
       "    .dataframe thead tr:only-child th {\n",
       "        text-align: right;\n",
       "    }\n",
       "\n",
       "    .dataframe thead th {\n",
       "        text-align: left;\n",
       "    }\n",
       "\n",
       "    .dataframe tbody tr th {\n",
       "        vertical-align: top;\n",
       "    }\n",
       "</style>\n",
       "<table border=\"1\" class=\"dataframe\">\n",
       "  <thead>\n",
       "    <tr style=\"text-align: right;\">\n",
       "      <th></th>\n",
       "      <th>bedrooms</th>\n",
       "      <th>bathrooms</th>\n",
       "      <th>sqft_living</th>\n",
       "      <th>sqft_lot</th>\n",
       "      <th>floors</th>\n",
       "      <th>waterfront</th>\n",
       "      <th>condition</th>\n",
       "      <th>grade</th>\n",
       "      <th>sqft_above</th>\n",
       "      <th>sqft_basement</th>\n",
       "      <th>yr_built</th>\n",
       "      <th>yr_renovated</th>\n",
       "      <th>zipcode</th>\n",
       "      <th>mnth_sin</th>\n",
       "      <th>mnth_cos</th>\n",
       "      <th>R</th>\n",
       "    </tr>\n",
       "  </thead>\n",
       "  <tbody>\n",
       "    <tr>\n",
       "      <th>8761</th>\n",
       "      <td>2.0</td>\n",
       "      <td>2.25</td>\n",
       "      <td>1560</td>\n",
       "      <td>1705</td>\n",
       "      <td>2.0</td>\n",
       "      <td>False</td>\n",
       "      <td>3</td>\n",
       "      <td>8</td>\n",
       "      <td>1270</td>\n",
       "      <td>290</td>\n",
       "      <td>8</td>\n",
       "      <td>2014</td>\n",
       "      <td>4</td>\n",
       "      <td>-5.000000e-01</td>\n",
       "      <td>8.660254e-01</td>\n",
       "      <td>131.286819</td>\n",
       "    </tr>\n",
       "    <tr>\n",
       "      <th>14764</th>\n",
       "      <td>3.0</td>\n",
       "      <td>2.00</td>\n",
       "      <td>2120</td>\n",
       "      <td>7560</td>\n",
       "      <td>1.0</td>\n",
       "      <td>False</td>\n",
       "      <td>3</td>\n",
       "      <td>9</td>\n",
       "      <td>2120</td>\n",
       "      <td>0</td>\n",
       "      <td>23</td>\n",
       "      <td>2014</td>\n",
       "      <td>4</td>\n",
       "      <td>8.660254e-01</td>\n",
       "      <td>-5.000000e-01</td>\n",
       "      <td>131.046356</td>\n",
       "    </tr>\n",
       "    <tr>\n",
       "      <th>17335</th>\n",
       "      <td>2.0</td>\n",
       "      <td>1.50</td>\n",
       "      <td>1750</td>\n",
       "      <td>46173</td>\n",
       "      <td>2.0</td>\n",
       "      <td>False</td>\n",
       "      <td>4</td>\n",
       "      <td>8</td>\n",
       "      <td>1750</td>\n",
       "      <td>0</td>\n",
       "      <td>50</td>\n",
       "      <td>2014</td>\n",
       "      <td>3</td>\n",
       "      <td>-5.000000e-01</td>\n",
       "      <td>-8.660254e-01</td>\n",
       "      <td>131.125290</td>\n",
       "    </tr>\n",
       "    <tr>\n",
       "      <th>18255</th>\n",
       "      <td>3.0</td>\n",
       "      <td>1.00</td>\n",
       "      <td>1380</td>\n",
       "      <td>30940</td>\n",
       "      <td>2.0</td>\n",
       "      <td>False</td>\n",
       "      <td>3</td>\n",
       "      <td>8</td>\n",
       "      <td>1380</td>\n",
       "      <td>0</td>\n",
       "      <td>38</td>\n",
       "      <td>2014</td>\n",
       "      <td>5</td>\n",
       "      <td>1.224647e-16</td>\n",
       "      <td>-1.000000e+00</td>\n",
       "      <td>130.959473</td>\n",
       "    </tr>\n",
       "    <tr>\n",
       "      <th>17815</th>\n",
       "      <td>2.0</td>\n",
       "      <td>1.75</td>\n",
       "      <td>1700</td>\n",
       "      <td>18000</td>\n",
       "      <td>1.0</td>\n",
       "      <td>False</td>\n",
       "      <td>3</td>\n",
       "      <td>8</td>\n",
       "      <td>1700</td>\n",
       "      <td>0</td>\n",
       "      <td>42</td>\n",
       "      <td>2014</td>\n",
       "      <td>4</td>\n",
       "      <td>-5.000000e-01</td>\n",
       "      <td>8.660254e-01</td>\n",
       "      <td>131.103973</td>\n",
       "    </tr>\n",
       "    <tr>\n",
       "      <th>16586</th>\n",
       "      <td>4.0</td>\n",
       "      <td>3.75</td>\n",
       "      <td>3180</td>\n",
       "      <td>9889</td>\n",
       "      <td>2.0</td>\n",
       "      <td>False</td>\n",
       "      <td>3</td>\n",
       "      <td>9</td>\n",
       "      <td>2500</td>\n",
       "      <td>680</td>\n",
       "      <td>2</td>\n",
       "      <td>2014</td>\n",
       "      <td>1</td>\n",
       "      <td>-8.660254e-01</td>\n",
       "      <td>5.000000e-01</td>\n",
       "      <td>131.178146</td>\n",
       "    </tr>\n",
       "    <tr>\n",
       "      <th>7679</th>\n",
       "      <td>3.0</td>\n",
       "      <td>1.00</td>\n",
       "      <td>1270</td>\n",
       "      <td>7500</td>\n",
       "      <td>1.0</td>\n",
       "      <td>False</td>\n",
       "      <td>3</td>\n",
       "      <td>7</td>\n",
       "      <td>1270</td>\n",
       "      <td>0</td>\n",
       "      <td>62</td>\n",
       "      <td>2015</td>\n",
       "      <td>4</td>\n",
       "      <td>1.000000e+00</td>\n",
       "      <td>6.123234e-17</td>\n",
       "      <td>131.233871</td>\n",
       "    </tr>\n",
       "    <tr>\n",
       "      <th>8713</th>\n",
       "      <td>4.0</td>\n",
       "      <td>2.25</td>\n",
       "      <td>3010</td>\n",
       "      <td>9800</td>\n",
       "      <td>2.0</td>\n",
       "      <td>False</td>\n",
       "      <td>4</td>\n",
       "      <td>9</td>\n",
       "      <td>3010</td>\n",
       "      <td>0</td>\n",
       "      <td>41</td>\n",
       "      <td>2014</td>\n",
       "      <td>1</td>\n",
       "      <td>-8.660254e-01</td>\n",
       "      <td>5.000000e-01</td>\n",
       "      <td>131.140778</td>\n",
       "    </tr>\n",
       "    <tr>\n",
       "      <th>6316</th>\n",
       "      <td>3.0</td>\n",
       "      <td>2.00</td>\n",
       "      <td>2010</td>\n",
       "      <td>4000</td>\n",
       "      <td>1.0</td>\n",
       "      <td>False</td>\n",
       "      <td>5</td>\n",
       "      <td>7</td>\n",
       "      <td>1210</td>\n",
       "      <td>800</td>\n",
       "      <td>99</td>\n",
       "      <td>2014</td>\n",
       "      <td>3</td>\n",
       "      <td>-5.000000e-01</td>\n",
       "      <td>-8.660254e-01</td>\n",
       "      <td>131.286789</td>\n",
       "    </tr>\n",
       "    <tr>\n",
       "      <th>5895</th>\n",
       "      <td>4.0</td>\n",
       "      <td>2.50</td>\n",
       "      <td>2520</td>\n",
       "      <td>10850</td>\n",
       "      <td>1.0</td>\n",
       "      <td>False</td>\n",
       "      <td>4</td>\n",
       "      <td>8</td>\n",
       "      <td>1680</td>\n",
       "      <td>840</td>\n",
       "      <td>46</td>\n",
       "      <td>2014</td>\n",
       "      <td>4</td>\n",
       "      <td>-5.000000e-01</td>\n",
       "      <td>8.660254e-01</td>\n",
       "      <td>131.285324</td>\n",
       "    </tr>\n",
       "  </tbody>\n",
       "</table>\n",
       "</div>"
      ],
      "text/plain": [
       "       bedrooms  bathrooms  sqft_living  sqft_lot  floors  waterfront  \\\n",
       "8761        2.0       2.25         1560      1705     2.0       False   \n",
       "14764       3.0       2.00         2120      7560     1.0       False   \n",
       "17335       2.0       1.50         1750     46173     2.0       False   \n",
       "18255       3.0       1.00         1380     30940     2.0       False   \n",
       "17815       2.0       1.75         1700     18000     1.0       False   \n",
       "16586       4.0       3.75         3180      9889     2.0       False   \n",
       "7679        3.0       1.00         1270      7500     1.0       False   \n",
       "8713        4.0       2.25         3010      9800     2.0       False   \n",
       "6316        3.0       2.00         2010      4000     1.0       False   \n",
       "5895        4.0       2.50         2520     10850     1.0       False   \n",
       "\n",
       "       condition  grade  sqft_above  sqft_basement  yr_built  yr_renovated  \\\n",
       "8761           3      8        1270            290         8          2014   \n",
       "14764          3      9        2120              0        23          2014   \n",
       "17335          4      8        1750              0        50          2014   \n",
       "18255          3      8        1380              0        38          2014   \n",
       "17815          3      8        1700              0        42          2014   \n",
       "16586          3      9        2500            680         2          2014   \n",
       "7679           3      7        1270              0        62          2015   \n",
       "8713           4      9        3010              0        41          2014   \n",
       "6316           5      7        1210            800        99          2014   \n",
       "5895           4      8        1680            840        46          2014   \n",
       "\n",
       "       zipcode      mnth_sin      mnth_cos           R  \n",
       "8761         4 -5.000000e-01  8.660254e-01  131.286819  \n",
       "14764        4  8.660254e-01 -5.000000e-01  131.046356  \n",
       "17335        3 -5.000000e-01 -8.660254e-01  131.125290  \n",
       "18255        5  1.224647e-16 -1.000000e+00  130.959473  \n",
       "17815        4 -5.000000e-01  8.660254e-01  131.103973  \n",
       "16586        1 -8.660254e-01  5.000000e-01  131.178146  \n",
       "7679         4  1.000000e+00  6.123234e-17  131.233871  \n",
       "8713         1 -8.660254e-01  5.000000e-01  131.140778  \n",
       "6316         3 -5.000000e-01 -8.660254e-01  131.286789  \n",
       "5895         4 -5.000000e-01  8.660254e-01  131.285324  "
      ]
     },
     "execution_count": 15,
     "metadata": {},
     "output_type": "execute_result"
    }
   ],
   "source": [
    "df=transform(df)\n",
    "df.sample(10)"
   ]
  },
  {
   "cell_type": "code",
   "execution_count": 16,
   "metadata": {},
   "outputs": [
    {
     "data": {
      "text/html": [
       "<div>\n",
       "<style>\n",
       "    .dataframe thead tr:only-child th {\n",
       "        text-align: right;\n",
       "    }\n",
       "\n",
       "    .dataframe thead th {\n",
       "        text-align: left;\n",
       "    }\n",
       "\n",
       "    .dataframe tbody tr th {\n",
       "        vertical-align: top;\n",
       "    }\n",
       "</style>\n",
       "<table border=\"1\" class=\"dataframe\">\n",
       "  <thead>\n",
       "    <tr style=\"text-align: right;\">\n",
       "      <th></th>\n",
       "      <th>bedrooms</th>\n",
       "      <th>bathrooms</th>\n",
       "      <th>sqft_living</th>\n",
       "      <th>sqft_lot</th>\n",
       "      <th>floors</th>\n",
       "      <th>waterfront</th>\n",
       "      <th>condition</th>\n",
       "      <th>grade</th>\n",
       "      <th>sqft_above</th>\n",
       "      <th>sqft_basement</th>\n",
       "      <th>yr_built</th>\n",
       "      <th>yr_renovated</th>\n",
       "      <th>zipcode</th>\n",
       "      <th>mnth_sin</th>\n",
       "      <th>mnth_cos</th>\n",
       "      <th>R</th>\n",
       "    </tr>\n",
       "  </thead>\n",
       "  <tbody>\n",
       "    <tr>\n",
       "      <th>14950</th>\n",
       "      <td>4.0</td>\n",
       "      <td>3.25</td>\n",
       "      <td>3640</td>\n",
       "      <td>13530</td>\n",
       "      <td>1.0</td>\n",
       "      <td>0</td>\n",
       "      <td>2</td>\n",
       "      <td>7</td>\n",
       "      <td>2570</td>\n",
       "      <td>1070</td>\n",
       "      <td>91</td>\n",
       "      <td>15</td>\n",
       "      <td>0</td>\n",
       "      <td>1.000000e+00</td>\n",
       "      <td>6.123234e-17</td>\n",
       "      <td>131.189468</td>\n",
       "    </tr>\n",
       "    <tr>\n",
       "      <th>17556</th>\n",
       "      <td>3.0</td>\n",
       "      <td>2.00</td>\n",
       "      <td>1600</td>\n",
       "      <td>16530</td>\n",
       "      <td>1.0</td>\n",
       "      <td>0</td>\n",
       "      <td>4</td>\n",
       "      <td>5</td>\n",
       "      <td>1600</td>\n",
       "      <td>0</td>\n",
       "      <td>47</td>\n",
       "      <td>2014</td>\n",
       "      <td>0</td>\n",
       "      <td>-8.660254e-01</td>\n",
       "      <td>-5.000000e-01</td>\n",
       "      <td>130.965500</td>\n",
       "    </tr>\n",
       "    <tr>\n",
       "      <th>18076</th>\n",
       "      <td>5.0</td>\n",
       "      <td>3.00</td>\n",
       "      <td>3880</td>\n",
       "      <td>8432</td>\n",
       "      <td>2.0</td>\n",
       "      <td>0</td>\n",
       "      <td>2</td>\n",
       "      <td>5</td>\n",
       "      <td>3880</td>\n",
       "      <td>0</td>\n",
       "      <td>10</td>\n",
       "      <td>2014</td>\n",
       "      <td>3</td>\n",
       "      <td>-8.660254e-01</td>\n",
       "      <td>-5.000000e-01</td>\n",
       "      <td>131.077774</td>\n",
       "    </tr>\n",
       "    <tr>\n",
       "      <th>12171</th>\n",
       "      <td>4.0</td>\n",
       "      <td>2.00</td>\n",
       "      <td>1760</td>\n",
       "      <td>5307</td>\n",
       "      <td>1.5</td>\n",
       "      <td>0</td>\n",
       "      <td>3</td>\n",
       "      <td>5</td>\n",
       "      <td>1170</td>\n",
       "      <td>590</td>\n",
       "      <td>66</td>\n",
       "      <td>2014</td>\n",
       "      <td>0</td>\n",
       "      <td>-1.000000e+00</td>\n",
       "      <td>-1.836970e-16</td>\n",
       "      <td>131.243896</td>\n",
       "    </tr>\n",
       "    <tr>\n",
       "      <th>19570</th>\n",
       "      <td>5.0</td>\n",
       "      <td>2.50</td>\n",
       "      <td>3270</td>\n",
       "      <td>6129</td>\n",
       "      <td>2.0</td>\n",
       "      <td>0</td>\n",
       "      <td>2</td>\n",
       "      <td>7</td>\n",
       "      <td>3270</td>\n",
       "      <td>0</td>\n",
       "      <td>10</td>\n",
       "      <td>2014</td>\n",
       "      <td>4</td>\n",
       "      <td>-5.000000e-01</td>\n",
       "      <td>8.660254e-01</td>\n",
       "      <td>131.095108</td>\n",
       "    </tr>\n",
       "    <tr>\n",
       "      <th>20035</th>\n",
       "      <td>3.0</td>\n",
       "      <td>1.75</td>\n",
       "      <td>2660</td>\n",
       "      <td>7800</td>\n",
       "      <td>1.0</td>\n",
       "      <td>0</td>\n",
       "      <td>3</td>\n",
       "      <td>6</td>\n",
       "      <td>1330</td>\n",
       "      <td>1330</td>\n",
       "      <td>64</td>\n",
       "      <td>2015</td>\n",
       "      <td>2</td>\n",
       "      <td>5.000000e-01</td>\n",
       "      <td>8.660254e-01</td>\n",
       "      <td>131.345337</td>\n",
       "    </tr>\n",
       "    <tr>\n",
       "      <th>2197</th>\n",
       "      <td>2.0</td>\n",
       "      <td>1.00</td>\n",
       "      <td>960</td>\n",
       "      <td>223898</td>\n",
       "      <td>1.0</td>\n",
       "      <td>0</td>\n",
       "      <td>2</td>\n",
       "      <td>4</td>\n",
       "      <td>960</td>\n",
       "      <td>0</td>\n",
       "      <td>29</td>\n",
       "      <td>2014</td>\n",
       "      <td>2</td>\n",
       "      <td>-5.000000e-01</td>\n",
       "      <td>-8.660254e-01</td>\n",
       "      <td>130.880798</td>\n",
       "    </tr>\n",
       "    <tr>\n",
       "      <th>5250</th>\n",
       "      <td>3.0</td>\n",
       "      <td>3.25</td>\n",
       "      <td>1560</td>\n",
       "      <td>1345</td>\n",
       "      <td>2.0</td>\n",
       "      <td>0</td>\n",
       "      <td>2</td>\n",
       "      <td>6</td>\n",
       "      <td>1260</td>\n",
       "      <td>300</td>\n",
       "      <td>6</td>\n",
       "      <td>2015</td>\n",
       "      <td>3</td>\n",
       "      <td>1.000000e+00</td>\n",
       "      <td>6.123234e-17</td>\n",
       "      <td>131.293350</td>\n",
       "    </tr>\n",
       "    <tr>\n",
       "      <th>283</th>\n",
       "      <td>4.0</td>\n",
       "      <td>2.00</td>\n",
       "      <td>2670</td>\n",
       "      <td>3240</td>\n",
       "      <td>1.5</td>\n",
       "      <td>0</td>\n",
       "      <td>3</td>\n",
       "      <td>7</td>\n",
       "      <td>1780</td>\n",
       "      <td>890</td>\n",
       "      <td>84</td>\n",
       "      <td>2014</td>\n",
       "      <td>1</td>\n",
       "      <td>1.224647e-16</td>\n",
       "      <td>-1.000000e+00</td>\n",
       "      <td>131.225266</td>\n",
       "    </tr>\n",
       "    <tr>\n",
       "      <th>19303</th>\n",
       "      <td>4.0</td>\n",
       "      <td>2.25</td>\n",
       "      <td>2040</td>\n",
       "      <td>12000</td>\n",
       "      <td>1.0</td>\n",
       "      <td>0</td>\n",
       "      <td>3</td>\n",
       "      <td>5</td>\n",
       "      <td>1300</td>\n",
       "      <td>740</td>\n",
       "      <td>52</td>\n",
       "      <td>2015</td>\n",
       "      <td>2</td>\n",
       "      <td>1.000000e+00</td>\n",
       "      <td>6.123234e-17</td>\n",
       "      <td>131.231110</td>\n",
       "    </tr>\n",
       "  </tbody>\n",
       "</table>\n",
       "</div>"
      ],
      "text/plain": [
       "       bedrooms  bathrooms  sqft_living  sqft_lot  floors  waterfront  \\\n",
       "14950       4.0       3.25         3640     13530     1.0           0   \n",
       "17556       3.0       2.00         1600     16530     1.0           0   \n",
       "18076       5.0       3.00         3880      8432     2.0           0   \n",
       "12171       4.0       2.00         1760      5307     1.5           0   \n",
       "19570       5.0       2.50         3270      6129     2.0           0   \n",
       "20035       3.0       1.75         2660      7800     1.0           0   \n",
       "2197        2.0       1.00          960    223898     1.0           0   \n",
       "5250        3.0       3.25         1560      1345     2.0           0   \n",
       "283         4.0       2.00         2670      3240     1.5           0   \n",
       "19303       4.0       2.25         2040     12000     1.0           0   \n",
       "\n",
       "       condition  grade  sqft_above  sqft_basement  yr_built  yr_renovated  \\\n",
       "14950          2      7        2570           1070        91            15   \n",
       "17556          4      5        1600              0        47          2014   \n",
       "18076          2      5        3880              0        10          2014   \n",
       "12171          3      5        1170            590        66          2014   \n",
       "19570          2      7        3270              0        10          2014   \n",
       "20035          3      6        1330           1330        64          2015   \n",
       "2197           2      4         960              0        29          2014   \n",
       "5250           2      6        1260            300         6          2015   \n",
       "283            3      7        1780            890        84          2014   \n",
       "19303          3      5        1300            740        52          2015   \n",
       "\n",
       "       zipcode      mnth_sin      mnth_cos           R  \n",
       "14950        0  1.000000e+00  6.123234e-17  131.189468  \n",
       "17556        0 -8.660254e-01 -5.000000e-01  130.965500  \n",
       "18076        3 -8.660254e-01 -5.000000e-01  131.077774  \n",
       "12171        0 -1.000000e+00 -1.836970e-16  131.243896  \n",
       "19570        4 -5.000000e-01  8.660254e-01  131.095108  \n",
       "20035        2  5.000000e-01  8.660254e-01  131.345337  \n",
       "2197         2 -5.000000e-01 -8.660254e-01  130.880798  \n",
       "5250         3  1.000000e+00  6.123234e-17  131.293350  \n",
       "283          1  1.224647e-16 -1.000000e+00  131.225266  \n",
       "19303        2  1.000000e+00  6.123234e-17  131.231110  "
      ]
     },
     "execution_count": 16,
     "metadata": {},
     "output_type": "execute_result"
    }
   ],
   "source": [
    "from sklearn.preprocessing import LabelEncoder\n",
    "\n",
    "ordinals = ['condition','grade','waterfront','zipcode']\n",
    "\n",
    "for ordinal in ordinals:\n",
    "    le = LabelEncoder()\n",
    "    le.fit(df[ordinal])\n",
    "    df[ordinal] = le.transform(df[ordinal])\n",
    "df.sample(10)"
   ]
  },
  {
   "cell_type": "code",
   "execution_count": 17,
   "metadata": {},
   "outputs": [
    {
     "data": {
      "text/html": [
       "<div>\n",
       "<style>\n",
       "    .dataframe thead tr:only-child th {\n",
       "        text-align: right;\n",
       "    }\n",
       "\n",
       "    .dataframe thead th {\n",
       "        text-align: left;\n",
       "    }\n",
       "\n",
       "    .dataframe tbody tr th {\n",
       "        vertical-align: top;\n",
       "    }\n",
       "</style>\n",
       "<table border=\"1\" class=\"dataframe\">\n",
       "  <thead>\n",
       "    <tr style=\"text-align: right;\">\n",
       "      <th></th>\n",
       "      <th>skewness</th>\n",
       "    </tr>\n",
       "  </thead>\n",
       "  <tbody>\n",
       "    <tr>\n",
       "      <th>sqft_lot</th>\n",
       "      <td>13.060019</td>\n",
       "    </tr>\n",
       "    <tr>\n",
       "      <th>waterfront</th>\n",
       "      <td>11.385108</td>\n",
       "    </tr>\n",
       "    <tr>\n",
       "      <th>yr_renovated</th>\n",
       "      <td>-4.566595</td>\n",
       "    </tr>\n",
       "    <tr>\n",
       "      <th>bedrooms</th>\n",
       "      <td>1.974300</td>\n",
       "    </tr>\n",
       "    <tr>\n",
       "      <th>sqft_basement</th>\n",
       "      <td>1.577965</td>\n",
       "    </tr>\n",
       "    <tr>\n",
       "      <th>sqft_living</th>\n",
       "      <td>1.471555</td>\n",
       "    </tr>\n",
       "    <tr>\n",
       "      <th>sqft_above</th>\n",
       "      <td>1.446664</td>\n",
       "    </tr>\n",
       "    <tr>\n",
       "      <th>condition</th>\n",
       "      <td>1.032805</td>\n",
       "    </tr>\n",
       "    <tr>\n",
       "      <th>grade</th>\n",
       "      <td>0.774712</td>\n",
       "    </tr>\n",
       "    <tr>\n",
       "      <th>R</th>\n",
       "      <td>-0.706282</td>\n",
       "    </tr>\n",
       "    <tr>\n",
       "      <th>floors</th>\n",
       "      <td>0.616177</td>\n",
       "    </tr>\n",
       "    <tr>\n",
       "      <th>bathrooms</th>\n",
       "      <td>0.511108</td>\n",
       "    </tr>\n",
       "    <tr>\n",
       "      <th>yr_built</th>\n",
       "      <td>0.469162</td>\n",
       "    </tr>\n",
       "    <tr>\n",
       "      <th>mnth_cos</th>\n",
       "      <td>0.263148</td>\n",
       "    </tr>\n",
       "    <tr>\n",
       "      <th>mnth_sin</th>\n",
       "      <td>-0.122749</td>\n",
       "    </tr>\n",
       "    <tr>\n",
       "      <th>zipcode</th>\n",
       "      <td>-0.041241</td>\n",
       "    </tr>\n",
       "  </tbody>\n",
       "</table>\n",
       "</div>"
      ],
      "text/plain": [
       "                skewness\n",
       "sqft_lot       13.060019\n",
       "waterfront     11.385108\n",
       "yr_renovated   -4.566595\n",
       "bedrooms        1.974300\n",
       "sqft_basement   1.577965\n",
       "sqft_living     1.471555\n",
       "sqft_above      1.446664\n",
       "condition       1.032805\n",
       "grade           0.774712\n",
       "R              -0.706282\n",
       "floors          0.616177\n",
       "bathrooms       0.511108\n",
       "yr_built        0.469162\n",
       "mnth_cos        0.263148\n",
       "mnth_sin       -0.122749\n",
       "zipcode        -0.041241"
      ]
     },
     "execution_count": 17,
     "metadata": {},
     "output_type": "execute_result"
    }
   ],
   "source": [
    "# Assign numeric features by excluding non numeric features\n",
    "numeric = df.dtypes[df.dtypes != 'object'].index\n",
    "\n",
    "# Display the skewness of each column and sort the values in descending order \n",
    "skewness = df[numeric].apply(lambda x: x.skew()).sort_values(ascending=False)\n",
    "\n",
    "# Create a dataframe and show 5 most skewed features \n",
    "sk_df = pd.DataFrame(skewness,columns=['skewness'])\n",
    "sk_df['skw'] = abs(sk_df)\n",
    "sk_df.sort_values('skw',ascending=False).drop('skw',axis=1)"
   ]
  },
  {
   "cell_type": "code",
   "execution_count": 18,
   "metadata": {
    "collapsed": true
   },
   "outputs": [],
   "source": [
    "skw_feature = skewness[abs(skewness) > 0.5].index\n",
    "\n",
    "# Transform skewed features to normal distribution by taking log(1 + input)\n",
    "df[skw_feature] = np.log1p(df[skw_feature])"
   ]
  },
  {
   "cell_type": "code",
   "execution_count": 19,
   "metadata": {},
   "outputs": [
    {
     "data": {
      "text/html": [
       "<div>\n",
       "<style>\n",
       "    .dataframe thead tr:only-child th {\n",
       "        text-align: right;\n",
       "    }\n",
       "\n",
       "    .dataframe thead th {\n",
       "        text-align: left;\n",
       "    }\n",
       "\n",
       "    .dataframe tbody tr th {\n",
       "        vertical-align: top;\n",
       "    }\n",
       "</style>\n",
       "<table border=\"1\" class=\"dataframe\">\n",
       "  <thead>\n",
       "    <tr style=\"text-align: right;\">\n",
       "      <th></th>\n",
       "      <th>bedrooms</th>\n",
       "      <th>bathrooms</th>\n",
       "      <th>sqft_living</th>\n",
       "      <th>sqft_lot</th>\n",
       "      <th>floors</th>\n",
       "      <th>waterfront</th>\n",
       "      <th>condition</th>\n",
       "      <th>grade</th>\n",
       "      <th>sqft_above</th>\n",
       "      <th>sqft_basement</th>\n",
       "      <th>yr_built</th>\n",
       "      <th>yr_renovated</th>\n",
       "      <th>zipcode</th>\n",
       "      <th>mnth_sin</th>\n",
       "      <th>mnth_cos</th>\n",
       "      <th>R</th>\n",
       "    </tr>\n",
       "  </thead>\n",
       "  <tbody>\n",
       "    <tr>\n",
       "      <th>7395</th>\n",
       "      <td>1.609438</td>\n",
       "      <td>1.446919</td>\n",
       "      <td>7.958926</td>\n",
       "      <td>8.210940</td>\n",
       "      <td>1.098612</td>\n",
       "      <td>0.000000</td>\n",
       "      <td>1.098612</td>\n",
       "      <td>2.079442</td>\n",
       "      <td>7.591357</td>\n",
       "      <td>6.781058</td>\n",
       "      <td>90</td>\n",
       "      <td>3.135494</td>\n",
       "      <td>1</td>\n",
       "      <td>8.660254e-01</td>\n",
       "      <td>5.000000e-01</td>\n",
       "      <td>4.884799</td>\n",
       "    </tr>\n",
       "    <tr>\n",
       "      <th>1197</th>\n",
       "      <td>1.609438</td>\n",
       "      <td>1.252763</td>\n",
       "      <td>7.841100</td>\n",
       "      <td>8.719481</td>\n",
       "      <td>1.098612</td>\n",
       "      <td>0.000000</td>\n",
       "      <td>1.098612</td>\n",
       "      <td>1.945910</td>\n",
       "      <td>7.841100</td>\n",
       "      <td>0.000000</td>\n",
       "      <td>0</td>\n",
       "      <td>7.608374</td>\n",
       "      <td>4</td>\n",
       "      <td>-1.000000e+00</td>\n",
       "      <td>-1.836970e-16</td>\n",
       "      <td>4.883187</td>\n",
       "    </tr>\n",
       "    <tr>\n",
       "      <th>12081</th>\n",
       "      <td>1.609438</td>\n",
       "      <td>1.386294</td>\n",
       "      <td>8.006701</td>\n",
       "      <td>9.239705</td>\n",
       "      <td>1.098612</td>\n",
       "      <td>0.000000</td>\n",
       "      <td>1.098612</td>\n",
       "      <td>1.945910</td>\n",
       "      <td>8.006701</td>\n",
       "      <td>0.000000</td>\n",
       "      <td>11</td>\n",
       "      <td>7.608374</td>\n",
       "      <td>4</td>\n",
       "      <td>-5.000000e-01</td>\n",
       "      <td>-8.660254e-01</td>\n",
       "      <td>4.882356</td>\n",
       "    </tr>\n",
       "    <tr>\n",
       "      <th>4942</th>\n",
       "      <td>0.693147</td>\n",
       "      <td>0.559616</td>\n",
       "      <td>6.660575</td>\n",
       "      <td>11.259374</td>\n",
       "      <td>0.693147</td>\n",
       "      <td>0.000000</td>\n",
       "      <td>0.000000</td>\n",
       "      <td>1.386294</td>\n",
       "      <td>6.660575</td>\n",
       "      <td>0.000000</td>\n",
       "      <td>70</td>\n",
       "      <td>7.608871</td>\n",
       "      <td>3</td>\n",
       "      <td>0.000000e+00</td>\n",
       "      <td>1.000000e+00</td>\n",
       "      <td>4.882770</td>\n",
       "    </tr>\n",
       "    <tr>\n",
       "      <th>6676</th>\n",
       "      <td>1.386294</td>\n",
       "      <td>0.916291</td>\n",
       "      <td>7.596392</td>\n",
       "      <td>8.696009</td>\n",
       "      <td>0.916291</td>\n",
       "      <td>0.693147</td>\n",
       "      <td>1.386294</td>\n",
       "      <td>1.791759</td>\n",
       "      <td>7.596392</td>\n",
       "      <td>0.000000</td>\n",
       "      <td>88</td>\n",
       "      <td>7.608374</td>\n",
       "      <td>4</td>\n",
       "      <td>1.224647e-16</td>\n",
       "      <td>-1.000000e+00</td>\n",
       "      <td>4.884099</td>\n",
       "    </tr>\n",
       "    <tr>\n",
       "      <th>5464</th>\n",
       "      <td>1.609438</td>\n",
       "      <td>1.098612</td>\n",
       "      <td>7.630947</td>\n",
       "      <td>8.764210</td>\n",
       "      <td>0.693147</td>\n",
       "      <td>0.000000</td>\n",
       "      <td>1.098612</td>\n",
       "      <td>1.791759</td>\n",
       "      <td>7.065613</td>\n",
       "      <td>6.792344</td>\n",
       "      <td>38</td>\n",
       "      <td>7.608871</td>\n",
       "      <td>4</td>\n",
       "      <td>5.000000e-01</td>\n",
       "      <td>8.660254e-01</td>\n",
       "      <td>4.883024</td>\n",
       "    </tr>\n",
       "    <tr>\n",
       "      <th>15327</th>\n",
       "      <td>1.386294</td>\n",
       "      <td>0.693147</td>\n",
       "      <td>7.139660</td>\n",
       "      <td>8.699681</td>\n",
       "      <td>0.693147</td>\n",
       "      <td>0.000000</td>\n",
       "      <td>1.386294</td>\n",
       "      <td>1.609438</td>\n",
       "      <td>7.139660</td>\n",
       "      <td>0.000000</td>\n",
       "      <td>61</td>\n",
       "      <td>7.608871</td>\n",
       "      <td>4</td>\n",
       "      <td>8.660254e-01</td>\n",
       "      <td>-5.000000e-01</td>\n",
       "      <td>4.884259</td>\n",
       "    </tr>\n",
       "    <tr>\n",
       "      <th>14838</th>\n",
       "      <td>1.386294</td>\n",
       "      <td>1.178655</td>\n",
       "      <td>7.581210</td>\n",
       "      <td>9.224243</td>\n",
       "      <td>1.098612</td>\n",
       "      <td>0.000000</td>\n",
       "      <td>1.098612</td>\n",
       "      <td>1.945910</td>\n",
       "      <td>7.581210</td>\n",
       "      <td>0.000000</td>\n",
       "      <td>31</td>\n",
       "      <td>7.608871</td>\n",
       "      <td>0</td>\n",
       "      <td>1.000000e+00</td>\n",
       "      <td>6.123234e-17</td>\n",
       "      <td>4.883040</td>\n",
       "    </tr>\n",
       "    <tr>\n",
       "      <th>20522</th>\n",
       "      <td>1.098612</td>\n",
       "      <td>1.252763</td>\n",
       "      <td>7.215975</td>\n",
       "      <td>7.898782</td>\n",
       "      <td>1.098612</td>\n",
       "      <td>0.000000</td>\n",
       "      <td>1.098612</td>\n",
       "      <td>1.609438</td>\n",
       "      <td>7.215975</td>\n",
       "      <td>0.000000</td>\n",
       "      <td>11</td>\n",
       "      <td>7.608374</td>\n",
       "      <td>3</td>\n",
       "      <td>-5.000000e-01</td>\n",
       "      <td>-8.660254e-01</td>\n",
       "      <td>4.881964</td>\n",
       "    </tr>\n",
       "    <tr>\n",
       "      <th>15626</th>\n",
       "      <td>1.609438</td>\n",
       "      <td>1.178655</td>\n",
       "      <td>7.669028</td>\n",
       "      <td>9.090994</td>\n",
       "      <td>1.098612</td>\n",
       "      <td>0.000000</td>\n",
       "      <td>1.098612</td>\n",
       "      <td>1.945910</td>\n",
       "      <td>7.669028</td>\n",
       "      <td>0.000000</td>\n",
       "      <td>29</td>\n",
       "      <td>7.608871</td>\n",
       "      <td>3</td>\n",
       "      <td>0.000000e+00</td>\n",
       "      <td>1.000000e+00</td>\n",
       "      <td>4.883091</td>\n",
       "    </tr>\n",
       "  </tbody>\n",
       "</table>\n",
       "</div>"
      ],
      "text/plain": [
       "       bedrooms  bathrooms  sqft_living   sqft_lot    floors  waterfront  \\\n",
       "7395   1.609438   1.446919     7.958926   8.210940  1.098612    0.000000   \n",
       "1197   1.609438   1.252763     7.841100   8.719481  1.098612    0.000000   \n",
       "12081  1.609438   1.386294     8.006701   9.239705  1.098612    0.000000   \n",
       "4942   0.693147   0.559616     6.660575  11.259374  0.693147    0.000000   \n",
       "6676   1.386294   0.916291     7.596392   8.696009  0.916291    0.693147   \n",
       "5464   1.609438   1.098612     7.630947   8.764210  0.693147    0.000000   \n",
       "15327  1.386294   0.693147     7.139660   8.699681  0.693147    0.000000   \n",
       "14838  1.386294   1.178655     7.581210   9.224243  1.098612    0.000000   \n",
       "20522  1.098612   1.252763     7.215975   7.898782  1.098612    0.000000   \n",
       "15626  1.609438   1.178655     7.669028   9.090994  1.098612    0.000000   \n",
       "\n",
       "       condition     grade  sqft_above  sqft_basement  yr_built  yr_renovated  \\\n",
       "7395    1.098612  2.079442    7.591357       6.781058        90      3.135494   \n",
       "1197    1.098612  1.945910    7.841100       0.000000         0      7.608374   \n",
       "12081   1.098612  1.945910    8.006701       0.000000        11      7.608374   \n",
       "4942    0.000000  1.386294    6.660575       0.000000        70      7.608871   \n",
       "6676    1.386294  1.791759    7.596392       0.000000        88      7.608374   \n",
       "5464    1.098612  1.791759    7.065613       6.792344        38      7.608871   \n",
       "15327   1.386294  1.609438    7.139660       0.000000        61      7.608871   \n",
       "14838   1.098612  1.945910    7.581210       0.000000        31      7.608871   \n",
       "20522   1.098612  1.609438    7.215975       0.000000        11      7.608374   \n",
       "15626   1.098612  1.945910    7.669028       0.000000        29      7.608871   \n",
       "\n",
       "       zipcode      mnth_sin      mnth_cos         R  \n",
       "7395         1  8.660254e-01  5.000000e-01  4.884799  \n",
       "1197         4 -1.000000e+00 -1.836970e-16  4.883187  \n",
       "12081        4 -5.000000e-01 -8.660254e-01  4.882356  \n",
       "4942         3  0.000000e+00  1.000000e+00  4.882770  \n",
       "6676         4  1.224647e-16 -1.000000e+00  4.884099  \n",
       "5464         4  5.000000e-01  8.660254e-01  4.883024  \n",
       "15327        4  8.660254e-01 -5.000000e-01  4.884259  \n",
       "14838        0  1.000000e+00  6.123234e-17  4.883040  \n",
       "20522        3 -5.000000e-01 -8.660254e-01  4.881964  \n",
       "15626        3  0.000000e+00  1.000000e+00  4.883091  "
      ]
     },
     "execution_count": 19,
     "metadata": {},
     "output_type": "execute_result"
    }
   ],
   "source": [
    "df.sample(10)"
   ]
  },
  {
   "cell_type": "code",
   "execution_count": 20,
   "metadata": {},
   "outputs": [
    {
     "data": {
      "text/plain": [
       "bedrooms         True\n",
       "bathrooms        True\n",
       "sqft_living      True\n",
       "sqft_lot         True\n",
       "floors           True\n",
       "waterfront       True\n",
       "condition        True\n",
       "grade            True\n",
       "sqft_above       True\n",
       "sqft_basement    True\n",
       "yr_built         True\n",
       "yr_renovated     True\n",
       "zipcode          True\n",
       "mnth_sin         True\n",
       "mnth_cos         True\n",
       "R                True\n",
       "dtype: bool"
      ]
     },
     "execution_count": 20,
     "metadata": {},
     "output_type": "execute_result"
    }
   ],
   "source": [
    "np.all(np.isfinite(df))#3271"
   ]
  },
  {
   "cell_type": "code",
   "execution_count": 21,
   "metadata": {},
   "outputs": [
    {
     "name": "stdout",
     "output_type": "stream",
     "text": [
      "training shape:(15000, 16), test shape:(6613, 16)\n"
     ]
    }
   ],
   "source": [
    "X_train = df[:df_train.shape[0]]\n",
    "X_test = df[df_train.shape[0]:]\n",
    "print(\"training shape:{}, test shape:{}\".format(X_train.shape,X_test.shape))"
   ]
  },
  {
   "cell_type": "code",
   "execution_count": 22,
   "metadata": {},
   "outputs": [
    {
     "data": {
      "text/html": [
       "<div>\n",
       "<style>\n",
       "    .dataframe thead tr:only-child th {\n",
       "        text-align: right;\n",
       "    }\n",
       "\n",
       "    .dataframe thead th {\n",
       "        text-align: left;\n",
       "    }\n",
       "\n",
       "    .dataframe tbody tr th {\n",
       "        vertical-align: top;\n",
       "    }\n",
       "</style>\n",
       "<table border=\"1\" class=\"dataframe\">\n",
       "  <thead>\n",
       "    <tr style=\"text-align: right;\">\n",
       "      <th></th>\n",
       "      <th>bedrooms</th>\n",
       "      <th>bathrooms</th>\n",
       "      <th>sqft_living</th>\n",
       "      <th>sqft_lot</th>\n",
       "      <th>floors</th>\n",
       "      <th>waterfront</th>\n",
       "      <th>condition</th>\n",
       "      <th>grade</th>\n",
       "      <th>sqft_above</th>\n",
       "      <th>sqft_basement</th>\n",
       "      <th>yr_built</th>\n",
       "      <th>yr_renovated</th>\n",
       "      <th>zipcode</th>\n",
       "      <th>mnth_sin</th>\n",
       "      <th>mnth_cos</th>\n",
       "      <th>R</th>\n",
       "    </tr>\n",
       "  </thead>\n",
       "  <tbody>\n",
       "    <tr>\n",
       "      <th>9513</th>\n",
       "      <td>1.609438</td>\n",
       "      <td>1.558145</td>\n",
       "      <td>8.394121</td>\n",
       "      <td>9.158310</td>\n",
       "      <td>1.098612</td>\n",
       "      <td>0.0</td>\n",
       "      <td>1.098612</td>\n",
       "      <td>2.079442</td>\n",
       "      <td>8.137688</td>\n",
       "      <td>6.908755</td>\n",
       "      <td>52</td>\n",
       "      <td>2.302585</td>\n",
       "      <td>2</td>\n",
       "      <td>-1.000000</td>\n",
       "      <td>-1.836970e-16</td>\n",
       "      <td>4.884806</td>\n",
       "    </tr>\n",
       "    <tr>\n",
       "      <th>4689</th>\n",
       "      <td>1.386294</td>\n",
       "      <td>1.252763</td>\n",
       "      <td>7.601402</td>\n",
       "      <td>8.882669</td>\n",
       "      <td>1.098612</td>\n",
       "      <td>0.0</td>\n",
       "      <td>1.098612</td>\n",
       "      <td>1.945910</td>\n",
       "      <td>7.601402</td>\n",
       "      <td>0.000000</td>\n",
       "      <td>17</td>\n",
       "      <td>7.608871</td>\n",
       "      <td>4</td>\n",
       "      <td>0.866025</td>\n",
       "      <td>5.000000e-01</td>\n",
       "      <td>4.883922</td>\n",
       "    </tr>\n",
       "    <tr>\n",
       "      <th>7218</th>\n",
       "      <td>1.386294</td>\n",
       "      <td>1.252763</td>\n",
       "      <td>7.462215</td>\n",
       "      <td>8.222016</td>\n",
       "      <td>1.098612</td>\n",
       "      <td>0.0</td>\n",
       "      <td>1.098612</td>\n",
       "      <td>1.945910</td>\n",
       "      <td>7.462215</td>\n",
       "      <td>0.000000</td>\n",
       "      <td>5</td>\n",
       "      <td>7.608374</td>\n",
       "      <td>4</td>\n",
       "      <td>-1.000000</td>\n",
       "      <td>-1.836970e-16</td>\n",
       "      <td>4.883257</td>\n",
       "    </tr>\n",
       "    <tr>\n",
       "      <th>10949</th>\n",
       "      <td>1.386294</td>\n",
       "      <td>1.252763</td>\n",
       "      <td>8.033009</td>\n",
       "      <td>8.630343</td>\n",
       "      <td>1.098612</td>\n",
       "      <td>0.0</td>\n",
       "      <td>1.098612</td>\n",
       "      <td>1.945910</td>\n",
       "      <td>8.033009</td>\n",
       "      <td>0.000000</td>\n",
       "      <td>9</td>\n",
       "      <td>7.608871</td>\n",
       "      <td>4</td>\n",
       "      <td>0.500000</td>\n",
       "      <td>8.660254e-01</td>\n",
       "      <td>4.883484</td>\n",
       "    </tr>\n",
       "    <tr>\n",
       "      <th>9652</th>\n",
       "      <td>1.386294</td>\n",
       "      <td>1.098612</td>\n",
       "      <td>7.425954</td>\n",
       "      <td>9.536979</td>\n",
       "      <td>0.693147</td>\n",
       "      <td>0.0</td>\n",
       "      <td>1.098612</td>\n",
       "      <td>1.791759</td>\n",
       "      <td>7.425954</td>\n",
       "      <td>0.000000</td>\n",
       "      <td>21</td>\n",
       "      <td>7.608871</td>\n",
       "      <td>4</td>\n",
       "      <td>0.866025</td>\n",
       "      <td>-5.000000e-01</td>\n",
       "      <td>4.883199</td>\n",
       "    </tr>\n",
       "    <tr>\n",
       "      <th>13298</th>\n",
       "      <td>1.609438</td>\n",
       "      <td>1.252763</td>\n",
       "      <td>7.852050</td>\n",
       "      <td>10.008568</td>\n",
       "      <td>1.098612</td>\n",
       "      <td>0.0</td>\n",
       "      <td>1.609438</td>\n",
       "      <td>1.791759</td>\n",
       "      <td>7.852050</td>\n",
       "      <td>0.000000</td>\n",
       "      <td>56</td>\n",
       "      <td>7.608374</td>\n",
       "      <td>2</td>\n",
       "      <td>-0.866025</td>\n",
       "      <td>-5.000000e-01</td>\n",
       "      <td>4.883264</td>\n",
       "    </tr>\n",
       "    <tr>\n",
       "      <th>8245</th>\n",
       "      <td>1.386294</td>\n",
       "      <td>1.252763</td>\n",
       "      <td>7.800163</td>\n",
       "      <td>8.331827</td>\n",
       "      <td>1.098612</td>\n",
       "      <td>0.0</td>\n",
       "      <td>1.098612</td>\n",
       "      <td>2.079442</td>\n",
       "      <td>7.800163</td>\n",
       "      <td>0.000000</td>\n",
       "      <td>11</td>\n",
       "      <td>7.608374</td>\n",
       "      <td>1</td>\n",
       "      <td>0.500000</td>\n",
       "      <td>-8.660254e-01</td>\n",
       "      <td>4.883270</td>\n",
       "    </tr>\n",
       "    <tr>\n",
       "      <th>10771</th>\n",
       "      <td>1.609438</td>\n",
       "      <td>0.916291</td>\n",
       "      <td>7.444833</td>\n",
       "      <td>8.434029</td>\n",
       "      <td>0.916291</td>\n",
       "      <td>0.0</td>\n",
       "      <td>1.098612</td>\n",
       "      <td>1.791759</td>\n",
       "      <td>7.444833</td>\n",
       "      <td>0.000000</td>\n",
       "      <td>90</td>\n",
       "      <td>7.608374</td>\n",
       "      <td>1</td>\n",
       "      <td>-0.500000</td>\n",
       "      <td>8.660254e-01</td>\n",
       "      <td>4.884952</td>\n",
       "    </tr>\n",
       "    <tr>\n",
       "      <th>441</th>\n",
       "      <td>1.609438</td>\n",
       "      <td>1.011601</td>\n",
       "      <td>7.705713</td>\n",
       "      <td>8.779711</td>\n",
       "      <td>1.098612</td>\n",
       "      <td>0.0</td>\n",
       "      <td>1.386294</td>\n",
       "      <td>1.945910</td>\n",
       "      <td>7.705713</td>\n",
       "      <td>0.000000</td>\n",
       "      <td>50</td>\n",
       "      <td>7.608374</td>\n",
       "      <td>2</td>\n",
       "      <td>0.500000</td>\n",
       "      <td>-8.660254e-01</td>\n",
       "      <td>4.884716</td>\n",
       "    </tr>\n",
       "    <tr>\n",
       "      <th>684</th>\n",
       "      <td>1.609438</td>\n",
       "      <td>1.446919</td>\n",
       "      <td>8.258681</td>\n",
       "      <td>9.788133</td>\n",
       "      <td>0.693147</td>\n",
       "      <td>0.0</td>\n",
       "      <td>1.386294</td>\n",
       "      <td>2.197225</td>\n",
       "      <td>7.875119</td>\n",
       "      <td>7.115582</td>\n",
       "      <td>39</td>\n",
       "      <td>7.608374</td>\n",
       "      <td>0</td>\n",
       "      <td>-0.500000</td>\n",
       "      <td>-8.660254e-01</td>\n",
       "      <td>4.884055</td>\n",
       "    </tr>\n",
       "  </tbody>\n",
       "</table>\n",
       "</div>"
      ],
      "text/plain": [
       "       bedrooms  bathrooms  sqft_living   sqft_lot    floors  waterfront  \\\n",
       "9513   1.609438   1.558145     8.394121   9.158310  1.098612         0.0   \n",
       "4689   1.386294   1.252763     7.601402   8.882669  1.098612         0.0   \n",
       "7218   1.386294   1.252763     7.462215   8.222016  1.098612         0.0   \n",
       "10949  1.386294   1.252763     8.033009   8.630343  1.098612         0.0   \n",
       "9652   1.386294   1.098612     7.425954   9.536979  0.693147         0.0   \n",
       "13298  1.609438   1.252763     7.852050  10.008568  1.098612         0.0   \n",
       "8245   1.386294   1.252763     7.800163   8.331827  1.098612         0.0   \n",
       "10771  1.609438   0.916291     7.444833   8.434029  0.916291         0.0   \n",
       "441    1.609438   1.011601     7.705713   8.779711  1.098612         0.0   \n",
       "684    1.609438   1.446919     8.258681   9.788133  0.693147         0.0   \n",
       "\n",
       "       condition     grade  sqft_above  sqft_basement  yr_built  yr_renovated  \\\n",
       "9513    1.098612  2.079442    8.137688       6.908755        52      2.302585   \n",
       "4689    1.098612  1.945910    7.601402       0.000000        17      7.608871   \n",
       "7218    1.098612  1.945910    7.462215       0.000000         5      7.608374   \n",
       "10949   1.098612  1.945910    8.033009       0.000000         9      7.608871   \n",
       "9652    1.098612  1.791759    7.425954       0.000000        21      7.608871   \n",
       "13298   1.609438  1.791759    7.852050       0.000000        56      7.608374   \n",
       "8245    1.098612  2.079442    7.800163       0.000000        11      7.608374   \n",
       "10771   1.098612  1.791759    7.444833       0.000000        90      7.608374   \n",
       "441     1.386294  1.945910    7.705713       0.000000        50      7.608374   \n",
       "684     1.386294  2.197225    7.875119       7.115582        39      7.608374   \n",
       "\n",
       "       zipcode  mnth_sin      mnth_cos         R  \n",
       "9513         2 -1.000000 -1.836970e-16  4.884806  \n",
       "4689         4  0.866025  5.000000e-01  4.883922  \n",
       "7218         4 -1.000000 -1.836970e-16  4.883257  \n",
       "10949        4  0.500000  8.660254e-01  4.883484  \n",
       "9652         4  0.866025 -5.000000e-01  4.883199  \n",
       "13298        2 -0.866025 -5.000000e-01  4.883264  \n",
       "8245         1  0.500000 -8.660254e-01  4.883270  \n",
       "10771        1 -0.500000  8.660254e-01  4.884952  \n",
       "441          2  0.500000 -8.660254e-01  4.884716  \n",
       "684          0 -0.500000 -8.660254e-01  4.884055  "
      ]
     },
     "execution_count": 22,
     "metadata": {},
     "output_type": "execute_result"
    }
   ],
   "source": [
    "X_train.sample(10)"
   ]
  },
  {
   "cell_type": "markdown",
   "metadata": {},
   "source": [
    "def grade_plot(df):\n",
    "    y_plot=df.groupby('condition')['Price'].mean()\n",
    "    y_plot=y_plot.sort_values()\n",
    "    zip_labels=y_plot.index.astype('str')\n",
    "    y_pos=np.arange(len(zip_labels))\n",
    "    x=y_plot.values\n",
    "    plt.figure(figsize=(15,10))\n",
    "\n",
    "    plt.barh(y_pos, x, color='green')\n",
    "    plt.yticks(y_pos,zip_labels)\n",
    "    \n",
    "    plt.show()\n",
    "grade_plot(df_train)"
   ]
  },
  {
   "cell_type": "code",
   "execution_count": 23,
   "metadata": {},
   "outputs": [
    {
     "data": {
      "text/plain": [
       "Series([], dtype: float64)"
      ]
     },
     "execution_count": 23,
     "metadata": {},
     "output_type": "execute_result"
    }
   ],
   "source": [
    "null_columns=X_train.columns[X_train.isnull().any()]\n",
    "X_train[null_columns].isnull().sum()"
   ]
  },
  {
   "cell_type": "code",
   "execution_count": 24,
   "metadata": {},
   "outputs": [
    {
     "data": {
      "text/plain": [
       "bedrooms         float64\n",
       "bathrooms        float64\n",
       "sqft_living      float64\n",
       "sqft_lot         float64\n",
       "floors           float64\n",
       "waterfront       float64\n",
       "condition        float64\n",
       "grade            float64\n",
       "sqft_above       float64\n",
       "sqft_basement    float64\n",
       "yr_built           int64\n",
       "yr_renovated     float64\n",
       "zipcode            int64\n",
       "mnth_sin         float64\n",
       "mnth_cos         float64\n",
       "R                float64\n",
       "dtype: object"
      ]
     },
     "execution_count": 24,
     "metadata": {},
     "output_type": "execute_result"
    }
   ],
   "source": [
    "df.dtypes"
   ]
  },
  {
   "cell_type": "code",
   "execution_count": 25,
   "metadata": {},
   "outputs": [
    {
     "data": {
      "text/plain": [
       "bedrooms         False\n",
       "bathrooms        False\n",
       "sqft_living      False\n",
       "sqft_lot         False\n",
       "floors           False\n",
       "waterfront       False\n",
       "condition        False\n",
       "grade            False\n",
       "sqft_above       False\n",
       "sqft_basement    False\n",
       "yr_built         False\n",
       "yr_renovated     False\n",
       "zipcode          False\n",
       "mnth_sin         False\n",
       "mnth_cos         False\n",
       "R                False\n",
       "dtype: bool"
      ]
     },
     "execution_count": 25,
     "metadata": {},
     "output_type": "execute_result"
    }
   ],
   "source": [
    "np.any(np.isnan(X_train))"
   ]
  },
  {
   "cell_type": "code",
   "execution_count": 26,
   "metadata": {},
   "outputs": [
    {
     "data": {
      "text/plain": [
       "bedrooms         True\n",
       "bathrooms        True\n",
       "sqft_living      True\n",
       "sqft_lot         True\n",
       "floors           True\n",
       "waterfront       True\n",
       "condition        True\n",
       "grade            True\n",
       "sqft_above       True\n",
       "sqft_basement    True\n",
       "yr_built         True\n",
       "yr_renovated     True\n",
       "zipcode          True\n",
       "mnth_sin         True\n",
       "mnth_cos         True\n",
       "R                True\n",
       "dtype: bool"
      ]
     },
     "execution_count": 26,
     "metadata": {},
     "output_type": "execute_result"
    }
   ],
   "source": [
    "np.all(np.isfinite(X_train))"
   ]
  },
  {
   "cell_type": "code",
   "execution_count": 27,
   "metadata": {},
   "outputs": [
    {
     "data": {
      "text/html": [
       "<div>\n",
       "<style>\n",
       "    .dataframe thead tr:only-child th {\n",
       "        text-align: right;\n",
       "    }\n",
       "\n",
       "    .dataframe thead th {\n",
       "        text-align: left;\n",
       "    }\n",
       "\n",
       "    .dataframe tbody tr th {\n",
       "        vertical-align: top;\n",
       "    }\n",
       "</style>\n",
       "<table border=\"1\" class=\"dataframe\">\n",
       "  <thead>\n",
       "    <tr style=\"text-align: right;\">\n",
       "      <th></th>\n",
       "      <th>bedrooms</th>\n",
       "      <th>bathrooms</th>\n",
       "      <th>sqft_living</th>\n",
       "      <th>sqft_lot</th>\n",
       "      <th>floors</th>\n",
       "      <th>waterfront</th>\n",
       "      <th>condition</th>\n",
       "      <th>grade</th>\n",
       "      <th>sqft_above</th>\n",
       "      <th>sqft_basement</th>\n",
       "      <th>yr_built</th>\n",
       "      <th>yr_renovated</th>\n",
       "      <th>zipcode</th>\n",
       "      <th>mnth_sin</th>\n",
       "      <th>mnth_cos</th>\n",
       "      <th>R</th>\n",
       "    </tr>\n",
       "  </thead>\n",
       "  <tbody>\n",
       "  </tbody>\n",
       "</table>\n",
       "</div>"
      ],
      "text/plain": [
       "Empty DataFrame\n",
       "Columns: [bedrooms, bathrooms, sqft_living, sqft_lot, floors, waterfront, condition, grade, sqft_above, sqft_basement, yr_built, yr_renovated, zipcode, mnth_sin, mnth_cos, R]\n",
       "Index: []"
      ]
     },
     "execution_count": 27,
     "metadata": {},
     "output_type": "execute_result"
    }
   ],
   "source": [
    "X_train[(X_train.yr_renovated==np.inf)]"
   ]
  },
  {
   "cell_type": "code",
   "execution_count": 28,
   "metadata": {},
   "outputs": [
    {
     "data": {
      "text/plain": [
       "False"
      ]
     },
     "execution_count": 28,
     "metadata": {},
     "output_type": "execute_result"
    }
   ],
   "source": [
    "np.any(np.isnan(df_train.target))"
   ]
  },
  {
   "cell_type": "markdown",
   "metadata": {},
   "source": [
    "## PCA"
   ]
  },
  {
   "cell_type": "code",
   "execution_count": 29,
   "metadata": {},
   "outputs": [],
   "source": [
    "from sklearn.decomposition import PCA"
   ]
  },
  {
   "cell_type": "code",
   "execution_count": 30,
   "metadata": {},
   "outputs": [
    {
     "data": {
      "text/plain": [
       "18"
      ]
     },
     "execution_count": 30,
     "metadata": {},
     "output_type": "execute_result"
    }
   ],
   "source": [
    "len(df_train.columns)"
   ]
  },
  {
   "cell_type": "code",
   "execution_count": 39,
   "metadata": {},
   "outputs": [],
   "source": [
    "pca_range=range(1,len(X_train.columns))\n",
    "scores =[]\n",
    "for i in pca_range:\n",
    "    clf=RandomForestRegressor()\n",
    "    pca_hp = PCA(i)\n",
    "    x_fit = pca_hp.fit_transform(X_train)\n",
    "    scores.append(cross_val_score(clf, x_fit, df_train.target, cv=5, scoring=mape_scorer).mean())"
   ]
  },
  {
   "cell_type": "code",
   "execution_count": 40,
   "metadata": {},
   "outputs": [
    {
     "data": {
      "text/plain": [
       "([<matplotlib.axis.YTick at 0x7fa7048861d0>,\n",
       "  <matplotlib.axis.YTick at 0x7fa778282278>,\n",
       "  <matplotlib.axis.YTick at 0x7fa712293550>,\n",
       "  <matplotlib.axis.YTick at 0x7fa7121212b0>,\n",
       "  <matplotlib.axis.YTick at 0x7fa712121d30>,\n",
       "  <matplotlib.axis.YTick at 0x7fa7047fe588>,\n",
       "  <matplotlib.axis.YTick at 0x7fa704739240>,\n",
       "  <matplotlib.axis.YTick at 0x7fa7047392e8>,\n",
       "  <matplotlib.axis.YTick at 0x7fa70485cc50>,\n",
       "  <matplotlib.axis.YTick at 0x7fa70429c2e8>,\n",
       "  <matplotlib.axis.YTick at 0x7fa704628a20>,\n",
       "  <matplotlib.axis.YTick at 0x7fa7046288d0>,\n",
       "  <matplotlib.axis.YTick at 0x7fa7042aa588>,\n",
       "  <matplotlib.axis.YTick at 0x7fa704054b00>,\n",
       "  <matplotlib.axis.YTick at 0x7fa7121885f8>],\n",
       " <a list of 15 Text yticklabel objects>)"
      ]
     },
     "execution_count": 40,
     "metadata": {},
     "output_type": "execute_result"
    },
    {
     "data": {
      "image/png": "[encoded data removed]",
      "text/plain": [
       "<matplotlib.figure.Figure at 0x7fa7121676d8>"
      ]
     },
     "metadata": {},
     "output_type": "display_data"
    }
   ],
   "source": [
    "plt.barh(pca_range,scores)\n",
    "plt.yticks(pca_range,pca_range)"
   ]
  },
  {
   "cell_type": "markdown",
   "metadata": {
    "collapsed": true
   },
   "source": [
    "# Declare Loss MAPE function"
   ]
  },
  {
   "cell_type": "code",
   "execution_count": 32,
   "metadata": {
    "collapsed": true,
    "scrolled": true
   },
   "outputs": [],
   "source": [
    "from sklearn.metrics import mean_absolute_error,make_scorer\n",
    "from sklearn.model_selection import cross_val_score, GridSearchCV, KFold\n",
    "\n",
    "def mean_absolute_percentage_error(y_true, y_pred): \n",
    "    return np.mean(np.abs((y_true - y_pred) / y_true)) * 100\n",
    "\n",
    "mape_scorer=make_scorer(mean_absolute_percentage_error)"
   ]
  },
  {
   "cell_type": "markdown",
   "metadata": {},
   "source": [
    "# Find best model"
   ]
  },
  {
   "cell_type": "code",
   "execution_count": 33,
   "metadata": {
    "collapsed": true
   },
   "outputs": [],
   "source": [
    "best_model=None\n",
    "best_loss=2.0"
   ]
  },
  {
   "cell_type": "code",
   "execution_count": 34,
   "metadata": {
    "collapsed": true
   },
   "outputs": [],
   "source": [
    "from sklearn.linear_model import SGDRegressor, Lasso, LinearRegression, Ridge, ElasticNet, HuberRegressor, ElasticNetCV,BayesianRidge\n",
    "from sklearn.ensemble import RandomForestRegressor # do not use\n",
    "from xgboost import XGBRegressor # do not use\n",
    "\n",
    "models=[\n",
    "    RandomForestRegressor(),\n",
    "        HuberRegressor(),\n",
    "        ElasticNet(),\n",
    "        LinearRegression(),\n",
    "        Lasso(alpha=0.1, copy_X=True, fit_intercept=True, max_iter=1000,\n",
    "   normalize=False, positive=False, precompute=False, random_state=None,\n",
    "   selection='cyclic', tol=0.0001, warm_start=False),\n",
    "        Lasso(),\n",
    "        SGDRegressor(),\n",
    "        Ridge(alpha=1.0),\n",
    "    BayesianRidge(),\n",
    "       ]"
   ]
  },
  {
   "cell_type": "code",
   "execution_count": 41,
   "metadata": {
    "collapsed": true
   },
   "outputs": [],
   "source": [
    "def cv_score(model,x_train,y_train):\n",
    "    global best_model,best_loss\n",
    "    clf =model\n",
    "#     pca=PCA(15)\n",
    "#     pca_df=pca.fit_transform(df)\n",
    "#     train_pca = df[:df_train.shape[0]]\n",
    "#     test_pca = df[df_train.shape[0]:]\n",
    "    score=cross_val_score(clf, x_train, y_train, cv=5, scoring=mape_scorer).mean()\n",
    "    if score < best_loss:\n",
    "        best_model = clf\n",
    "        best_loss = score\n",
    "    return score"
   ]
  },
  {
   "cell_type": "code",
   "execution_count": 42,
   "metadata": {
    "scrolled": true
   },
   "outputs": [
    {
     "name": "stdout",
     "output_type": "stream",
     "text": [
      "best: 1.1287805452882727\tRandomForestRegressor(bootstrap=True, criterion='mse', max_depth=None,\n",
      "           max_features='auto', max_leaf_nodes=None,\n",
      "           min_impurity_decrease=0.0, min_impurity_split=None,\n",
      "           min_samples_leaf=1, min_samples_split=2,\n",
      "           min_weight_fraction_leaf=0.0, n_estimators=10, n_jobs=1,\n",
      "           oob_score=False, random_state=None, verbose=0, warm_start=False)\n",
      "\n"
     ]
    }
   ],
   "source": [
    "for model in models:\n",
    "    cv_score(model,X_train,df_train.target)\n",
    "print(f'best: {best_loss}\\t{best_model}\\n')"
   ]
  },
  {
   "cell_type": "code",
   "execution_count": null,
   "metadata": {},
   "outputs": [],
   "source": []
  },
  {
   "cell_type": "markdown",
   "metadata": {},
   "source": [
    "# Predict & Submit"
   ]
  },
  {
   "cell_type": "code",
   "execution_count": 44,
   "metadata": {},
   "outputs": [],
   "source": [
    "kfold = KFold(n_splits=20, random_state= 0, shuffle = True)"
   ]
  },
  {
   "cell_type": "code",
   "execution_count": null,
   "metadata": {},
   "outputs": [],
   "source": [
    "clf=RandomForestRegressor()\n",
    "# 1.353714876410685 outliers dropped\n",
    "# 1.1636898483624054 with outliers"
   ]
  },
  {
   "cell_type": "code",
   "execution_count": 46,
   "metadata": {},
   "outputs": [
    {
     "name": "stdout",
     "output_type": "stream",
     "text": [
      "Fitting 20 folds for each of 1 candidates, totalling 20 fits\n"
     ]
    },
    {
     "name": "stderr",
     "output_type": "stream",
     "text": [
      "[Parallel(n_jobs=-1)]: Done  15 out of  20 | elapsed:    4.7s remaining:    1.6s\n",
      "[Parallel(n_jobs=-1)]: Done  20 out of  20 | elapsed:    4.8s finished\n"
     ]
    },
    {
     "name": "stdout",
     "output_type": "stream",
     "text": [
      "Fitting 20 folds for each of 1 candidates, totalling 20 fits\n"
     ]
    },
    {
     "name": "stderr",
     "output_type": "stream",
     "text": [
      "[Parallel(n_jobs=-1)]: Done  15 out of  20 | elapsed:    4.7s remaining:    1.6s\n",
      "[Parallel(n_jobs=-1)]: Done  20 out of  20 | elapsed:    4.8s finished\n"
     ]
    },
    {
     "name": "stdout",
     "output_type": "stream",
     "text": [
      "Fitting 20 folds for each of 1 candidates, totalling 20 fits\n"
     ]
    },
    {
     "name": "stderr",
     "output_type": "stream",
     "text": [
      "[Parallel(n_jobs=-1)]: Done  15 out of  20 | elapsed:    4.7s remaining:    1.6s\n",
      "[Parallel(n_jobs=-1)]: Done  20 out of  20 | elapsed:    4.8s finished\n"
     ]
    },
    {
     "name": "stdout",
     "output_type": "stream",
     "text": [
      "Fitting 20 folds for each of 1 candidates, totalling 20 fits\n"
     ]
    },
    {
     "name": "stderr",
     "output_type": "stream",
     "text": [
      "[Parallel(n_jobs=-1)]: Done  15 out of  20 | elapsed:    4.6s remaining:    1.5s\n",
      "[Parallel(n_jobs=-1)]: Done  20 out of  20 | elapsed:    4.7s finished\n"
     ]
    },
    {
     "name": "stdout",
     "output_type": "stream",
     "text": [
      "Fitting 20 folds for each of 1 candidates, totalling 20 fits\n"
     ]
    },
    {
     "name": "stderr",
     "output_type": "stream",
     "text": [
      "[Parallel(n_jobs=-1)]: Done  15 out of  20 | elapsed:    4.6s remaining:    1.5s\n",
      "[Parallel(n_jobs=-1)]: Done  20 out of  20 | elapsed:    4.7s finished\n"
     ]
    },
    {
     "name": "stdout",
     "output_type": "stream",
     "text": [
      "Fitting 20 folds for each of 1 candidates, totalling 20 fits\n"
     ]
    },
    {
     "name": "stderr",
     "output_type": "stream",
     "text": [
      "[Parallel(n_jobs=-1)]: Done  15 out of  20 | elapsed:    4.6s remaining:    1.5s\n",
      "[Parallel(n_jobs=-1)]: Done  20 out of  20 | elapsed:    4.7s finished\n"
     ]
    },
    {
     "name": "stdout",
     "output_type": "stream",
     "text": [
      "Fitting 20 folds for each of 1 candidates, totalling 20 fits\n"
     ]
    },
    {
     "name": "stderr",
     "output_type": "stream",
     "text": [
      "[Parallel(n_jobs=-1)]: Done  15 out of  20 | elapsed:    4.8s remaining:    1.6s\n",
      "[Parallel(n_jobs=-1)]: Done  20 out of  20 | elapsed:    4.8s finished\n"
     ]
    },
    {
     "name": "stdout",
     "output_type": "stream",
     "text": [
      "Fitting 20 folds for each of 1 candidates, totalling 20 fits\n"
     ]
    },
    {
     "name": "stderr",
     "output_type": "stream",
     "text": [
      "[Parallel(n_jobs=-1)]: Done  15 out of  20 | elapsed:    4.6s remaining:    1.5s\n",
      "[Parallel(n_jobs=-1)]: Done  20 out of  20 | elapsed:    4.7s finished\n"
     ]
    },
    {
     "name": "stdout",
     "output_type": "stream",
     "text": [
      "Fitting 20 folds for each of 1 candidates, totalling 20 fits\n"
     ]
    },
    {
     "name": "stderr",
     "output_type": "stream",
     "text": [
      "[Parallel(n_jobs=-1)]: Done  15 out of  20 | elapsed:    4.6s remaining:    1.5s\n",
      "[Parallel(n_jobs=-1)]: Done  20 out of  20 | elapsed:    4.8s finished\n"
     ]
    },
    {
     "name": "stdout",
     "output_type": "stream",
     "text": [
      "Fitting 20 folds for each of 1 candidates, totalling 20 fits\n"
     ]
    },
    {
     "name": "stderr",
     "output_type": "stream",
     "text": [
      "[Parallel(n_jobs=-1)]: Done  15 out of  20 | elapsed:    4.7s remaining:    1.6s\n",
      "[Parallel(n_jobs=-1)]: Done  20 out of  20 | elapsed:    4.8s finished\n"
     ]
    },
    {
     "data": {
      "text/plain": [
       "1.06248193422518"
      ]
     },
     "execution_count": 46,
     "metadata": {},
     "output_type": "execute_result"
    }
   ],
   "source": [
    "cross_val_score(gsXGB, X_train, df_train.target, cv=5, scoring=mape_scorer).mean()"
   ]
  },
  {
   "cell_type": "code",
   "execution_count": null,
   "metadata": {},
   "outputs": [],
   "source": [
    "clf.fit(train_pca,df_train.target)\n",
    "preds=np.expm1(clf.predict(test_pca))"
   ]
  },
  {
   "cell_type": "code",
   "execution_count": null,
   "metadata": {},
   "outputs": [],
   "source": [
    "sum(n < 0 for n in preds)"
   ]
  },
  {
   "cell_type": "code",
   "execution_count": 49,
   "metadata": {
    "scrolled": true
   },
   "outputs": [
    {
     "name": "stdout",
     "output_type": "stream",
     "text": [
      "Fitting 20 folds for each of 1 candidates, totalling 20 fits\n"
     ]
    },
    {
     "name": "stderr",
     "output_type": "stream",
     "text": [
      "[Parallel(n_jobs=-1)]: Done  15 out of  20 | elapsed:    5.2s remaining:    1.7s\n",
      "[Parallel(n_jobs=-1)]: Done  20 out of  20 | elapsed:    5.3s finished\n"
     ]
    },
    {
     "name": "stdout",
     "output_type": "stream",
     "text": [
      "{'colsample_bytree': 0.7, 'gamma': 0, 'learning_rate': 0.04, 'max_depth': 3, 'min_child_weight': 0.2, 'n_estimators': 870, 'subsample': 0.8}\n"
     ]
    }
   ],
   "source": [
    "XGB = XGBRegressor()\n",
    "\n",
    "xg_param_grid = {\n",
    "              'n_estimators' :[870],\n",
    "              'learning_rate': [0.04],\n",
    "              \n",
    "              'max_depth': [3],\n",
    "              'min_child_weight':[0.2],\n",
    "              \n",
    "              'gamma': [0],\n",
    "                \n",
    "              'subsample':[0.8],\n",
    "              'colsample_bytree':[0.7]\n",
    "    \n",
    "              #'reg_alpha':[0.08,0.09,0.095,0.1,0.15,0.2],\n",
    "              #'reg_lambda':[0,0.001,0.002]\n",
    "              }\n",
    "                \n",
    "gsXGB = GridSearchCV(XGB,param_grid = xg_param_grid, cv=kfold, scoring=\"neg_mean_squared_error\", n_jobs= -1, verbose = 1)\n",
    "\n",
    "gsXGB.fit(\n",
    "    X_train,\n",
    "    df_train.target\n",
    ")\n",
    "XGB_best = gsXGB.best_estimator_\n",
    "print(gsXGB.best_params_)"
   ]
  },
  {
   "cell_type": "code",
   "execution_count": null,
   "metadata": {},
   "outputs": [],
   "source": [
    "elnet = ElasticNetCV(alphas = [0.0001, 0.0003, 0.0005, 0.0008, 0.001, 0.003, 0.007, 0.009, 0.01, 0.03, 0.05, 0.07, 0.09, 0.2, 0.4, 0.6, 0.8, 1, 1.2] \n",
    "                ,l1_ratio = [0.1, 0.3, 0.5, 0.7, 0.9, 1]\n",
    "                ,cv = kfold, random_state = 1, n_jobs = -1)\n",
    "elnet.fit(X_train, df_train.target)\n",
    "alpha = elnet.alpha_\n",
    "ratio = elnet.l1_ratio_\n",
    "print(\"Optimized Alpha:\", alpha)\n",
    "print(\"Optimized l1_ratio:\", ratio)\n",
    "\n",
    "elnet = ElasticNetCV(alphas = alpha * np.linspace(0.5,1.5,20), l1_ratio = ratio * np.linspace(0.9,1.3,6), \n",
    "                     cv = kfold, random_state = 1, n_jobs = -1)\n",
    "elnet.fit(X_train, df_train.target)\n",
    "\n",
    "alpha = elnet.alpha_\n",
    "ratio = elnet.l1_ratio_\n",
    "\n",
    "print(\"Final Alpha:\", alpha)\n",
    "print(\"Final l1_ratio:\", ratio)"
   ]
  },
  {
   "cell_type": "code",
   "execution_count": 50,
   "metadata": {
    "collapsed": true
   },
   "outputs": [],
   "source": [
    "preds = np.expm1(gsXGB.predict(X_test))"
   ]
  },
  {
   "cell_type": "code",
   "execution_count": null,
   "metadata": {
    "collapsed": true
   },
   "outputs": [],
   "source": [
    "preds[preds < 0]=preds.mean()"
   ]
  },
  {
   "cell_type": "code",
   "execution_count": null,
   "metadata": {
    "collapsed": true
   },
   "outputs": [],
   "source": []
  },
  {
   "cell_type": "code",
   "execution_count": null,
   "metadata": {
    "collapsed": true
   },
   "outputs": [],
   "source": [
    "import datetime\n",
    "with open(f'prediction{datetime.datetime.now()}.csv', 'w') as out:\n",
    "    print('Id,Price', file=out)\n",
    "    for pair in enumerate(preds, 1):\n",
    "        print('%i,%d' % pair, file=out)"
   ]
  },
  {
   "cell_type": "code",
   "execution_count": null,
   "metadata": {
    "collapsed": true
   },
   "outputs": [],
   "source": []
  },
  {
   "cell_type": "code",
   "execution_count": null,
   "metadata": {
    "collapsed": true
   },
   "outputs": [],
   "source": [
    "preds[:10]"
   ]
  },
  {
   "cell_type": "markdown",
   "metadata": {
    "collapsed": true
   },
   "source": [
    "![\"Logo Title Text 1\"](https://cdn-images-1.medium.com/max/1000/0*KH3dnbGNcmyV_ODL.png \"Logo Title Text 1\")"
   ]
  },
  {
   "cell_type": "code",
   "execution_count": null,
   "metadata": {
    "collapsed": true
   },
   "outputs": [],
   "source": []
  }
 ],
 "metadata": {
  "kernelspec": {
   "display_name": "Python 3",
   "language": "python",
   "name": "python3"
  },
  "language_info": {
   "codemirror_mode": {
    "name": "ipython",
    "version": 3
   },
   "file_extension": ".py",
   "mimetype": "text/x-python",
   "name": "python",
   "nbconvert_exporter": "python",
   "pygments_lexer": "ipython3",
   "version": "3.6.4"
  }
 },
 "nbformat": 4,
 "nbformat_minor": 2
}
