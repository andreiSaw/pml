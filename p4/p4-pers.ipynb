{
 "cells": [
  {
   "cell_type": "code",
   "execution_count": 1,
   "metadata": {},
   "outputs": [],
   "source": [
    "import warnings\n",
    "import os\n",
    "import numpy as np\n",
    "warnings.filterwarnings('ignore')\n",
    "from sklearn.model_selection import cross_val_score\n",
    "from random import sample,seed\n",
    "import pickle"
   ]
  },
  {
   "cell_type": "code",
   "execution_count": 2,
   "metadata": {},
   "outputs": [],
   "source": [
    "DATA_PATH=\"./\""
   ]
  },
  {
   "cell_type": "code",
   "execution_count": 3,
   "metadata": {},
   "outputs": [
    {
     "data": {
      "text/plain": [
       "(5448512, 4)"
      ]
     },
     "execution_count": 3,
     "metadata": {},
     "output_type": "execute_result"
    }
   ],
   "source": [
    "train_data=np.load(f'{DATA_PATH}train.npy')\n",
    "train_data.shape"
   ]
  },
  {
   "cell_type": "code",
   "execution_count": 4,
   "metadata": {},
   "outputs": [
    {
     "data": {
      "text/plain": [
       "(5448512,)"
      ]
     },
     "execution_count": 4,
     "metadata": {},
     "output_type": "execute_result"
    }
   ],
   "source": [
    "train_y = np.load(f'{DATA_PATH}y_train.npy')\n",
    "train_y.shape"
   ]
  },
  {
   "cell_type": "markdown",
   "metadata": {},
   "source": [
    "# Model selection"
   ]
  },
  {
   "cell_type": "code",
   "execution_count": 5,
   "metadata": {},
   "outputs": [
    {
     "data": {
      "text/plain": [
       "GaussianNB(priors=None, var_smoothing=1e-09)"
      ]
     },
     "execution_count": 5,
     "metadata": {},
     "output_type": "execute_result"
    }
   ],
   "source": [
    "model = pickle.load(open(f'{DATA_PATH}gaus', 'rb'))\n",
    "model"
   ]
  },
  {
   "cell_type": "markdown",
   "metadata": {},
   "source": [
    "# Prediction"
   ]
  },
  {
   "cell_type": "code",
   "execution_count": 6,
   "metadata": {},
   "outputs": [],
   "source": [
    "test_data = np.load(f'{DATA_PATH}test.npy')"
   ]
  },
  {
   "cell_type": "code",
   "execution_count": 7,
   "metadata": {},
   "outputs": [
    {
     "name": "stdout",
     "output_type": "stream",
     "text": [
      "split 5454629 into 311 chunks of 17539 size\n"
     ]
    }
   ],
   "source": [
    "n=len(test_data)\n",
    "k = 17539\n",
    "j=int(n/k)\n",
    "print(f'split {n} into {j} chunks of {k} size')"
   ]
  },
  {
   "cell_type": "code",
   "execution_count": 8,
   "metadata": {},
   "outputs": [],
   "source": [
    "samples=[test_data[k*i:k*(i+1)]for i in range(j)]"
   ]
  },
  {
   "cell_type": "code",
   "execution_count": 9,
   "metadata": {},
   "outputs": [
    {
     "data": {
      "text/plain": [
       "array([[3.781600e+000, 3.074500e+000, 1.235164e-322, 2.074542e-318],\n",
       "       [4.788900e+000, 1.334600e+000, 3.656086e-322, 3.209722e-318],\n",
       "       [3.188000e-001, 4.519500e+000, 3.013800e-322, 3.186911e-318],\n",
       "       ...,\n",
       "       [6.268700e+000, 2.548800e+000, 3.754899e-321, 2.397849e-318],\n",
       "       [8.773500e+000, 6.830700e+000, 3.507866e-322, 2.837384e-318],\n",
       "       [4.949500e+000, 8.405500e+000, 4.001932e-322, 3.510154e-318]])"
      ]
     },
     "execution_count": 9,
     "metadata": {},
     "output_type": "execute_result"
    }
   ],
   "source": [
    "samples[0]"
   ]
  },
  {
   "cell_type": "code",
   "execution_count": 10,
   "metadata": {
    "scrolled": true
   },
   "outputs": [
    {
     "name": "stdout",
     "output_type": "stream",
     "text": [
      "epoch 0\n",
      "epoch 1\n",
      "epoch 2\n",
      "epoch 3\n",
      "epoch 4\n",
      "epoch 5\n",
      "epoch 6\n",
      "epoch 7\n",
      "epoch 8\n",
      "epoch 9\n",
      "epoch 10\n",
      "epoch 11\n",
      "epoch 12\n",
      "epoch 13\n",
      "epoch 14\n",
      "epoch 15\n",
      "epoch 16\n",
      "epoch 17\n",
      "epoch 18\n",
      "epoch 19\n",
      "epoch 20\n",
      "epoch 21\n",
      "epoch 22\n",
      "epoch 23\n",
      "epoch 24\n",
      "epoch 25\n",
      "epoch 26\n",
      "epoch 27\n",
      "epoch 28\n",
      "epoch 29\n",
      "epoch 30\n",
      "epoch 31\n",
      "epoch 32\n",
      "epoch 33\n",
      "epoch 34\n",
      "epoch 35\n",
      "epoch 36\n",
      "epoch 37\n",
      "epoch 38\n",
      "epoch 39\n",
      "epoch 40\n",
      "epoch 41\n",
      "epoch 42\n",
      "epoch 43\n",
      "epoch 44\n",
      "epoch 45\n",
      "epoch 46\n",
      "epoch 47\n",
      "epoch 48\n",
      "epoch 49\n",
      "epoch 50\n",
      "epoch 51\n",
      "epoch 52\n",
      "epoch 53\n",
      "epoch 54\n",
      "epoch 55\n",
      "epoch 56\n",
      "epoch 57\n",
      "epoch 58\n",
      "epoch 59\n",
      "epoch 60\n",
      "epoch 61\n",
      "epoch 62\n",
      "epoch 63\n",
      "epoch 64\n",
      "epoch 65\n",
      "epoch 66\n",
      "epoch 67\n",
      "epoch 68\n",
      "epoch 69\n",
      "epoch 70\n",
      "epoch 71\n",
      "epoch 72\n",
      "epoch 73\n",
      "epoch 74\n",
      "epoch 75\n",
      "epoch 76\n",
      "epoch 77\n",
      "epoch 78\n",
      "epoch 79\n",
      "epoch 80\n",
      "epoch 81\n",
      "epoch 82\n",
      "epoch 83\n",
      "epoch 84\n",
      "epoch 85\n",
      "epoch 86\n",
      "epoch 87\n",
      "epoch 88\n",
      "epoch 89\n",
      "epoch 90\n",
      "epoch 91\n",
      "epoch 92\n",
      "epoch 93\n",
      "epoch 94\n",
      "epoch 95\n",
      "epoch 96\n",
      "epoch 97\n",
      "epoch 98\n",
      "epoch 99\n",
      "epoch 100\n",
      "epoch 101\n",
      "epoch 102\n",
      "epoch 103\n",
      "epoch 104\n",
      "epoch 105\n",
      "epoch 106\n",
      "epoch 107\n",
      "epoch 108\n",
      "epoch 109\n",
      "epoch 110\n",
      "epoch 111\n",
      "epoch 112\n",
      "epoch 113\n",
      "epoch 114\n",
      "epoch 115\n",
      "epoch 116\n",
      "epoch 117\n",
      "epoch 118\n",
      "epoch 119\n",
      "epoch 120\n",
      "epoch 121\n",
      "epoch 122\n",
      "epoch 123\n",
      "epoch 124\n",
      "epoch 125\n",
      "epoch 126\n",
      "epoch 127\n",
      "epoch 128\n",
      "epoch 129\n",
      "epoch 130\n",
      "epoch 131\n",
      "epoch 132\n",
      "epoch 133\n",
      "epoch 134\n",
      "epoch 135\n",
      "epoch 136\n",
      "epoch 137\n",
      "epoch 138\n",
      "epoch 139\n",
      "epoch 140\n",
      "epoch 141\n",
      "epoch 142\n",
      "epoch 143\n",
      "epoch 144\n",
      "epoch 145\n",
      "epoch 146\n",
      "epoch 147\n",
      "epoch 148\n",
      "epoch 149\n",
      "epoch 150\n",
      "epoch 151\n",
      "epoch 152\n",
      "epoch 153\n",
      "epoch 154\n",
      "epoch 155\n",
      "epoch 156\n",
      "epoch 157\n",
      "epoch 158\n",
      "epoch 159\n",
      "epoch 160\n",
      "epoch 161\n",
      "epoch 162\n",
      "epoch 163\n",
      "epoch 164\n",
      "epoch 165\n",
      "epoch 166\n",
      "epoch 167\n",
      "epoch 168\n",
      "epoch 169\n",
      "epoch 170\n",
      "epoch 171\n",
      "epoch 172\n",
      "epoch 173\n",
      "epoch 174\n",
      "epoch 175\n",
      "epoch 176\n",
      "epoch 177\n",
      "epoch 178\n",
      "epoch 179\n",
      "epoch 180\n",
      "epoch 181\n",
      "epoch 182\n",
      "epoch 183\n",
      "epoch 184\n",
      "epoch 185\n",
      "epoch 186\n",
      "epoch 187\n",
      "epoch 188\n",
      "epoch 189\n",
      "epoch 190\n",
      "epoch 191\n",
      "epoch 192\n",
      "epoch 193\n",
      "epoch 194\n",
      "epoch 195\n",
      "epoch 196\n",
      "epoch 197\n",
      "epoch 198\n",
      "epoch 199\n",
      "epoch 200\n",
      "epoch 201\n",
      "epoch 202\n",
      "epoch 203\n",
      "epoch 204\n",
      "epoch 205\n",
      "epoch 206\n",
      "epoch 207\n",
      "epoch 208\n",
      "epoch 209\n",
      "epoch 210\n",
      "epoch 211\n",
      "epoch 212\n",
      "epoch 213\n",
      "epoch 214\n",
      "epoch 215\n",
      "epoch 216\n",
      "epoch 217\n",
      "epoch 218\n",
      "epoch 219\n",
      "epoch 220\n",
      "epoch 221\n",
      "epoch 222\n",
      "epoch 223\n",
      "epoch 224\n",
      "epoch 225\n",
      "epoch 226\n",
      "epoch 227\n",
      "epoch 228\n",
      "epoch 229\n",
      "epoch 230\n",
      "epoch 231\n",
      "epoch 232\n",
      "epoch 233\n",
      "epoch 234\n",
      "epoch 235\n",
      "epoch 236\n",
      "epoch 237\n",
      "epoch 238\n",
      "epoch 239\n",
      "epoch 240\n",
      "epoch 241\n",
      "epoch 242\n",
      "epoch 243\n",
      "epoch 244\n",
      "epoch 245\n",
      "epoch 246\n",
      "epoch 247\n",
      "epoch 248\n",
      "epoch 249\n",
      "epoch 250\n",
      "epoch 251\n",
      "epoch 252\n",
      "epoch 253\n",
      "epoch 254\n",
      "epoch 255\n",
      "epoch 256\n",
      "epoch 257\n",
      "epoch 258\n",
      "epoch 259\n",
      "epoch 260\n",
      "epoch 261\n",
      "epoch 262\n",
      "epoch 263\n",
      "epoch 264\n",
      "epoch 265\n",
      "epoch 266\n",
      "epoch 267\n",
      "epoch 268\n",
      "epoch 269\n",
      "epoch 270\n",
      "epoch 271\n",
      "epoch 272\n",
      "epoch 273\n",
      "epoch 274\n",
      "epoch 275\n",
      "epoch 276\n",
      "epoch 277\n",
      "epoch 278\n",
      "epoch 279\n",
      "epoch 280\n",
      "epoch 281\n",
      "epoch 282\n",
      "epoch 283\n",
      "epoch 284\n",
      "epoch 285\n",
      "epoch 286\n",
      "epoch 287\n",
      "epoch 288\n",
      "epoch 289\n",
      "epoch 290\n",
      "epoch 291\n",
      "epoch 292\n",
      "epoch 293\n",
      "epoch 294\n",
      "epoch 295\n",
      "epoch 296\n",
      "epoch 297\n",
      "epoch 298\n",
      "epoch 299\n",
      "epoch 300\n",
      "epoch 301\n",
      "epoch 302\n",
      "epoch 303\n",
      "epoch 304\n",
      "epoch 305\n",
      "epoch 306\n",
      "epoch 307\n",
      "epoch 308\n",
      "epoch 309\n",
      "epoch 310\n"
     ]
    }
   ],
   "source": [
    "a = []\n",
    "i=0\n",
    "for epoch in samples:\n",
    "    print(f'epoch {i}')\n",
    "    a.extend(model.predict(epoch))\n",
    "    i+=1"
   ]
  },
  {
   "cell_type": "code",
   "execution_count": null,
   "metadata": {
    "scrolled": true
   },
   "outputs": [],
   "source": []
  },
  {
   "cell_type": "code",
   "execution_count": null,
   "metadata": {},
   "outputs": [],
   "source": []
  },
  {
   "cell_type": "code",
   "execution_count": 12,
   "metadata": {},
   "outputs": [],
   "source": [
    "with open('prediction_55.csv', 'w') as out:\n",
    "    print('id,place_id', file=out)\n",
    "    for pair in enumerate(a, 1):\n",
    "        print('%i,%i' % pair, file=out)"
   ]
  },
  {
   "cell_type": "code",
   "execution_count": null,
   "metadata": {},
   "outputs": [],
   "source": []
  },
  {
   "cell_type": "code",
   "execution_count": null,
   "metadata": {},
   "outputs": [],
   "source": []
  },
  {
   "cell_type": "code",
   "execution_count": 38,
   "metadata": {},
   "outputs": [
    {
     "data": {
      "text/plain": [
       "array([0.14934259, 0.1315771 , 0.11767891])"
      ]
     },
     "execution_count": 38,
     "metadata": {},
     "output_type": "execute_result"
    }
   ],
   "source": [
    "t[1,d[1]]"
   ]
  },
  {
   "cell_type": "code",
   "execution_count": null,
   "metadata": {},
   "outputs": [],
   "source": [
    "with open('prediction.csv', 'w') as out:\n",
    "    print('id,place_id', file=out)\n",
    "    for pair in enumerate(ans, 1):\n",
    "        print('%i,%i' % pair, file=out)"
   ]
  },
  {
   "cell_type": "code",
   "execution_count": null,
   "metadata": {},
   "outputs": [],
   "source": []
  }
 ],
 "metadata": {
  "kernelspec": {
   "display_name": "Python 3",
   "language": "python",
   "name": "python3"
  },
  "language_info": {
   "codemirror_mode": {
    "name": "ipython",
    "version": 3
   },
   "file_extension": ".py",
   "mimetype": "text/x-python",
   "name": "python",
   "nbconvert_exporter": "python",
   "pygments_lexer": "ipython3",
   "version": "3.7.2"
  }
 },
 "nbformat": 4,
 "nbformat_minor": 2
}
