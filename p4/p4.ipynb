{
 "cells": [
  {
   "cell_type": "code",
   "execution_count": 1,
   "metadata": {},
   "outputs": [],
   "source": [
    "import warnings\n",
    "import os\n",
    "import numpy as np\n",
    "warnings.filterwarnings('ignore')\n",
    "from sklearn.ensemble import ExtraTreesClassifier,RandomForestClassifier\n",
    "from sklearn.model_selection import cross_val_score\n",
    "from sklearn.naive_bayes import GaussianNB\n",
    "from random import sample,seed\n",
    "import pandas as pd\n",
    "from matplotlib import pyplot as plt"
   ]
  },
  {
   "cell_type": "code",
   "execution_count": 2,
   "metadata": {},
   "outputs": [],
   "source": [
    "DATA_PATH=\"./cmake-build-debug/\""
   ]
  },
  {
   "cell_type": "code",
   "execution_count": 3,
   "metadata": {},
   "outputs": [
    {
     "name": "stdout",
     "output_type": "stream",
     "text": [
      "(5448512,)\n",
      "CPU times: user 32.9 s, sys: 2.99 s, total: 35.9 s\n",
      "Wall time: 36.2 s\n"
     ]
    }
   ],
   "source": [
    "%%time\n",
    "X_train=np.genfromtxt(f'{DATA_PATH}train.csv',delimiter=',',skip_header=1,dtype={'names': ('x', 'y', 'accuracy', 'timestamp','place_id'),\n",
    "                            'formats': ('f8','f8','i8','i8','i8')})\n",
    "print(X_train.shape)"
   ]
  },
  {
   "cell_type": "code",
   "execution_count": 4,
   "metadata": {},
   "outputs": [
    {
     "data": {
      "text/plain": [
       "array([(1.5024, 2.315 ,  65, 322233, 2479523047),\n",
       "       (3.1889, 2.7848,  17, 490777, 9183383116),\n",
       "       (0.0893, 3.7845,  62, 254915, 6838194081), ...,\n",
       "       (6.8051, 1.997 , 172, 118685, 9476803556),\n",
       "       (6.7918, 8.415 ,   8, 337603, 8362160962),\n",
       "       (3.3328, 0.7075,  20,  27079, 2514647860)],\n",
       "      dtype=[('x', '<f8'), ('y', '<f8'), ('accuracy', '<i8'), ('timestamp', '<i8'), ('place_id', '<i8')])"
      ]
     },
     "execution_count": 4,
     "metadata": {},
     "output_type": "execute_result"
    }
   ],
   "source": [
    "X_train"
   ]
  },
  {
   "cell_type": "code",
   "execution_count": 5,
   "metadata": {},
   "outputs": [],
   "source": [
    "train_y = X_train['place_id']"
   ]
  },
  {
   "cell_type": "code",
   "execution_count": 6,
   "metadata": {},
   "outputs": [
    {
     "data": {
      "text/plain": [
       "array([2479523047, 9183383116, 6838194081, ..., 9476803556, 8362160962,\n",
       "       2514647860])"
      ]
     },
     "execution_count": 6,
     "metadata": {},
     "output_type": "execute_result"
    }
   ],
   "source": [
    "train_y"
   ]
  },
  {
   "cell_type": "code",
   "execution_count": 7,
   "metadata": {},
   "outputs": [
    {
     "data": {
      "text/plain": [
       "array([[1.502400e+000, 2.315000e+000, 3.211427e-322, 1.592043e-318],\n",
       "       [3.188900e+000, 2.784800e+000, 8.399116e-323, 2.424761e-318],\n",
       "       [8.930000e-002, 3.784500e+000, 3.063207e-322, 1.259447e-318],\n",
       "       ...,\n",
       "       [6.805100e+000, 1.997000e+000, 8.497929e-322, 5.863818e-319],\n",
       "       [6.791800e+000, 8.415000e+000, 3.952525e-323, 1.667980e-318],\n",
       "       [3.332800e+000, 7.075000e-001, 9.881313e-323, 1.337880e-319]])"
      ]
     },
     "execution_count": 7,
     "metadata": {},
     "output_type": "execute_result"
    }
   ],
   "source": [
    "features = ['x','y','accuracy','timestamp','place_id']\n",
    "\n",
    "train_data = X_train[features].copy()\n",
    "train_data = train_data.view(('<f8', len(train_data.dtype.names)))\n",
    "train_data = np.delete(train_data, 4, 1)  # delete 5th column \n",
    "train_data"
   ]
  },
  {
   "cell_type": "code",
   "execution_count": 8,
   "metadata": {
    "scrolled": true
   },
   "outputs": [],
   "source": [
    "del X_train"
   ]
  },
  {
   "cell_type": "code",
   "execution_count": 15,
   "metadata": {},
   "outputs": [],
   "source": [
    "np.save('train.npy', train_data)\n",
    "np.save('y_train.npy', train_y)"
   ]
  },
  {
   "cell_type": "markdown",
   "metadata": {},
   "source": [
    "# Preprocessing"
   ]
  },
  {
   "cell_type": "code",
   "execution_count": null,
   "metadata": {},
   "outputs": [],
   "source": [
    "size = 40000\n",
    "ixs=sample(range(0, len(train_y)), size)"
   ]
  },
  {
   "cell_type": "code",
   "execution_count": null,
   "metadata": {},
   "outputs": [],
   "source": [
    "X_train=train_data[ixs]\n",
    "# df_train = pd.DataFrame(train_data[ixs],columns=['X','Y','acc','time'])\n",
    "y_train = train_y[ixs]\n",
    "# df_train.head()"
   ]
  },
  {
   "cell_type": "code",
   "execution_count": null,
   "metadata": {},
   "outputs": [],
   "source": [
    "target = np.log(df_train.acc)\n",
    "name='log skew = %s'%target.skew()\n",
    "print(name)\n",
    "# A value closer to 0 means that we have improved the skewness of the data."
   ]
  },
  {
   "cell_type": "code",
   "execution_count": null,
   "metadata": {},
   "outputs": [],
   "source": [
    "plt.subplot(height, width, 2)\n",
    "name='Acc log skew = %s'%target.skew()\n",
    "plt.hist(target)\n",
    "plt.title(name)\n",
    "\n",
    "plt.show()"
   ]
  },
  {
   "cell_type": "code",
   "execution_count": null,
   "metadata": {},
   "outputs": [],
   "source": [
    "target = np.log(df_train.time)\n",
    "name='log skew = %s'%target.skew()\n",
    "print(name)\n",
    "# A value closer to 0 means that we have improved the skewness of the data."
   ]
  },
  {
   "cell_type": "code",
   "execution_count": null,
   "metadata": {},
   "outputs": [],
   "source": [
    "name='Time log skew = %s'%target.skew()\n",
    "plt.hist(target)\n",
    "plt.title(name)\n",
    "\n",
    "plt.show()"
   ]
  },
  {
   "cell_type": "code",
   "execution_count": null,
   "metadata": {},
   "outputs": [],
   "source": [
    "# df_train['target']=target\n",
    "# df_train.drop(['time'],axis=1,inplace=True)\n",
    "# cross_val_score(model,df_train,y_train,cv=5).mean()"
   ]
  },
  {
   "cell_type": "code",
   "execution_count": null,
   "metadata": {},
   "outputs": [],
   "source": []
  },
  {
   "cell_type": "code",
   "execution_count": null,
   "metadata": {},
   "outputs": [],
   "source": [
    "radial_r = np.sqrt( np.power(X_train[:,0],2) + np.power(X_train[:,1],2) )\n",
    "X_train = np.delete(X_train, 0, 1)  # delete 1th column \n",
    "X_train = np.delete(X_train, 0, 1)  # delete 1th column \n",
    "X_train = np.insert(X_train, 0, radial_r, axis=1)"
   ]
  },
  {
   "cell_type": "code",
   "execution_count": null,
   "metadata": {},
   "outputs": [],
   "source": [
    "cross_val_score(model,X_train,y_train,cv=5).mean()"
   ]
  },
  {
   "cell_type": "code",
   "execution_count": null,
   "metadata": {},
   "outputs": [],
   "source": [
    "cross_val_score(model,X_train,y_train,cv=5).mean()"
   ]
  },
  {
   "cell_type": "markdown",
   "metadata": {},
   "source": [
    "# Model selection"
   ]
  },
  {
   "cell_type": "code",
   "execution_count": 9,
   "metadata": {},
   "outputs": [],
   "source": [
    "model = GaussianNB()"
   ]
  },
  {
   "cell_type": "code",
   "execution_count": 12,
   "metadata": {},
   "outputs": [
    {
     "data": {
      "text/plain": [
       "((5448512, 4), (5448512,))"
      ]
     },
     "execution_count": 12,
     "metadata": {},
     "output_type": "execute_result"
    }
   ],
   "source": [
    "train_data.shape, train_y.shape"
   ]
  },
  {
   "cell_type": "markdown",
   "metadata": {},
   "source": [
    "# Training"
   ]
  },
  {
   "cell_type": "code",
   "execution_count": 13,
   "metadata": {},
   "outputs": [
    {
     "name": "stdout",
     "output_type": "stream",
     "text": [
      "epoch 0\n",
      "epoch 1\n",
      "epoch 2\n",
      "epoch 3\n",
      "epoch 4\n",
      "epoch 5\n",
      "epoch 6\n",
      "epoch 7\n",
      "epoch 8\n",
      "epoch 9\n"
     ]
    }
   ],
   "source": [
    "%%time\n",
    "\n",
    "for i in range(10):\n",
    "    print(f'epoch {i}')\n",
    "    model.partial_fit(train_data, train_y,np.unique(train_y))"
   ]
  },
  {
   "cell_type": "code",
   "execution_count": 16,
   "metadata": {},
   "outputs": [],
   "source": [
    "import pickle\n",
    "pickle.dump(model, open(\"gaus\", 'wb'))"
   ]
  },
  {
   "cell_type": "markdown",
   "metadata": {},
   "source": [
    "# Prediction"
   ]
  },
  {
   "cell_type": "code",
   "execution_count": 17,
   "metadata": {},
   "outputs": [
    {
     "name": "stdout",
     "output_type": "stream",
     "text": [
      "(5454629,)\n",
      "CPU times: user 29.3 s, sys: 2.62 s, total: 31.9 s\n",
      "Wall time: 32.2 s\n"
     ]
    }
   ],
   "source": [
    "%%time\n",
    "X_test=np.genfromtxt(f'{DATA_PATH}test.csv',delimiter=',',skip_header=1,dtype={'names': ('x', 'y', 'accuracy', 'timestamp'),\n",
    "                            'formats': ('f8','f8','i8','i8')})\n",
    "print(X_test.shape)"
   ]
  },
  {
   "cell_type": "code",
   "execution_count": 18,
   "metadata": {},
   "outputs": [
    {
     "data": {
      "text/plain": [
       "array([(3.7816, 3.0745, 25, 419892), (4.7889, 1.3346, 74, 649655),\n",
       "       (0.3188, 4.5195, 61, 645038), ..., (9.2777, 8.0165, 77, 492692),\n",
       "       (1.4072, 5.8837, 66, 567104), (8.7906, 3.0338, 65, 644275)],\n",
       "      dtype=[('x', '<f8'), ('y', '<f8'), ('accuracy', '<i8'), ('timestamp', '<i8')])"
      ]
     },
     "execution_count": 18,
     "metadata": {},
     "output_type": "execute_result"
    }
   ],
   "source": [
    "X_test"
   ]
  },
  {
   "cell_type": "code",
   "execution_count": 19,
   "metadata": {},
   "outputs": [],
   "source": [
    "features = ['x','y','accuracy','timestamp']\n",
    "\n",
    "test_data = X_test[features].copy()\n",
    "test_data = test_data.view(('<f8', len(test_data.dtype.names)))"
   ]
  },
  {
   "cell_type": "code",
   "execution_count": 20,
   "metadata": {},
   "outputs": [],
   "source": [
    "del X_test"
   ]
  },
  {
   "cell_type": "code",
   "execution_count": 21,
   "metadata": {},
   "outputs": [],
   "source": [
    "np.save('test.npy', test_data)"
   ]
  },
  {
   "cell_type": "code",
   "execution_count": null,
   "metadata": {},
   "outputs": [],
   "source": [
    "n=len(test_data)\n",
    "k = 17539\n",
    "j=int(n/k)\n",
    "print(f'split {n} into {j} chunks of {k} size')"
   ]
  },
  {
   "cell_type": "code",
   "execution_count": null,
   "metadata": {},
   "outputs": [],
   "source": [
    "samples=[test_data[k*i:k*(i+1)]for i in range(j)]"
   ]
  },
  {
   "cell_type": "code",
   "execution_count": null,
   "metadata": {},
   "outputs": [],
   "source": [
    "samples[0]"
   ]
  },
  {
   "cell_type": "code",
   "execution_count": null,
   "metadata": {
    "scrolled": true
   },
   "outputs": [],
   "source": [
    "ans=[]\n",
    "i=1\n",
    "for epoch in samples:\n",
    "    print(f'epoch {i}')\n",
    "    i+=1\n",
    "    print(np.argsort(model.predict_proba(epoch), axis=1)[-5:])\n",
    "    break"
   ]
  },
  {
   "cell_type": "code",
   "execution_count": null,
   "metadata": {},
   "outputs": [],
   "source": []
  },
  {
   "cell_type": "code",
   "execution_count": null,
   "metadata": {},
   "outputs": [],
   "source": [
    "with open('prediction.csv', 'w') as out:\n",
    "    print('id,place_id', file=out)\n",
    "    for pair in enumerate(ans, 1):\n",
    "        print('%i,%i' % pair, file=out)"
   ]
  },
  {
   "cell_type": "code",
   "execution_count": null,
   "metadata": {},
   "outputs": [],
   "source": [
    "ans"
   ]
  },
  {
   "cell_type": "code",
   "execution_count": null,
   "metadata": {},
   "outputs": [],
   "source": []
  }
 ],
 "metadata": {
  "kernelspec": {
   "display_name": "Python 3",
   "language": "python",
   "name": "python3"
  },
  "language_info": {
   "codemirror_mode": {
    "name": "ipython",
    "version": 3
   },
   "file_extension": ".py",
   "mimetype": "text/x-python",
   "name": "python",
   "nbconvert_exporter": "python",
   "pygments_lexer": "ipython3",
   "version": "3.7.2"
  }
 },
 "nbformat": 4,
 "nbformat_minor": 2
}
