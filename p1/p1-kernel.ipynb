{
 "cells": [
  {
   "cell_type": "markdown",
   "metadata": {
    "_uuid": "bb996c81d07668c86ba8f249738fdba4a99ce841"
   },
   "source": [
    "# P1"
   ]
  },
  {
   "cell_type": "code",
   "execution_count": null,
   "metadata": {
    "_uuid": "bd538824bd9dbe09c80a0fc3d31c9bc23db9c663",
    "collapsed": true
   },
   "outputs": [],
   "source": [
    "import warnings\n",
    "\n",
    "import numpy as np\n",
    "import matplotlib.pyplot as plt\n",
    "\n",
    "from sklearn.decomposition import PCA, SparsePCA\n",
    "from sklearn.neighbors import KNeighborsClassifier\n",
    "from sklearn.utils import shuffle\n",
    "\n",
    "from skimage.exposure import equalize_hist\n",
    "from skimage.filters import gaussian\n",
    "\n",
    "%matplotlib inline\n",
    "\n",
    "warnings.filterwarnings('ignore')"
   ]
  },
  {
   "cell_type": "markdown",
   "metadata": {
    "_uuid": "7a225d477411fe23b9a2b78eba1bdf98fdb47f79"
   },
   "source": [
    "Let's show some images from dataset."
   ]
  },
  {
   "cell_type": "code",
   "execution_count": null,
   "metadata": {
    "_uuid": "d10c2c6d20e38e8f91bcaef6b55b2ba7ba2db23f",
    "collapsed": true
   },
   "outputs": [],
   "source": [
    "size = 80\n",
    "shape =  2 * (size,)\n",
    "\n",
    "X_train, y_train = shuffle(np.load('../../data/pml/x_train.npy'), np.load('../../data/pml/y_train.npy'))\n",
    "X_test = np.load('../../data/pml/x_test.npy')\n",
    "\n",
    "width, height = 2, 2\n",
    "\n",
    "plt.figure(figsize=(8, 10))\n",
    "for n, (image, name) in enumerate(zip(X_train, y_train), 1):\n",
    "    if n > width * height:\n",
    "        break\n",
    "        \n",
    "    plt.subplot(height, width, n)\n",
    "    plt.title(name)\n",
    "    plt.imshow(image.reshape(shape), cmap='gray')"
   ]
  },
  {
   "cell_type": "markdown",
   "metadata": {
    "_uuid": "b67bacc75f414cc0000488227713995e03237409",
    "collapsed": true
   },
   "source": [
    "Define simple image preparing."
   ]
  },
  {
   "cell_type": "code",
   "execution_count": null,
   "metadata": {
    "_uuid": "ef143205ce405aa4c9dee8cbf4c65bd69b82bb36",
    "collapsed": true
   },
   "outputs": [],
   "source": [
    "def prepare(img):\n",
    "    img = img.reshape(shape)\n",
    "    img = equalize_hist(img)\n",
    "    img = gaussian(img, sigma=1)\n",
    "    img - img.mean()\n",
    "    \n",
    "    return img.flatten()\n",
    "    \n",
    "def transform(X):\n",
    "    height, width = X.shape\n",
    "    for i in range(height):\n",
    "        X[i] = prepare(X[i]) \n",
    "        \n",
    "    return X"
   ]
  },
  {
   "cell_type": "code",
   "execution_count": null,
   "metadata": {
    "_uuid": "97db440a878de074d66c7f179f4b16a0fef8cb0c",
    "collapsed": true
   },
   "outputs": [],
   "source": [
    "X_train = transform(X_train)\n",
    "X_test = transform(X_test)"
   ]
  },
  {
   "cell_type": "code",
   "execution_count": null,
   "metadata": {
    "collapsed": true
   },
   "outputs": [],
   "source": [
    "d=np.concatenate((X_train,X_test))\n",
    "d.shape"
   ]
  },
  {
   "cell_type": "code",
   "execution_count": null,
   "metadata": {
    "collapsed": true
   },
   "outputs": [],
   "source": [
    "from sklearn.preprocessing import StandardScaler\n",
    "scaler = StandardScaler()\n",
    "scaler.fit(d)\n",
    "X_train_transform=scaler.transform(X_train)\n",
    "X_test_transform=scaler.transform(X_test)"
   ]
  },
  {
   "cell_type": "markdown",
   "metadata": {
    "_uuid": "a84fcb9accf594b99c6837a9381b8e5fe570f027"
   },
   "source": [
    "Use pca decomposition to reduce the dimensionality."
   ]
  },
  {
   "cell_type": "code",
   "execution_count": null,
   "metadata": {
    "_uuid": "d985ecb3f99dfa00fe7e4fa0cfac174016917450",
    "collapsed": true
   },
   "outputs": [],
   "source": [
    "pca = PCA(n_components=50)\n",
    "pca.fit(np.vstack([X_train_transform, X_test_transform]))"
   ]
  },
  {
   "cell_type": "markdown",
   "metadata": {
    "_uuid": "a947d90c1440c68f97315b74a52def4ce8df9932"
   },
   "source": [
    "Show some components."
   ]
  },
  {
   "cell_type": "code",
   "execution_count": null,
   "metadata": {
    "_uuid": "3ab08401a0b27496d684aebd9f06823d0bb78316",
    "collapsed": true
   },
   "outputs": [],
   "source": [
    "width, height = 8, 8\n",
    "\n",
    "plt.figure(figsize=(16, 20))\n",
    "for n, component in enumerate(pca.components_, 1):\n",
    "    if n > width * height:\n",
    "        break\n",
    "        \n",
    "    plt.subplot(height, width, n)\n",
    "    plt.imshow(component.reshape(shape), cmap='gray')"
   ]
  },
  {
   "cell_type": "markdown",
   "metadata": {
    "_uuid": "770d196e29489b73307285be855eaca8932427db"
   },
   "source": [
    "And in the end we use the nearest neighbors to classify faces."
   ]
  },
  {
   "cell_type": "markdown",
   "metadata": {
    "collapsed": true
   },
   "source": [
    "from sklearn.model_selection import train_test_split,cross_val_score\n",
    "trainX, testX, trainY, testY = train_test_split(X_train, y_train, test_size=0.4, random_state=0)"
   ]
  },
  {
   "cell_type": "code",
   "execution_count": null,
   "metadata": {
    "_uuid": "2bcff33e9e1ed510c6717eac34f886f2db1cb037",
    "collapsed": true
   },
   "outputs": [],
   "source": [
    "classifier = KNeighborsClassifier(n_neighbors=2, p=1.5, metric='minkowski',algorithm= 'auto', leaf_size= 1, n_jobs= -1, weights= 'distance')\n",
    "classifier.fit(pca.transform(X_train_transform), y_train)"
   ]
  },
  {
   "cell_type": "markdown",
   "metadata": {},
   "source": [
    "k_range=['minkowski','cityblock','euclidean','l1','l2','manhattan','cosine']\n",
    "def find_knn(a_train,b_train,a_test,b_test):\n",
    "    k_scores = []\n",
    "    for k in k_range:\n",
    "        print (k)\n",
    "        # 2. run KNeighborsClassifier with k neighbours\n",
    "        clf = KNeighborsClassifier(metric=k,n_neighbors=2,algorithm= 'auto', leaf_size= 1, n_jobs= -1, weights= 'distance')\n",
    "        # 3. obtain cross_val_score for KNeighborsClassifier with k neighbours\n",
    "        scores = cross_val_score(clf, a_train, b_train, cv=10, scoring='accuracy')\n",
    "        k_scores.append(scores.mean())\n",
    "    return k_scores"
   ]
  },
  {
   "cell_type": "code",
   "execution_count": null,
   "metadata": {
    "collapsed": true
   },
   "outputs": [],
   "source": [
    "find_knn(trainX, trainY, testX, testY)"
   ]
  },
  {
   "cell_type": "code",
   "execution_count": null,
   "metadata": {
    "collapsed": true
   },
   "outputs": [],
   "source": []
  },
  {
   "cell_type": "code",
   "execution_count": null,
   "metadata": {
    "_uuid": "892c364a6e356c0960e41753be604bcd5bfee4cb",
    "collapsed": true
   },
   "outputs": [],
   "source": [
    "prediction= classifier.predict(pca.transform(X_test_transform))"
   ]
  },
  {
   "cell_type": "code",
   "execution_count": null,
   "metadata": {
    "_uuid": "bd5f371c21985cb664054b20e635d24a515a35ee",
    "collapsed": true
   },
   "outputs": [],
   "source": [
    "with open('prediction36.csv', 'w') as out:\n",
    "    print('Id,Name', file=out)\n",
    "    for pair in enumerate(prediction, 1):\n",
    "        print('%i,%s' % pair, file=out)"
   ]
  },
  {
   "cell_type": "code",
   "execution_count": null,
   "metadata": {
    "_uuid": "cf2000d1e5aa962f4b07b5e2da49968c14457959",
    "collapsed": true
   },
   "outputs": [],
   "source": []
  }
 ],
 "metadata": {
  "kernelspec": {
   "display_name": "Python 3",
   "language": "python",
   "name": "python3"
  },
  "language_info": {
   "codemirror_mode": {
    "name": "ipython",
    "version": 3
   },
   "file_extension": ".py",
   "mimetype": "text/x-python",
   "name": "python",
   "nbconvert_exporter": "python",
   "pygments_lexer": "ipython3",
   "version": "3.6.4"
  }
 },
 "nbformat": 4,
 "nbformat_minor": 1
}
